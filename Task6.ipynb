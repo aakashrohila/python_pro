{
  "nbformat": 4,
  "nbformat_minor": 0,
  "metadata": {
    "colab": {
      "provenance": []
    },
    "kernelspec": {
      "name": "python3",
      "display_name": "Python 3"
    },
    "language_info": {
      "name": "python"
    }
  },
  "cells": [
    {
      "cell_type": "markdown",
      "source": [
        "Write a Python function that checks whether a passed string is palindrome or not."
      ],
      "metadata": {
        "id": "7CBukmUSGQKD"
      }
    },
    {
      "cell_type": "code",
      "execution_count": 12,
      "metadata": {
        "colab": {
          "base_uri": "https://localhost:8080/"
        },
        "id": "G78F0fppGMJT",
        "outputId": "6eebc4f1-4c28-466f-9315-4e59ba84abe6"
      },
      "outputs": [
        {
          "output_type": "stream",
          "name": "stdout",
          "text": [
            "Entered String is Palindrome\n"
          ]
        }
      ],
      "source": [
        "def pali_checker(word):\n",
        "\n",
        "    word = word.lower()\n",
        "\n",
        "    if word == word[::-1]:\n",
        "        print(\"Entered String is Palindrome\")\n",
        "\n",
        "    else:\n",
        "        print(\"Entered Stiring is not a palindrome\")\n",
        "\n",
        "pali_checker('Madam')"
      ]
    },
    {
      "cell_type": "code",
      "source": [
        "def pali_checker(word):\n",
        "\n",
        "    mt_list = []\n",
        "    for i in word:\n",
        "        mt_list =  [i] + mt_list\n",
        "    \n",
        "    if \"\".join(mt_list) == word:\n",
        "        print(\"yes palindrome\")\n",
        "\n",
        "    else:\n",
        "        print(\"No palindrome\")\n",
        "\n",
        "pali_checker('choc')"
      ],
      "metadata": {
        "colab": {
          "base_uri": "https://localhost:8080/"
        },
        "id": "P2_gI01JGoWC",
        "outputId": "c8d3c22b-c522-4685-e709-390d6329bf34"
      },
      "execution_count": 9,
      "outputs": [
        {
          "output_type": "stream",
          "name": "stdout",
          "text": [
            "No palindrome\n"
          ]
        }
      ]
    },
    {
      "cell_type": "markdown",
      "source": [
        "Write a Python program to compute the product of a list of integers (without using loops).\n",
        "Hint: Use Reduce Function\n"
      ],
      "metadata": {
        "id": "HiNIKscxNXUw"
      }
    },
    {
      "cell_type": "code",
      "source": [
        "from functools import reduce\n",
        "\n",
        "list1 = [1,2,3,4,5,6,7,8]\n",
        "\n",
        "mul = reduce(lambda x,y : x*y , list1)\n",
        "\n",
        "print(mul)"
      ],
      "metadata": {
        "colab": {
          "base_uri": "https://localhost:8080/"
        },
        "id": "ZeVstgC9HIR8",
        "outputId": "397afabb-cbd3-4418-df8c-3d6ccb20a30d"
      },
      "execution_count": 17,
      "outputs": [
        {
          "output_type": "stream",
          "name": "stdout",
          "text": [
            "40320\n"
          ]
        }
      ]
    },
    {
      "cell_type": "markdown",
      "source": [
        "Write a Python program to triple all numbers of a given list of integers. Use Python map."
      ],
      "metadata": {
        "id": "Y1I1eUWvNrID"
      }
    },
    {
      "cell_type": "code",
      "source": [
        "list1 = [1,2,3,4,5,6,7,8]\n",
        "\n",
        "triplet = list(map(lambda x : x*3 , list1))\n",
        "\n",
        "print(triplet)"
      ],
      "metadata": {
        "colab": {
          "base_uri": "https://localhost:8080/"
        },
        "id": "ElJRGLspNjHj",
        "outputId": "90e07c7a-5870-4bb6-8254-62e0c33cd891"
      },
      "execution_count": 15,
      "outputs": [
        {
          "output_type": "stream",
          "name": "stdout",
          "text": [
            "[3, 6, 9, 12, 15, 18, 21, 24]\n"
          ]
        }
      ]
    },
    {
      "cell_type": "markdown",
      "source": [
        "Write a Python program to add three given lists using Python map and lambda."
      ],
      "metadata": {
        "id": "L0xSh_4JN_R-"
      }
    },
    {
      "cell_type": "code",
      "source": [
        "list1 = [1,2,3,4,5,6,7]\n",
        "\n",
        "add_three = list(map(lambda x: x+3 , list1))\n",
        "\n",
        "print(add_three)"
      ],
      "metadata": {
        "colab": {
          "base_uri": "https://localhost:8080/"
        },
        "id": "TZts08zENyie",
        "outputId": "e5e28c95-9728-4463-a54b-a79111fd3088"
      },
      "execution_count": 20,
      "outputs": [
        {
          "output_type": "stream",
          "name": "stdout",
          "text": [
            "[4, 5, 6, 7, 8, 9, 10]\n"
          ]
        }
      ]
    },
    {
      "cell_type": "markdown",
      "source": [
        "https://www.hackerrank.com/challenges/weather-observation-station-20/problem"
      ],
      "metadata": {
        "id": "eQ44lrNvQdDb"
      }
    },
    {
      "cell_type": "code",
      "source": [
        "with sta as (\n",
        "select row_number() over(order by LAT_N) as num , LAT_N\n",
        "from station\n",
        ")\n",
        "select trim(trailing 0 from round(LAT_N,4)) as median\n",
        "from sta\n",
        "where num = (select floor(num/2)+1 from sta order by num desc limit 1) ;"
      ],
      "metadata": {
        "id": "R1hZiGgNOGVI"
      },
      "execution_count": null,
      "outputs": []
    }
  ]
}