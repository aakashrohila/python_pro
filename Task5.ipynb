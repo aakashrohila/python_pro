{
  "nbformat": 4,
  "nbformat_minor": 0,
  "metadata": {
    "colab": {
      "provenance": []
    },
    "kernelspec": {
      "name": "python3",
      "display_name": "Python 3"
    },
    "language_info": {
      "name": "python"
    }
  },
  "cells": [
    {
      "cell_type": "markdown",
      "source": [
        "https://www.hackerrank.com/challenges/itertools-product/problem?isFullScreen=true"
      ],
      "metadata": {
        "id": "NFgNS8VPegfU"
      }
    },
    {
      "cell_type": "code",
      "execution_count": null,
      "metadata": {
        "id": "cLuJVshwec8L"
      },
      "outputs": [],
      "source": [
        "from itertools import product\n",
        "\n",
        "A = input()\n",
        "B = input()\n",
        "\n",
        "list1 = [int(i) for i in A.split()]\n",
        "list2 = [int(i) for i in B.split()]\n",
        "\n",
        "for i in list(product(list1 , list2)):\n",
        "    print(i, end = ' ')"
      ]
    },
    {
      "cell_type": "code",
      "source": [
        "A = input()\n",
        "B = input()\n",
        "\n",
        "list1 = [int(i) for i in A.split()]\n",
        "list2 = [int(i) for i in B.split()]\n",
        "\n",
        "for i in list1:\n",
        "    for j in list2:\n",
        "        print((i,j),end = ' ')\n"
      ],
      "metadata": {
        "id": "4LlzNzyCejce"
      },
      "execution_count": null,
      "outputs": []
    },
    {
      "cell_type": "markdown",
      "source": [
        "https://www.hackerrank.com/challenges/collections-counter/problem?isFullScreen=true"
      ],
      "metadata": {
        "id": "LL9c3DiJeigv"
      }
    },
    {
      "cell_type": "code",
      "source": [
        "from collections import Counter\n",
        "\n",
        "num_shoes = int(input())\n",
        "\n",
        "shoes_size = Counter([int(i) for i in input().split()])\n",
        "\n",
        "num_customer = int(input())\n",
        "\n",
        "list1 = []\n",
        "\n",
        "income = 0\n",
        "\n",
        "for i in range(num_customer):\n",
        "    list1.append([int(i) for i in input().split()])\n",
        "\n",
        "for i in list1:\n",
        "    if i[0] in shoes_size.keys():\n",
        "        if shoes_size[i[0]] > 0:\n",
        "            income = income + i[1]\n",
        "            shoes_size[i[0]] = shoes_size[i[0]] - 1  \n",
        "    \n",
        "print(income)"
      ],
      "metadata": {
        "id": "t7TLFcM6jAF7"
      },
      "execution_count": null,
      "outputs": []
    },
    {
      "cell_type": "markdown",
      "source": [
        "https://www.hackerrank.com/challenges/more-than-75-marks/problem?isFullScreen=true&h_r=next-challenge&h_v=zen"
      ],
      "metadata": {
        "id": "ZebXOm0okpGu"
      }
    },
    {
      "cell_type": "code",
      "source": [
        "select name\n",
        "from students\n",
        "where marks > 75\n",
        "order by right(name,3), ID;"
      ],
      "metadata": {
        "id": "ZT_kuTBWknfH"
      },
      "execution_count": null,
      "outputs": []
    }
  ]
}