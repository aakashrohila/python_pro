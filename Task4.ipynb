{
  "nbformat": 4,
  "nbformat_minor": 0,
  "metadata": {
    "colab": {
      "provenance": []
    },
    "kernelspec": {
      "name": "python3",
      "display_name": "Python 3"
    },
    "language_info": {
      "name": "python"
    }
  },
  "cells": [
    {
      "cell_type": "markdown",
      "source": [
        "Write a Python program to find the second most repeated word in a given string."
      ],
      "metadata": {
        "id": "NPkJtyxtrGVz"
      }
    },
    {
      "cell_type": "code",
      "execution_count": null,
      "metadata": {
        "colab": {
          "base_uri": "https://localhost:8080/"
        },
        "id": "MQhatd32rEgk",
        "outputId": "ecff3ed5-6200-4334-8fd6-bdd8baae7a78"
      },
      "outputs": [
        {
          "output_type": "stream",
          "name": "stdout",
          "text": [
            "('hello', 5)\n"
          ]
        }
      ],
      "source": [
        "str1 = \"hi hello hello hello hi hello hello b b b b b b b b b b b\"\n",
        "\n",
        "str2 = set(str1.split(' '))\n",
        "dict= {}\n",
        "\n",
        "for i in str2:\n",
        " dict[i]  = str1.count(i)\n",
        "\n",
        "print(sorted(dict.items() , key = lambda x : x[1])[1])"
      ]
    },
    {
      "cell_type": "markdown",
      "source": [
        "Write a Python program to calculate the sum of a list of numbers without using sum() function and with the help of recursion."
      ],
      "metadata": {
        "id": "ePEyT27DvAeS"
      }
    },
    {
      "cell_type": "code",
      "source": [
        "def summer(eklist):\n",
        "\n",
        "  if len(eklist) > 1:\n",
        "    return eklist[0] + summer(eklist[1:])\n",
        "\n",
        "  else:\n",
        "    return eklist[0]\n",
        "\n",
        "\n",
        "list1 = [1,2,3,4,5,6,7,8,9]\n",
        "\n",
        "print(summer(list1))"
      ],
      "metadata": {
        "colab": {
          "base_uri": "https://localhost:8080/"
        },
        "id": "Fn5jMJYkrlfu",
        "outputId": "beb9beba-0bb8-4f22-80ae-55654349463a"
      },
      "execution_count": null,
      "outputs": [
        {
          "output_type": "stream",
          "name": "stdout",
          "text": [
            "45\n"
          ]
        }
      ]
    },
    {
      "cell_type": "code",
      "source": [
        "li = [12,45,78,125,56,100]\n",
        "\n",
        "sum =0\n",
        "\n",
        "def add(n):\n",
        "  if n ==-1:\n",
        "    return 0\n",
        "  else:\n",
        "    sum = li[n]+ add(n-1)\n",
        "    return sum\n",
        "\n",
        "n =len(li)-1\n",
        "\n",
        "print(add(n))"
      ],
      "metadata": {
        "colab": {
          "base_uri": "https://localhost:8080/"
        },
        "id": "8cFO-POqD8iU",
        "outputId": "41fe8d50-8c6b-4d05-a103-b676d3f15ccc"
      },
      "execution_count": 1,
      "outputs": [
        {
          "output_type": "stream",
          "name": "stdout",
          "text": [
            "416\n"
          ]
        }
      ]
    },
    {
      "cell_type": "markdown",
      "source": [
        "Write two python program to convert decimal to hexadecimal with the help of format() function and without the help of format() function"
      ],
      "metadata": {
        "id": "csB4VzyFzzsC"
      }
    },
    {
      "cell_type": "code",
      "source": [
        "number  = 1234\n",
        "hex = format(number , 'X')\n",
        "print(hex)\n",
        "print(int(hex , 16))"
      ],
      "metadata": {
        "colab": {
          "base_uri": "https://localhost:8080/"
        },
        "id": "-QeAE9sAvwUp",
        "outputId": "1d1c885f-033d-43cc-d67f-347aa8244f14"
      },
      "execution_count": null,
      "outputs": [
        {
          "output_type": "stream",
          "name": "stdout",
          "text": [
            "4D2\n",
            "1234\n"
          ]
        }
      ]
    },
    {
      "cell_type": "code",
      "source": [
        "def hexxer(num):\n",
        "    list1 = []\n",
        "    dict1 = {10:'A' , 11 : 'B', 12 : 'C', 13: 'D' , 14 : 'E' , 15 : 'F'}\n",
        "\n",
        "    while(num > 0):\n",
        "        rem = num%16\n",
        "        \n",
        "     \n",
        "        if(rem < 10):\n",
        "            list1.append(rem)\n",
        "        \n",
        "        else:\n",
        "            list1.append(dict1[rem])\n",
        "\n",
        "        num = int(num/16)\n",
        "    hexnum = [str(i) for i in list1[::-1]]\n",
        "\n",
        "\n",
        "    print(''.join(hexnum))\n",
        "\n",
        "hexxer(1234)"
      ],
      "metadata": {
        "colab": {
          "base_uri": "https://localhost:8080/"
        },
        "id": "jNFaDlSQ0TI0",
        "outputId": "3500d135-ff86-4145-8b8e-35bf072d7c29"
      },
      "execution_count": null,
      "outputs": [
        {
          "output_type": "stream",
          "name": "stdout",
          "text": [
            "4D2\n"
          ]
        }
      ]
    },
    {
      "cell_type": "markdown",
      "source": [
        "https://www.hackerrank.com/challenges/weather-observation-station-11/submissions/code/306626688"
      ],
      "metadata": {
        "id": "6ikIQwTra4Wl"
      }
    },
    {
      "cell_type": "code",
      "source": [
        "select distinct(city)\n",
        "from station \n",
        "where (left(city,1) not in ('a','e','i','o','u')) or (right(city,1) not in ('a','e','i','o','u'))"
      ],
      "metadata": {
        "id": "JdBKhp-w8uUN"
      },
      "execution_count": 1,
      "outputs": []
    },
    {
      "cell_type": "markdown",
      "source": [
        "https://www.hackerrank.com/challenges/weather-observation-station-12/problem?isFullScreen=true"
      ],
      "metadata": {
        "id": "tXmbxfZEbKWC"
      }
    },
    {
      "cell_type": "code",
      "source": [
        "select distinct(city)\n",
        "from station \n",
        "where (left(city,1) not in ('a','e','i','o','u')) and (right(city,1) not in ('a','e','i','o','u'))"
      ],
      "metadata": {
        "id": "32cjOSfR8x2G"
      },
      "execution_count": null,
      "outputs": []
    }
  ]
}