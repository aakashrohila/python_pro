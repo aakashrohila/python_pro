{
  "nbformat": 4,
  "nbformat_minor": 0,
  "metadata": {
    "colab": {
      "provenance": [],
      "authorship_tag": "ABX9TyOEa3lBGAHOzNDeSK+k16J8",
      "include_colab_link": true
    },
    "kernelspec": {
      "name": "python3",
      "display_name": "Python 3"
    },
    "language_info": {
      "name": "python"
    }
  },
  "cells": [
    {
      "cell_type": "markdown",
      "metadata": {
        "id": "view-in-github",
        "colab_type": "text"
      },
      "source": [
        "<a href=\"https://colab.research.google.com/github/aakashrohila/python_pro/blob/master/OOPS_Based_Assignment.ipynb\" target=\"_parent\"><img src=\"https://colab.research.google.com/assets/colab-badge.svg\" alt=\"Open In Colab\"/></a>"
      ]
    },
    {
      "cell_type": "markdown",
      "source": [
        "Create a Vehicle class without any variables and methods"
      ],
      "metadata": {
        "id": "UQ3Pc9HozScj"
      }
    },
    {
      "cell_type": "code",
      "execution_count": null,
      "metadata": {
        "id": "p2kHdnkixP79"
      },
      "outputs": [],
      "source": [
        "class Vehicle:\n",
        "  pass\n"
      ]
    },
    {
      "cell_type": "markdown",
      "source": [
        "Create a child class Bus that will inherit all of the variables and methods of the Vehicle class"
      ],
      "metadata": {
        "id": "NaRdebrK0u8R"
      }
    },
    {
      "cell_type": "code",
      "source": [
        "class Vehicle:\n",
        "\n",
        "  def __init__(self):\n",
        "    self.name = input(\"Enter Name of Vehicle: \")\n",
        "\n",
        "  def engine(self,engine):\n",
        "    pass\n",
        "\n",
        "  def body(self):\n",
        "    pass\n",
        "\n",
        "class Electric_car(Vehicle):\n",
        "\n",
        "  def __init__(self):\n",
        "    self.battery = 'initalize'\n",
        "    print(self.battery)\n",
        "\n",
        "  def touch_screen_Dash(self):\n",
        "    pass\n",
        "\n",
        "e = Electric_car()\n",
        "\n",
        "v = Vehicle()"
      ],
      "metadata": {
        "colab": {
          "base_uri": "https://localhost:8080/"
        },
        "id": "UQ4fjIaD0vnu",
        "outputId": "55fd5d22-fcd3-46e9-8a86-f90950b1ad16"
      },
      "execution_count": null,
      "outputs": [
        {
          "name": "stdout",
          "output_type": "stream",
          "text": [
            "initalize\n",
            "Enter Name of Vehicle: BMW\n"
          ]
        }
      ]
    },
    {
      "cell_type": "markdown",
      "source": [
        "Write a Program to create a class by name Students, and initialize attributes like name, age, and grade while creating an object."
      ],
      "metadata": {
        "id": "MKR0DoSa45fI"
      }
    },
    {
      "cell_type": "code",
      "source": [
        "class Students:\n",
        "\n",
        "  def __init__(self,name,age,grade):\n",
        "    self.name = name\n",
        "    self.age = age\n",
        "    self.grade = grade\n",
        "\n",
        "\n",
        "s = Students(\"Aakash\",21,\"A+\")\n",
        "print(s.name,s.age,s.grade)"
      ],
      "metadata": {
        "colab": {
          "base_uri": "https://localhost:8080/"
        },
        "id": "Of6jsBY241x-",
        "outputId": "a3f8299a-bfc9-4752-fd02-44aa165edcac"
      },
      "execution_count": null,
      "outputs": [
        {
          "output_type": "stream",
          "name": "stdout",
          "text": [
            "Aakash 21 A+\n"
          ]
        }
      ]
    },
    {
      "cell_type": "markdown",
      "source": [
        "Write a Program to create a valid empty class by name Students, with no properties"
      ],
      "metadata": {
        "id": "X9-gY3Vh5fNh"
      }
    },
    {
      "cell_type": "code",
      "source": [
        "class Students:\n",
        "  pass"
      ],
      "metadata": {
        "id": "84XkRXQM5VgJ"
      },
      "execution_count": null,
      "outputs": []
    },
    {
      "cell_type": "markdown",
      "source": [
        "Write a program to create a child class Teacher that will inherit the properties of Parent class Staff"
      ],
      "metadata": {
        "id": "iMdSD0925mUk"
      }
    },
    {
      "cell_type": "code",
      "source": [
        "class Staff:\n",
        "\n",
        "  def __init__(self,name,age,expertise):\n",
        "    self.name = name\n",
        "    self.age = age\n",
        "    self.expertise = expertise\n",
        "\n",
        "class Teacher(Staff):\n",
        "\n",
        "  def __init__(self,name,age,expertise,Class):\n",
        "    super().__init__(name,age,expertise)\n",
        "    self.Class = Class\n",
        "    \n",
        "\n",
        "t = Teacher(\"Aakash\",21,\"Physics\",\"10th\")\n"
      ],
      "metadata": {
        "id": "VNAvc7XJ5jLT"
      },
      "execution_count": null,
      "outputs": []
    },
    {
      "cell_type": "code",
      "source": [
        "t.age"
      ],
      "metadata": {
        "colab": {
          "base_uri": "https://localhost:8080/"
        },
        "id": "FJMCt2uc6LpK",
        "outputId": "a13f795b-3365-40cb-a0e2-da17dffc2259"
      },
      "execution_count": null,
      "outputs": [
        {
          "output_type": "execute_result",
          "data": {
            "text/plain": [
              "21"
            ]
          },
          "metadata": {},
          "execution_count": 25
        }
      ]
    },
    {
      "cell_type": "markdown",
      "source": [
        "Write a Python program that checks if one class is a subclass of another."
      ],
      "metadata": {
        "id": "4VYHz2AO7roX"
      }
    },
    {
      "cell_type": "code",
      "source": [
        "class A:\n",
        "  pass\n",
        "\n",
        "class B(A):\n",
        "  pass\n",
        "\n",
        "issubclass(B,A)"
      ],
      "metadata": {
        "id": "5SIlMdbR7ucx",
        "colab": {
          "base_uri": "https://localhost:8080/"
        },
        "outputId": "261c3382-de8e-4e20-d919-63cc943ea921"
      },
      "execution_count": null,
      "outputs": [
        {
          "output_type": "execute_result",
          "data": {
            "text/plain": [
              "True"
            ]
          },
          "metadata": {},
          "execution_count": 1
        }
      ]
    },
    {
      "cell_type": "markdown",
      "source": [
        "Write a Program to create a class and, using the class instance, print all the writable attributes of that object."
      ],
      "metadata": {
        "id": "ptmZp58jfDtu"
      }
    },
    {
      "cell_type": "code",
      "source": [
        "class Human:\n",
        "  \n",
        "  def __init__(self,name,age,height,weight):\n",
        "    self.name = name\n",
        "    self.age = age\n",
        "    self.height = height\n",
        "    self.weight = weight\n",
        "\n",
        "\n",
        "h = Human(\"Aakash\",21,\"167cm\",\"55kg\")\n",
        "\n",
        "print(\"Name :\",h.name)\n",
        "print(\"Age :\",h.age)\n",
        "print(\"Height :\",h.height)\n",
        "print(\"Weight :\",h.weight)"
      ],
      "metadata": {
        "colab": {
          "base_uri": "https://localhost:8080/"
        },
        "id": "i8DFQFTWfDXK",
        "outputId": "259926ca-6f05-4a51-faf1-216230d42d8c"
      },
      "execution_count": null,
      "outputs": [
        {
          "output_type": "stream",
          "name": "stdout",
          "text": [
            "Name : Aakash\n",
            "Age : 21\n",
            "Height : 167cm\n",
            "Weight : 55kg\n"
          ]
        }
      ]
    },
    {
      "cell_type": "markdown",
      "source": [
        "Create a class Teacher with name, age, and salary attributes, where salary must be a private attribute that cannot be accessed outside the class."
      ],
      "metadata": {
        "id": "sb5JTZJTgGfM"
      }
    },
    {
      "cell_type": "code",
      "source": [
        "class Teacher:\n",
        "\n",
        "  def __init__(self,name,age,salary):\n",
        "    self.name = name\n",
        "    self.age = age\n",
        "    self.__salary = salary\n",
        "\n",
        "\n",
        "t = Teacher(\"Aakash\",21,1000)\n",
        "\n",
        "print(t.name)\n",
        "print(t.age)\n"
      ],
      "metadata": {
        "colab": {
          "base_uri": "https://localhost:8080/",
          "height": 241
        },
        "id": "OYlWOpsUfy7l",
        "outputId": "b90baf2c-7b48-4208-e883-fc0e5aa9cd31"
      },
      "execution_count": null,
      "outputs": [
        {
          "output_type": "stream",
          "name": "stdout",
          "text": [
            "Aakash\n",
            "21\n"
          ]
        },
        {
          "output_type": "error",
          "ename": "AttributeError",
          "evalue": "ignored",
          "traceback": [
            "\u001b[0;31m---------------------------------------------------------------------------\u001b[0m",
            "\u001b[0;31mAttributeError\u001b[0m                            Traceback (most recent call last)",
            "\u001b[0;32m<ipython-input-7-118e78d0d823>\u001b[0m in \u001b[0;36m<module>\u001b[0;34m\u001b[0m\n\u001b[1;32m     11\u001b[0m \u001b[0mprint\u001b[0m\u001b[0;34m(\u001b[0m\u001b[0mt\u001b[0m\u001b[0;34m.\u001b[0m\u001b[0mname\u001b[0m\u001b[0;34m)\u001b[0m\u001b[0;34m\u001b[0m\u001b[0;34m\u001b[0m\u001b[0m\n\u001b[1;32m     12\u001b[0m \u001b[0mprint\u001b[0m\u001b[0;34m(\u001b[0m\u001b[0mt\u001b[0m\u001b[0;34m.\u001b[0m\u001b[0mage\u001b[0m\u001b[0;34m)\u001b[0m\u001b[0;34m\u001b[0m\u001b[0;34m\u001b[0m\u001b[0m\n\u001b[0;32m---> 13\u001b[0;31m \u001b[0mprint\u001b[0m\u001b[0;34m(\u001b[0m\u001b[0mt\u001b[0m\u001b[0;34m.\u001b[0m\u001b[0m__salary\u001b[0m\u001b[0;34m)\u001b[0m\u001b[0;34m\u001b[0m\u001b[0;34m\u001b[0m\u001b[0m\n\u001b[0m",
            "\u001b[0;31mAttributeError\u001b[0m: 'Teacher' object has no attribute '__salary'"
          ]
        }
      ]
    },
    {
      "cell_type": "markdown",
      "source": [
        "Write a Python program to create an instance of a specified class and display the namespace of the said instance\n",
        "\n",
        "\n"
      ],
      "metadata": {
        "id": "-pHfxjLkg23l"
      }
    },
    {
      "cell_type": "code",
      "source": [
        "class Human:\n",
        "  \n",
        "  def __init__(self,name,age,height,weight):\n",
        "    self.name = name\n",
        "    self.age = age\n",
        "    self.height = height\n",
        "    self.weight = weight\n",
        "\n",
        "h = Human(\"Aakash\",21,\"167cm\",\"55Kg\")\n",
        "\n",
        "print(h.__dict__)"
      ],
      "metadata": {
        "colab": {
          "base_uri": "https://localhost:8080/"
        },
        "id": "P0Hqp-y6goD_",
        "outputId": "bdfa4538-aa68-496d-82a7-bd7d3b1a1e79"
      },
      "execution_count": null,
      "outputs": [
        {
          "output_type": "stream",
          "name": "stdout",
          "text": [
            "{'name': 'Aakash', 'age': 21, 'height': '167cm', 'weight': '55Kg'}\n"
          ]
        }
      ]
    },
    {
      "cell_type": "markdown",
      "source": [
        " Define a Python function student(). Using function attributes display the names of all arguments\n",
        ":"
      ],
      "metadata": {
        "id": "oAuKQ9S6iDvj"
      }
    },
    {
      "cell_type": "code",
      "source": [
        "def student(name,age,std,grade):\n",
        "  print(\"Name:\",name)\n",
        "  print(\"Age: \",age)\n",
        "  print(\"Std: \",std)\n",
        "  print(\"Grade: \",grade)\n",
        "\n",
        "\n",
        "student(\"Aakash\",21,\"10th\",\"A\")"
      ],
      "metadata": {
        "colab": {
          "base_uri": "https://localhost:8080/"
        },
        "id": "sBoxcmCHh4qw",
        "outputId": "5e74636d-0981-4f67-8570-c43cf19248b2"
      },
      "execution_count": null,
      "outputs": [
        {
          "output_type": "stream",
          "name": "stdout",
          "text": [
            "Name: Aakash\n",
            "Age:  21\n",
            "Std:  10th\n",
            "Grade:  A\n"
          ]
        }
      ]
    },
    {
      "cell_type": "markdown",
      "source": [
        "Write a Python function student_data () which will print the id of a student (student_id). If the user passes an argument student_name or student_class the function will print the student name and class. "
      ],
      "metadata": {
        "id": "I8xJlgAxjkKs"
      }
    },
    {
      "cell_type": "code",
      "source": [
        "def student_data(student_id,**dicto):\n",
        "  if student_id != 0:\n",
        "    print(\"Student ID :\",student_id)\n",
        "\n",
        "  if 'student_name' in dicto :\n",
        "    print(\"Student Name :\",dicto['student_name'])\n",
        "\n",
        "  if 'student_class' in dicto:\n",
        "    print(\"Student Class :\",dicto['student_class'])\n",
        "\n",
        "student_data(123,student_name = 'Aakash',student_class = 'CDAC')\n",
        "print(\"-----------\")\n",
        "student_data(146,student_name = 'Amar Sir')"
      ],
      "metadata": {
        "colab": {
          "base_uri": "https://localhost:8080/"
        },
        "id": "n7hAqZdajUoc",
        "outputId": "3c9693da-2af5-40ff-9294-54fa272c22e3"
      },
      "execution_count": null,
      "outputs": [
        {
          "output_type": "stream",
          "name": "stdout",
          "text": [
            "Student ID : 123\n",
            "Student Name : Aakash\n",
            "Student Class : CDAC\n",
            "-----------\n",
            "Student ID : 146\n",
            "Student Name : Amar Sir\n"
          ]
        }
      ]
    },
    {
      "cell_type": "markdown",
      "source": [
        "Write a simple Python class named Student and display its type. Also, display the __dict__ attribute keys and the value of the __module__ attribute of the Student class."
      ],
      "metadata": {
        "id": "-9tqKsTJBwrU"
      }
    },
    {
      "cell_type": "code",
      "source": [
        "class Student:\n",
        "  \n",
        "  def __init__(self,name,age):\n",
        "    self.name = name\n",
        "    self.age = age\n",
        "\n",
        "print(type(Student))\n",
        "s = Student(\"Aakash\",21)\n",
        "\n",
        "print(s.__dict__)\n",
        "print(s.__module__)"
      ],
      "metadata": {
        "id": "VWP8xcsojfMS",
        "colab": {
          "base_uri": "https://localhost:8080/"
        },
        "outputId": "f2b5bead-021a-41e4-bf8e-b25c6084188c"
      },
      "execution_count": 3,
      "outputs": [
        {
          "output_type": "stream",
          "name": "stdout",
          "text": [
            "<class 'type'>\n",
            "{'name': 'Aakash', 'age': 21}\n",
            "__main__\n"
          ]
        }
      ]
    },
    {
      "cell_type": "markdown",
      "source": [
        "Write a Python program to create two empty classes, Student and Marks. Now create some instances and check whether they are instances of the said classes or not. Also, check whether the said classes are subclasses of the built-in object class or not."
      ],
      "metadata": {
        "id": "LrkDse5pEyS-"
      }
    },
    {
      "cell_type": "code",
      "source": [
        "class Student:\n",
        "  pass\n",
        "\n",
        "class Marks:\n",
        "  pass\n",
        "\n",
        "s = Student()\n",
        "m = Marks()\n",
        "\n",
        "print(isinstance(s,Student))\n",
        "print(isinstance(m,Marks))"
      ],
      "metadata": {
        "colab": {
          "base_uri": "https://localhost:8080/"
        },
        "id": "csPay030CHd2",
        "outputId": "6dc02c9b-1511-422b-b8b7-090d36de988a"
      },
      "execution_count": 6,
      "outputs": [
        {
          "output_type": "stream",
          "name": "stdout",
          "text": [
            "True\n",
            "True\n"
          ]
        }
      ]
    },
    {
      "cell_type": "markdown",
      "source": [
        " Write a Python class named Student with two attributes: student_name, marks. Modify the attribute values of the said class and print the original and modified values of the said attributes."
      ],
      "metadata": {
        "id": "qliinhapFeQy"
      }
    },
    {
      "cell_type": "code",
      "source": [
        "class Student:\n",
        "\n",
        "  def __init__(self,student_name,marks):\n",
        "    self.student_name = student_name\n",
        "    self.marks = marks\n",
        "\n",
        "print(\"Original Value:\")\n",
        "s = Student(\"Aakash\",90)\n",
        "\n",
        "print(s.student_name, s.marks)\n",
        "\n",
        "print(\"Updated Value:\")\n",
        "s.student_name = \"Amar Sir\"\n",
        "s.marks = 100\n",
        "\n",
        "print(s.student_name,s.marks)"
      ],
      "metadata": {
        "colab": {
          "base_uri": "https://localhost:8080/"
        },
        "id": "GGXEPyqbFSIE",
        "outputId": "48d39967-46de-457c-a30e-09875bb40dc4"
      },
      "execution_count": 8,
      "outputs": [
        {
          "output_type": "stream",
          "name": "stdout",
          "text": [
            "Original Value:\n",
            "Aakash 90\n",
            "Updated Value:\n",
            "Amar Sir 100\n"
          ]
        }
      ]
    },
    {
      "cell_type": "markdown",
      "source": [
        "Write a Python class named Student with two attributes student_id, student_name. Add a new attribute student_class and display the entire attribute and their values of the said class. Now remove the student_name attribute and display the entire attribute with values"
      ],
      "metadata": {
        "id": "e0Qmq55yIsmb"
      }
    },
    {
      "cell_type": "code",
      "source": [
        "class Student:\n",
        "\n",
        "  def __init__(self,student_id,student_name):\n",
        "    self.student_id = student_id\n",
        "    self.student_name = student_name\n",
        "\n",
        "s = Student(1234,\"Aakash\")\n",
        "print(s.__dict__)\n",
        "\n",
        "print(\"Adding new attribute: \")\n",
        "setattr(s,'grade','A')\n",
        "print(s.__dict__)\n",
        "\n",
        "print(\"Removing Attribute: \")\n",
        "del s.student_id\n",
        "print(s.__dict__)"
      ],
      "metadata": {
        "colab": {
          "base_uri": "https://localhost:8080/"
        },
        "id": "dp8U1a0DIi7u",
        "outputId": "38a07860-5f62-4728-e65e-17f4a5ecf8f5"
      },
      "execution_count": 12,
      "outputs": [
        {
          "output_type": "stream",
          "name": "stdout",
          "text": [
            "{'student_id': 1234, 'student_name': 'Aakash'}\n",
            "Adding new attribute: \n",
            "{'student_id': 1234, 'student_name': 'Aakash', 'grade': 'A'}\n",
            "Removing Attribute: \n",
            "{'student_name': 'Aakash', 'grade': 'A'}\n"
          ]
        }
      ]
    },
    {
      "cell_type": "markdown",
      "source": [
        "Write a Python class named Student with two attributes student_id, student_name. Add a new attribute student_class. Create a function to display the entire attribute and their values in Student class.\n"
      ],
      "metadata": {
        "id": "BHM-7P54KZtX"
      }
    },
    {
      "cell_type": "code",
      "source": [
        "class Student:\n",
        "\n",
        "  def __init__(self,student_id,student_name):\n",
        "    self.student_id = student_id\n",
        "    self.student_name = student_name\n",
        "\n",
        "  def display_attr(self):\n",
        "    print(\"Displaying all attributes\")\n",
        "    print(self.__dict__)\n",
        "\n",
        "\n",
        "s = Student(1234,\"Aakash\")\n",
        "s.display_attr()\n",
        "\n",
        "setattr(s,\"student_class\",\"DBDA\")\n",
        "\n",
        "s.display_attr()"
      ],
      "metadata": {
        "colab": {
          "base_uri": "https://localhost:8080/"
        },
        "id": "7Z8hl2KFJkRv",
        "outputId": "5b25de26-a4b0-411c-dd64-2684bc20c263"
      },
      "execution_count": 15,
      "outputs": [
        {
          "output_type": "stream",
          "name": "stdout",
          "text": [
            "Displaying all attributes\n",
            "{'student_id': 1234, 'student_name': 'Aakash'}\n",
            "Displaying all attributes\n",
            "{'student_id': 1234, 'student_name': 'Aakash', 'student_class': 'DBDA'}\n"
          ]
        }
      ]
    },
    {
      "cell_type": "markdown",
      "source": [
        "Write a Python class named Student with two instances student1, student2 and assign given values to the said instances attributes. Print all the attributes of student1, student2 instances with their values in the given format"
      ],
      "metadata": {
        "id": "Jx_VlLKBLzKK"
      }
    },
    {
      "cell_type": "code",
      "source": [
        "class Student:\n",
        "\n",
        "  def __init__(self,student_name,student_id):\n",
        "    self.student_name = student_name\n",
        "    self.student_id = student_id\n",
        "\n",
        "student1 = Student(\"Aakash\",1234)\n",
        "student2 = Student(\"Amar Sir\",1111)\n",
        "\n",
        "print(vars(student1))\n",
        "print(vars(student2))"
      ],
      "metadata": {
        "colab": {
          "base_uri": "https://localhost:8080/"
        },
        "id": "UTgaqCulLofi",
        "outputId": "98a3186f-41a7-4bbc-c538-c1e78e9dde5b"
      },
      "execution_count": 16,
      "outputs": [
        {
          "output_type": "stream",
          "name": "stdout",
          "text": [
            "{'student_name': 'Aakash', 'student_id': 1234}\n",
            "{'student_name': 'Amar Sir', 'student_id': 1111}\n"
          ]
        }
      ]
    },
    {
      "cell_type": "markdown",
      "source": [
        "Write a Python class to find the validity of a string of parentheses, '(', ')', '{', '}', '[' and ']. These brackets must be closed in the correct order, for example \"()\" and \"()[]{}\" are valid but \"[)\", \"({[)]\" and \"{{{\" are invalid."
      ],
      "metadata": {
        "id": "-d95LZVnMy9a"
      }
    },
    {
      "cell_type": "code",
      "source": [
        "class Validity:\n",
        "\n",
        "  c_flag = 0\n",
        "  s_flag = 0\n",
        "  cu_flag = 0\n",
        "\n",
        "  c_count_open = 0\n",
        "  c_count_close = 0\n",
        "\n",
        "  s_count_open = 0\n",
        "  s_count_close = 0  \n",
        "  \n",
        "  cu_count_open = 0\n",
        "  cu_count_close = 0\n",
        "\n",
        "  cool = 0\n",
        "\n",
        "  def __init__(self,word):\n",
        "\n",
        "    self.reset()\n",
        "    self.flow = [i for i in word]\n",
        "    if len(self.flow)%2 == 0:\n",
        "      \n",
        "      for i in self.flow:\n",
        "      \n",
        "      #Start of For \n",
        "        #1\n",
        "        if i==')' and Validity.c_flag==0:\n",
        "          break\n",
        "        elif i=='(':\n",
        "          Validity.c_flag = 1\n",
        "          Validity.c_count_open += 1\n",
        "        \n",
        "        elif i==')':\n",
        "          Validity.c_count_close += 1\n",
        "\n",
        " \n",
        "        #2\n",
        "        if i==']' and Validity.s_flag==0:\n",
        "          break\n",
        "        elif i=='[':\n",
        "          Validity.s_flag = 1\n",
        "          Validity.s_count_open += 1\n",
        "        \n",
        "        elif i==']':\n",
        "          Validity.s_count_close += 1\n",
        "\n",
        "        #3\n",
        "        if i=='}' and Validity.cu_flag==0:\n",
        "          break\n",
        "        elif i=='{':\n",
        "          Validity.cu_flag = 1\n",
        "          Validity.cu_count_open += 1\n",
        "        \n",
        "        elif i=='}':\n",
        "          Validity.cu_count_close += 1\n",
        "      #End of for\n",
        "\n",
        "      #print(Validity.c_count_open , Validity.c_count_close)\n",
        "      #print(Validity.s_count_open, Validity.s_count_close)\n",
        "      #print(Validity.cu_count_open, Validity.cu_count_close)\n",
        "      \n",
        "      if (Validity.c_count_open == Validity.c_count_close and\n",
        "          Validity.s_count_open == Validity.s_count_close and\n",
        "          Validity.cu_count_open == Validity.cu_count_close):\n",
        "        \n",
        "        print(\"Entered String is Valid\")\n",
        "\n",
        "      else:\n",
        "        print(\"Entered String is Invalid1\")\n",
        "\n",
        "    else:\n",
        "      print(\"Entered String is Invalid2\")\n",
        "\n",
        "  def reset(self):\n",
        "\n",
        "    Validity.c_count_open = 0\n",
        "    Validity.c_count_close = 0\n",
        "    Validity.s_count_open = 0\n",
        "    Validity.s_count_close = 0\n",
        "    Validity.cu_count_open = 0\n",
        "    Validity.cu_count_close = 0\n",
        "\n"
      ],
      "metadata": {
        "id": "H9jgJ9MqMxr7"
      },
      "execution_count": 82,
      "outputs": []
    },
    {
      "cell_type": "code",
      "source": [
        "word = \"(({{}}))\"\n",
        "v  = Validity(word)\n",
        "\n"
      ],
      "metadata": {
        "colab": {
          "base_uri": "https://localhost:8080/"
        },
        "id": "3ipQqAWhO_1p",
        "outputId": "ca2d6eba-1fd5-45e6-9834-a7296430c8cd"
      },
      "execution_count": 83,
      "outputs": [
        {
          "output_type": "stream",
          "name": "stdout",
          "text": [
            "Entered String is Valid\n"
          ]
        }
      ]
    },
    {
      "cell_type": "markdown",
      "source": [],
      "metadata": {
        "id": "Qbjg85_Edadb"
      }
    },
    {
      "cell_type": "markdown",
      "source": [
        "Write a Python class to find a pair of elements (indices of the two numbers) from a given array whose sum equals a specific target number.\n",
        "Note: There will be one solution for each input and do not use the same element twice.\n",
        "Input: numbers= [10,20,10,40,50,60,70], target=50\n",
        "Output: 3, 4\n"
      ],
      "metadata": {
        "id": "JfPRxqqDdkTO"
      }
    },
    {
      "cell_type": "code",
      "source": [
        "\n",
        "class Summer:\n",
        "\n",
        "  numbers= [10,20,10,40,50,60,70]\n",
        "\n",
        "  def reset(self):\n",
        "    Summer.numbers = [10,20,10,40,50,60,70]\n",
        "\n",
        "  def target_input(self):\n",
        "\n",
        "    self.ith = 0\n",
        "    self.jth = 0\n",
        "    self.target= int(input(\"Enter target value: \"))\n",
        "    self.calculator()\n",
        "\n",
        "  def calculator(self):\n",
        "\n",
        "    for i in range(len(Summer.numbers)):\n",
        "      for j in range(i+1,len(Summer.numbers)):\n",
        "\n",
        "        sum = Summer.numbers[i] + Summer.numbers[j]\n",
        "        if sum == self.target:\n",
        "          Summer.numbers[i] = 0\n",
        "          Summer.numbers[j] = 0 \n",
        "          print(\"Index :\",i,j)\n",
        "          return\n",
        "\n",
        "s = Summer()\n",
        "\n",
        "s.target_input()\n",
        "\n",
        "s.target_input()\n",
        "\n",
        "\n"
      ],
      "metadata": {
        "colab": {
          "base_uri": "https://localhost:8080/"
        },
        "id": "LMlW03W-PDd6",
        "outputId": "da282b91-874c-4c1f-e1a4-8cda2e248775"
      },
      "execution_count": 5,
      "outputs": [
        {
          "output_type": "stream",
          "name": "stdout",
          "text": [
            "Enter target value: 50\n",
            "Index : 0 3\n",
            "Enter target value: 80\n",
            "Index : 1 5\n"
          ]
        }
      ]
    },
    {
      "cell_type": "markdown",
      "source": [
        "Write a Python class to reverse a string word by word.\n",
        "Input string : 'hello .py'\n",
        "Expected Output : '.py hello'\n"
      ],
      "metadata": {
        "id": "LD7m7SMUeC4a"
      }
    },
    {
      "cell_type": "code",
      "source": [
        "class Word_by_word:\n",
        "\n",
        "  def __init__(self,word):\n",
        "    self.flow = word.split()\n",
        "    self.flow = self.flow[::-1]\n",
        "    self.flow = \" \".join(self.flow)\n",
        "\n",
        "w = Word_by_word(\"hello .py\")\n",
        "\n",
        "print(w.flow)\n",
        "\n"
      ],
      "metadata": {
        "colab": {
          "base_uri": "https://localhost:8080/"
        },
        "id": "7-fFmh7beE4J",
        "outputId": "fcf5a028-14fb-4aa2-b1b5-654925ede2e3"
      },
      "execution_count": 92,
      "outputs": [
        {
          "output_type": "stream",
          "name": "stdout",
          "text": [
            ".py hello\n"
          ]
        }
      ]
    },
    {
      "cell_type": "markdown",
      "source": [
        "Write a Python class named Circle constructed by a radius and two methods which will compute the area and the perimeter of a circle"
      ],
      "metadata": {
        "id": "gmE2LlBwfZ3J"
      }
    },
    {
      "cell_type": "code",
      "source": [
        "class Circle:\n",
        "\n",
        "  def __init__(self,radius):\n",
        "    self.radius  = radius\n",
        "\n",
        "  def area(self):\n",
        "    self.a = 3.1415*self.radius*self.radius\n",
        "\n",
        "  def perimeter(self):\n",
        "    self.p = 2*self.radius*3.1415\n",
        "\n",
        "c = Circle(3)\n",
        "\n",
        "c.area()\n",
        "c.perimeter()\n",
        "\n",
        "print(\"Area :\",c.a)\n",
        "print(\"Perimeter :\",c.p)"
      ],
      "metadata": {
        "colab": {
          "base_uri": "https://localhost:8080/"
        },
        "id": "FAsbyoJUexyw",
        "outputId": "a1668116-b8ee-42cc-e29d-3a62251cca31"
      },
      "execution_count": 96,
      "outputs": [
        {
          "output_type": "stream",
          "name": "stdout",
          "text": [
            "Area : 28.2735\n",
            "Perimeter : 18.849\n"
          ]
        }
      ]
    },
    {
      "cell_type": "markdown",
      "source": [
        "Write a Python class which has two methods get_String and print_String. get_String accept a string from the user and print_String print the string in upper case."
      ],
      "metadata": {
        "id": "hohhc2pQgisd"
      }
    },
    {
      "cell_type": "code",
      "source": [
        "class Stringo:\n",
        "\n",
        "  def get_string(self,word):\n",
        "    self.word = word\n",
        "\n",
        "  def print_string(self):\n",
        "    print(\"String is: \",self.word)\n",
        "\n",
        "s = Stringo()\n",
        "s.get_string(\"Aakash\")\n",
        "s.print_string()"
      ],
      "metadata": {
        "colab": {
          "base_uri": "https://localhost:8080/"
        },
        "id": "0BFOl8MGgVwt",
        "outputId": "74ba50df-885d-4be7-ef75-1962e34bc795"
      },
      "execution_count": 97,
      "outputs": [
        {
          "output_type": "stream",
          "name": "stdout",
          "text": [
            "String is:  Aakash\n"
          ]
        }
      ]
    },
    {
      "cell_type": "markdown",
      "source": [
        "Write a Python class named Rectangle constructed by a length and width and a method which will compute the area of a rectangle"
      ],
      "metadata": {
        "id": "gCvbRR6YhA4H"
      }
    },
    {
      "cell_type": "code",
      "source": [
        "class Rectangle:\n",
        "\n",
        "  def __init__(self,length,breadth):\n",
        "    self.length = length\n",
        "    self.breadth = breadth\n",
        "\n",
        "  def area(self):\n",
        "    self.area_cal = self.length * self.breadth\n",
        "\n",
        "\n",
        "r = Rectangle(20,10)\n",
        "\n",
        "r.area()\n",
        "\n",
        "print(\"Area of Rectangle: \",r.area_cal)\n"
      ],
      "metadata": {
        "colab": {
          "base_uri": "https://localhost:8080/"
        },
        "id": "7fx2ZxX1g_gD",
        "outputId": "2f9b4fe0-bcb3-4e5f-f246-0205baf4169c"
      },
      "execution_count": 1,
      "outputs": [
        {
          "output_type": "stream",
          "name": "stdout",
          "text": [
            "Area of Rectangle:  200\n"
          ]
        }
      ]
    }
  ]
}