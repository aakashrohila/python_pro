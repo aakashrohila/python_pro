{
  "nbformat": 4,
  "nbformat_minor": 0,
  "metadata": {
    "colab": {
      "provenance": []
    },
    "kernelspec": {
      "name": "python3",
      "display_name": "Python 3"
    },
    "language_info": {
      "name": "python"
    }
  },
  "cells": [
    {
      "cell_type": "markdown",
      "source": [
        "https://www.hackerrank.com/challenges/exceptions/problem?isFullScreen=true"
      ],
      "metadata": {
        "id": "M2Qgt63pR5R8"
      }
    },
    {
      "cell_type": "code",
      "execution_count": null,
      "metadata": {
        "id": "svBfEJOOQlGJ"
      },
      "outputs": [],
      "source": [
        "tst = int(input())\n",
        "\n",
        "for _ in range(tst):\n",
        "   try:\n",
        "    a,b = map(int,input().split())\n",
        "    print(a//b)\n",
        "   except Exception as e:\n",
        "    print(\"Error Code:\",e)\n"
      ]
    },
    {
      "cell_type": "markdown",
      "source": [
        "https://www.hackerrank.com/challenges/py-the-captains-room/problem?isFullScreen=true"
      ],
      "metadata": {
        "id": "NSkooNl2R7-p"
      }
    },
    {
      "cell_type": "code",
      "source": [
        "from collections import Counter\n",
        "\n",
        "k = int(input())\n",
        "\n",
        "room_enteries = input().split()\n",
        "\n",
        "each_room_members = Counter(room_enteries)\n",
        "\n",
        "\n",
        "for i in each_room_members:\n",
        "    \n",
        "    if each_room_members[i] == 1:\n",
        "        print(i)"
      ],
      "metadata": {
        "id": "wtOChlyASAhX"
      },
      "execution_count": null,
      "outputs": []
    },
    {
      "cell_type": "markdown",
      "source": [
        "https://www.hackerrank.com/challenges/salary-of-employees/problem?isFullScreen=true"
      ],
      "metadata": {
        "id": "zml9ds-bWAS8"
      }
    },
    {
      "cell_type": "code",
      "source": [
        "select name\n",
        "from employee\n",
        "where salary > 2000 and months < 10\n",
        "order by employee_id;"
      ],
      "metadata": {
        "id": "QJgPJ1v_Vns8"
      },
      "execution_count": null,
      "outputs": []
    },
    {
      "cell_type": "markdown",
      "source": [
        "https://www.hackerrank.com/challenges/what-type-of-triangle/problem?isFullScreen=true"
      ],
      "metadata": {
        "id": "Uqfm-zJ9WEtN"
      }
    },
    {
      "cell_type": "code",
      "source": [
        "select\n",
        "CASE\n",
        "when a+b <= c or b+c <= a or c+a <= b then \"Not A Triangle\"\n",
        "when a=b and b=c then \"Equilateral\"\n",
        "when a=b or b=c or c=a then \"Isosceles\"\n",
        "else \"Scalene\"\n",
        "end checker\n",
        "from triangles;"
      ],
      "metadata": {
        "id": "kVaj5ZozZbMj"
      },
      "execution_count": null,
      "outputs": []
    },
    {
      "cell_type": "markdown",
      "source": [
        "https://www.hackerrank.com/challenges/revising-aggregations-the-count-function/problem?isFullScreen=true"
      ],
      "metadata": {
        "id": "LS8xWyxIeugZ"
      }
    },
    {
      "cell_type": "code",
      "source": [
        "select count(*)\n",
        "from city\n",
        "where population > 100000"
      ],
      "metadata": {
        "id": "Zo0ngW5KZfdU"
      },
      "execution_count": null,
      "outputs": []
    },
    {
      "cell_type": "markdown",
      "source": [
        "https://www.hackerrank.com/challenges/japan-population/problem?isFullScreen=true"
      ],
      "metadata": {
        "id": "dDq3GVF3fHp7"
      }
    },
    {
      "cell_type": "code",
      "source": [
        "select sum(population)\n",
        "from city\n",
        "where countrycode = 'JPN';"
      ],
      "metadata": {
        "id": "7sSfMvzdfHGo"
      },
      "execution_count": null,
      "outputs": []
    },
    {
      "cell_type": "markdown",
      "source": [
        "https://www.hackerrank.com/challenges/weather-observation-station-2/problem?isFullScreen=true"
      ],
      "metadata": {
        "id": "HbtJWZOGfjm6"
      }
    },
    {
      "cell_type": "code",
      "source": [
        "select round(sum(LAT_N),2) , round(sum(LONG_W),2)\n",
        "from station"
      ],
      "metadata": {
        "id": "TXito6PvfjLr"
      },
      "execution_count": null,
      "outputs": []
    },
    {
      "cell_type": "markdown",
      "source": [
        "8.\tWrite a Python program to create a Caesar encryption.\n",
        "Note : In cryptography, a Caesar cipher, also known as Caesar's cipher, the shift cipher, Caesar's code or Caesar shift, is one of the simplest and most widely known encryption techniques. It is a type of substitution cipher in which each letter in the plaintext is replaced by a letter some fixed number of positions down the alphabet. For example, with a left shift of 3, D would be replaced by A, E would become B, and so on. The method is named after Julius Caesar, who used it in his private correspondence.\n"
      ],
      "metadata": {
        "id": "YkWC8Ns6nPmu"
      }
    },
    {
      "cell_type": "code",
      "source": [
        "def caesar_encrypt(realText, step):\n",
        "\n",
        "\n",
        "   words = realText.split()\n",
        "   \n",
        "   encrypt_words = []\n",
        "\n",
        "   for letter in words:\n",
        "\n",
        "       encrypt_letters = []\n",
        "       \n",
        "       for ele in letter:\n",
        "           \n",
        "           #To only run when we have capital words since ASCII of capital start at 65\n",
        "           if ele < 'a':\n",
        "               chr_num = ord(ele) - 64 - step\n",
        "\n",
        "               if chr_num <= 0:\n",
        "                   chr_num = chr_num + 26\n",
        "\n",
        "               encrypt_ele = chr(chr_num + 64)\n",
        "\n",
        "           else:\n",
        "               chr_num = ord(ele) - 96 - step\n",
        "\n",
        "               if chr_num <= 0:\n",
        "                   chr_num = chr_num + 26\n",
        "\n",
        "               encrypt_ele = chr(chr_num + 96)\n",
        "\n",
        "           encrypt_letters.append(encrypt_ele)\n",
        "\n",
        "       letter = \"\".join(encrypt_letters)\n",
        "       \n",
        "       encrypt_words.append(letter)\n",
        "\n",
        "   #print(encrypt_words)\n",
        "\n",
        "   encrypt_text = \" \".join(encrypt_words)\n",
        "\n",
        "   print(encrypt_text)\n",
        "\n",
        "\n",
        "caesar_encrypt(\"Hello Bro\",2)"
      ],
      "metadata": {
        "colab": {
          "base_uri": "https://localhost:8080/"
        },
        "id": "0l-i4lclfwO1",
        "outputId": "99fae912-7a32-4f18-f930-ce11949fa986"
      },
      "execution_count": 25,
      "outputs": [
        {
          "output_type": "stream",
          "name": "stdout",
          "text": [
            "Fcjjm Zpm\n"
          ]
        }
      ]
    },
    {
      "cell_type": "code",
      "source": [],
      "metadata": {
        "id": "iglH0WkCf09q"
      },
      "execution_count": 7,
      "outputs": []
    },
    {
      "cell_type": "code",
      "source": [],
      "metadata": {
        "id": "xQwm95NkhjU1"
      },
      "execution_count": null,
      "outputs": []
    }
  ]
}