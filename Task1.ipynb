{
  "nbformat": 4,
  "nbformat_minor": 0,
  "metadata": {
    "colab": {
      "provenance": []
    },
    "kernelspec": {
      "name": "python3",
      "display_name": "Python 3"
    },
    "language_info": {
      "name": "python"
    }
  },
  "cells": [
    {
      "cell_type": "markdown",
      "source": [
        "```1. Write a Python program to sort a string lexicographically.```"
      ],
      "metadata": {
        "id": "oaS3sVM2QCvg"
      }
    },
    {
      "cell_type": "code",
      "execution_count": 28,
      "metadata": {
        "colab": {
          "base_uri": "https://localhost:8080/"
        },
        "id": "6GPXHmwrP_Fj",
        "outputId": "85ece830-ec38-459d-fb37-70436ee27b01"
      },
      "outputs": [
        {
          "output_type": "stream",
          "name": "stdout",
          "text": [
            "acchhinnS\n"
          ]
        }
      ],
      "source": [
        "string1 = \"Schinchan\"\n",
        "\n",
        "x = ''.join(sorted(string1.lower()))\n",
        "mt_list = []\n",
        "for i in string1:\n",
        "  x = ord(i)\n",
        "\n",
        "  if(x < 97 ):\n",
        "    x = x + 32\n",
        "  \n",
        "  mt_list.append((i,x))\n",
        "\n",
        "mt_list.sort(key = lambda x : x[1])\n",
        "\n",
        "s=''\n",
        "for i in mt_list:\n",
        "  s = s + i[0]\n",
        "\n",
        "\n",
        "print(s)"
      ]
    },
    {
      "cell_type": "markdown",
      "source": [
        "```\n",
        "2. Write a Python program to count the number of characters (character frequency) in a string.\n",
        "```"
      ],
      "metadata": {
        "id": "57F-_tlqVazj"
      }
    },
    {
      "cell_type": "code",
      "source": [
        "string2 = 'google.com'\n",
        "\n",
        "mt_list = {}\n",
        "\n",
        "for i in string2:\n",
        "  counter = 0\n",
        "  for j in string2:\n",
        "    if i == j :\n",
        "      counter = counter +1 \n",
        "  \n",
        "  mt_list[i] = counter\n",
        "\n",
        "print(mt_list)  "
      ],
      "metadata": {
        "colab": {
          "base_uri": "https://localhost:8080/"
        },
        "id": "leLlrEzNRFXL",
        "outputId": "25da9038-496f-4b7b-ce21-439a486367a0"
      },
      "execution_count": 39,
      "outputs": [
        {
          "output_type": "stream",
          "name": "stdout",
          "text": [
            "{'g': 2, 'o': 3, 'l': 1, 'e': 1, '.': 1, 'c': 1, 'm': 1}\n"
          ]
        }
      ]
    },
    {
      "cell_type": "markdown",
      "source": [
        "```\n",
        "3. Write a Python program to find the elements in a given set that are not in another set. sn1 = {1,2,3,4,5} sn2 = {4,5,6,7,8}\n",
        "```"
      ],
      "metadata": {
        "id": "vofk7nMTaZJd"
      }
    },
    {
      "cell_type": "code",
      "source": [
        "sn1 = {1,2,3,4,5} \n",
        "sn2 = {4,5,6,7,8}\n",
        "\n",
        "print(sn1 - sn2)\n",
        "\n",
        "print(sn2 - sn1)\n",
        "\n",
        "print(sn2 ^ sn1 )"
      ],
      "metadata": {
        "colab": {
          "base_uri": "https://localhost:8080/"
        },
        "id": "kofwtszTVrf1",
        "outputId": "c4f00498-8b9c-4643-85ee-88e74154b4b5"
      },
      "execution_count": 44,
      "outputs": [
        {
          "output_type": "stream",
          "name": "stdout",
          "text": [
            "{1, 2, 3}\n",
            "{8, 6, 7}\n",
            "{1, 2, 3, 6, 7, 8}\n"
          ]
        }
      ]
    },
    {
      "cell_type": "markdown",
      "source": [
        "[weather-observation-station-6](https://www.hackerrank.com/challenges/weather-observation-station-6/problem?isFullScreen=true)"
      ],
      "metadata": {
        "id": "k6PSj_lJb0xI"
      }
    },
    {
      "cell_type": "markdown",
      "source": [
        "```\n",
        "select city \n",
        "from station\n",
        "where substr(city,1,1) in ('a','e','i','o','u');\n",
        "```"
      ],
      "metadata": {
        "id": "6tuHz2t8btXX"
      }
    }
  ]
}