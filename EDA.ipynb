{
 "cells": [
  {
   "cell_type": "code",
   "execution_count": 2,
   "id": "6855c5d3",
   "metadata": {},
   "outputs": [],
   "source": [
    "import sys\n",
    "if not sys.warnoptions:\n",
    "    import warnings\n",
    "    warnings.simplefilter(\"ignore\")\n",
    "import numpy as np \n",
    "import pandas as pd \n",
    "import matplotlib.pyplot as plt\n",
    "import seaborn as sns\n",
    "from bokeh.plotting import figure, save\n",
    "import plotly.graph_objects as go\n",
    "import sklearn\n",
    "import warnings\n",
    "warnings.filterwarnings(\"ignore\")\n",
    "plt.style.use('ggplot')\n",
    "pd.plotting.register_matplotlib_converters()"
   ]
  },
  {
   "cell_type": "code",
   "execution_count": 68,
   "id": "5c9d5d15",
   "metadata": {
    "scrolled": true
   },
   "outputs": [
    {
     "data": {
      "text/html": [
       "<div>\n",
       "<style scoped>\n",
       "    .dataframe tbody tr th:only-of-type {\n",
       "        vertical-align: middle;\n",
       "    }\n",
       "\n",
       "    .dataframe tbody tr th {\n",
       "        vertical-align: top;\n",
       "    }\n",
       "\n",
       "    .dataframe thead th {\n",
       "        text-align: right;\n",
       "    }\n",
       "</style>\n",
       "<table border=\"1\" class=\"dataframe\">\n",
       "  <thead>\n",
       "    <tr style=\"text-align: right;\">\n",
       "      <th></th>\n",
       "      <th>Id</th>\n",
       "      <th>Province_State</th>\n",
       "      <th>Country_Region</th>\n",
       "      <th>Date</th>\n",
       "      <th>ConfirmedCases</th>\n",
       "      <th>Fatalities</th>\n",
       "      <th>ForecastId</th>\n",
       "    </tr>\n",
       "  </thead>\n",
       "  <tbody>\n",
       "    <tr>\n",
       "      <th>0</th>\n",
       "      <td>1.0</td>\n",
       "      <td>NaN</td>\n",
       "      <td>Afghanistan</td>\n",
       "      <td>2020-01-22</td>\n",
       "      <td>0.0</td>\n",
       "      <td>0.0</td>\n",
       "      <td>NaN</td>\n",
       "    </tr>\n",
       "    <tr>\n",
       "      <th>1</th>\n",
       "      <td>2.0</td>\n",
       "      <td>NaN</td>\n",
       "      <td>Afghanistan</td>\n",
       "      <td>2020-01-23</td>\n",
       "      <td>0.0</td>\n",
       "      <td>0.0</td>\n",
       "      <td>NaN</td>\n",
       "    </tr>\n",
       "    <tr>\n",
       "      <th>2</th>\n",
       "      <td>3.0</td>\n",
       "      <td>NaN</td>\n",
       "      <td>Afghanistan</td>\n",
       "      <td>2020-01-24</td>\n",
       "      <td>0.0</td>\n",
       "      <td>0.0</td>\n",
       "      <td>NaN</td>\n",
       "    </tr>\n",
       "    <tr>\n",
       "      <th>3</th>\n",
       "      <td>4.0</td>\n",
       "      <td>NaN</td>\n",
       "      <td>Afghanistan</td>\n",
       "      <td>2020-01-25</td>\n",
       "      <td>0.0</td>\n",
       "      <td>0.0</td>\n",
       "      <td>NaN</td>\n",
       "    </tr>\n",
       "    <tr>\n",
       "      <th>4</th>\n",
       "      <td>5.0</td>\n",
       "      <td>NaN</td>\n",
       "      <td>Afghanistan</td>\n",
       "      <td>2020-01-26</td>\n",
       "      <td>0.0</td>\n",
       "      <td>0.0</td>\n",
       "      <td>NaN</td>\n",
       "    </tr>\n",
       "    <tr>\n",
       "      <th>...</th>\n",
       "      <td>...</td>\n",
       "      <td>...</td>\n",
       "      <td>...</td>\n",
       "      <td>...</td>\n",
       "      <td>...</td>\n",
       "      <td>...</td>\n",
       "      <td>...</td>\n",
       "    </tr>\n",
       "    <tr>\n",
       "      <th>36715</th>\n",
       "      <td>NaN</td>\n",
       "      <td>NaN</td>\n",
       "      <td>Zimbabwe</td>\n",
       "      <td>2020-05-03</td>\n",
       "      <td>NaN</td>\n",
       "      <td>NaN</td>\n",
       "      <td>13154.0</td>\n",
       "    </tr>\n",
       "    <tr>\n",
       "      <th>36716</th>\n",
       "      <td>NaN</td>\n",
       "      <td>NaN</td>\n",
       "      <td>Zimbabwe</td>\n",
       "      <td>2020-05-04</td>\n",
       "      <td>NaN</td>\n",
       "      <td>NaN</td>\n",
       "      <td>13155.0</td>\n",
       "    </tr>\n",
       "    <tr>\n",
       "      <th>36717</th>\n",
       "      <td>NaN</td>\n",
       "      <td>NaN</td>\n",
       "      <td>Zimbabwe</td>\n",
       "      <td>2020-05-05</td>\n",
       "      <td>NaN</td>\n",
       "      <td>NaN</td>\n",
       "      <td>13156.0</td>\n",
       "    </tr>\n",
       "    <tr>\n",
       "      <th>36718</th>\n",
       "      <td>NaN</td>\n",
       "      <td>NaN</td>\n",
       "      <td>Zimbabwe</td>\n",
       "      <td>2020-05-06</td>\n",
       "      <td>NaN</td>\n",
       "      <td>NaN</td>\n",
       "      <td>13157.0</td>\n",
       "    </tr>\n",
       "    <tr>\n",
       "      <th>36719</th>\n",
       "      <td>NaN</td>\n",
       "      <td>NaN</td>\n",
       "      <td>Zimbabwe</td>\n",
       "      <td>2020-05-07</td>\n",
       "      <td>NaN</td>\n",
       "      <td>NaN</td>\n",
       "      <td>13158.0</td>\n",
       "    </tr>\n",
       "  </tbody>\n",
       "</table>\n",
       "<p>36720 rows × 7 columns</p>\n",
       "</div>"
      ],
      "text/plain": [
       "        Id Province_State Country_Region        Date  ConfirmedCases  \\\n",
       "0      1.0            NaN    Afghanistan  2020-01-22             0.0   \n",
       "1      2.0            NaN    Afghanistan  2020-01-23             0.0   \n",
       "2      3.0            NaN    Afghanistan  2020-01-24             0.0   \n",
       "3      4.0            NaN    Afghanistan  2020-01-25             0.0   \n",
       "4      5.0            NaN    Afghanistan  2020-01-26             0.0   \n",
       "...    ...            ...            ...         ...             ...   \n",
       "36715  NaN            NaN       Zimbabwe  2020-05-03             NaN   \n",
       "36716  NaN            NaN       Zimbabwe  2020-05-04             NaN   \n",
       "36717  NaN            NaN       Zimbabwe  2020-05-05             NaN   \n",
       "36718  NaN            NaN       Zimbabwe  2020-05-06             NaN   \n",
       "36719  NaN            NaN       Zimbabwe  2020-05-07             NaN   \n",
       "\n",
       "       Fatalities  ForecastId  \n",
       "0             0.0         NaN  \n",
       "1             0.0         NaN  \n",
       "2             0.0         NaN  \n",
       "3             0.0         NaN  \n",
       "4             0.0         NaN  \n",
       "...           ...         ...  \n",
       "36715         NaN     13154.0  \n",
       "36716         NaN     13155.0  \n",
       "36717         NaN     13156.0  \n",
       "36718         NaN     13157.0  \n",
       "36719         NaN     13158.0  \n",
       "\n",
       "[36720 rows x 7 columns]"
      ]
     },
     "execution_count": 68,
     "metadata": {},
     "output_type": "execute_result"
    }
   ],
   "source": [
    "train_df = pd.read_csv('train.csv') #Loading Train Data\n",
    "test_df = pd.read_csv('test.csv') #Loading Test data\n",
    "all_data = pd.concat([train_df,test_df],axis = 0) #Combining the dataset\n",
    "all_data.reset_index(drop = True) #reset the index and droping our current index"
   ]
  },
  {
   "cell_type": "code",
   "execution_count": 12,
   "id": "f0bb9670",
   "metadata": {},
   "outputs": [
    {
     "data": {
      "text/html": [
       "<div>\n",
       "<style scoped>\n",
       "    .dataframe tbody tr th:only-of-type {\n",
       "        vertical-align: middle;\n",
       "    }\n",
       "\n",
       "    .dataframe tbody tr th {\n",
       "        vertical-align: top;\n",
       "    }\n",
       "\n",
       "    .dataframe thead th {\n",
       "        text-align: right;\n",
       "    }\n",
       "</style>\n",
       "<table border=\"1\" class=\"dataframe\">\n",
       "  <thead>\n",
       "    <tr style=\"text-align: right;\">\n",
       "      <th></th>\n",
       "      <th>Id</th>\n",
       "      <th>Province_State</th>\n",
       "      <th>Country_Region</th>\n",
       "      <th>Date</th>\n",
       "      <th>ConfirmedCases</th>\n",
       "      <th>Fatalities</th>\n",
       "    </tr>\n",
       "  </thead>\n",
       "  <tbody>\n",
       "    <tr>\n",
       "      <th>0</th>\n",
       "      <td>1</td>\n",
       "      <td>NaN</td>\n",
       "      <td>Afghanistan</td>\n",
       "      <td>2020-01-22</td>\n",
       "      <td>0.0</td>\n",
       "      <td>0.0</td>\n",
       "    </tr>\n",
       "    <tr>\n",
       "      <th>1</th>\n",
       "      <td>2</td>\n",
       "      <td>NaN</td>\n",
       "      <td>Afghanistan</td>\n",
       "      <td>2020-01-23</td>\n",
       "      <td>0.0</td>\n",
       "      <td>0.0</td>\n",
       "    </tr>\n",
       "    <tr>\n",
       "      <th>2</th>\n",
       "      <td>3</td>\n",
       "      <td>NaN</td>\n",
       "      <td>Afghanistan</td>\n",
       "      <td>2020-01-24</td>\n",
       "      <td>0.0</td>\n",
       "      <td>0.0</td>\n",
       "    </tr>\n",
       "    <tr>\n",
       "      <th>3</th>\n",
       "      <td>4</td>\n",
       "      <td>NaN</td>\n",
       "      <td>Afghanistan</td>\n",
       "      <td>2020-01-25</td>\n",
       "      <td>0.0</td>\n",
       "      <td>0.0</td>\n",
       "    </tr>\n",
       "    <tr>\n",
       "      <th>4</th>\n",
       "      <td>5</td>\n",
       "      <td>NaN</td>\n",
       "      <td>Afghanistan</td>\n",
       "      <td>2020-01-26</td>\n",
       "      <td>0.0</td>\n",
       "      <td>0.0</td>\n",
       "    </tr>\n",
       "  </tbody>\n",
       "</table>\n",
       "</div>"
      ],
      "text/plain": [
       "   Id Province_State Country_Region        Date  ConfirmedCases  Fatalities\n",
       "0   1            NaN    Afghanistan  2020-01-22             0.0         0.0\n",
       "1   2            NaN    Afghanistan  2020-01-23             0.0         0.0\n",
       "2   3            NaN    Afghanistan  2020-01-24             0.0         0.0\n",
       "3   4            NaN    Afghanistan  2020-01-25             0.0         0.0\n",
       "4   5            NaN    Afghanistan  2020-01-26             0.0         0.0"
      ]
     },
     "execution_count": 12,
     "metadata": {},
     "output_type": "execute_result"
    }
   ],
   "source": [
    "train_df.head()"
   ]
  },
  {
   "cell_type": "code",
   "execution_count": 38,
   "id": "4bf670c3",
   "metadata": {},
   "outputs": [
    {
     "data": {
      "text/plain": [
       "(36720, 7)"
      ]
     },
     "execution_count": 38,
     "metadata": {},
     "output_type": "execute_result"
    }
   ],
   "source": [
    "all_data.shape"
   ]
  },
  {
   "cell_type": "code",
   "execution_count": 13,
   "id": "e8f3d1d5",
   "metadata": {},
   "outputs": [
    {
     "name": "stdout",
     "output_type": "stream",
     "text": [
      "<class 'pandas.core.frame.DataFrame'>\n",
      "RangeIndex: 23562 entries, 0 to 23561\n",
      "Data columns (total 6 columns):\n",
      " #   Column          Non-Null Count  Dtype  \n",
      "---  ------          --------------  -----  \n",
      " 0   Id              23562 non-null  int64  \n",
      " 1   Province_State  10010 non-null  object \n",
      " 2   Country_Region  23562 non-null  object \n",
      " 3   Date            23562 non-null  object \n",
      " 4   ConfirmedCases  23562 non-null  float64\n",
      " 5   Fatalities      23562 non-null  float64\n",
      "dtypes: float64(2), int64(1), object(3)\n",
      "memory usage: 1.1+ MB\n"
     ]
    }
   ],
   "source": [
    "train_df.info()"
   ]
  },
  {
   "cell_type": "code",
   "execution_count": 36,
   "id": "ac3d4182",
   "metadata": {},
   "outputs": [
    {
     "data": {
      "text/plain": [
       "(23562, 6)"
      ]
     },
     "execution_count": 36,
     "metadata": {},
     "output_type": "execute_result"
    }
   ],
   "source": [
    "train_df.shape"
   ]
  },
  {
   "cell_type": "code",
   "execution_count": 14,
   "id": "fb64279e",
   "metadata": {
    "scrolled": true
   },
   "outputs": [
    {
     "data": {
      "text/plain": [
       "180"
      ]
     },
     "execution_count": 14,
     "metadata": {},
     "output_type": "execute_result"
    }
   ],
   "source": [
    "# To know how many unique country data we have\n",
    "\n",
    "train_df['Country_Region'].nunique()"
   ]
  },
  {
   "cell_type": "code",
   "execution_count": 54,
   "id": "5aab2af1",
   "metadata": {},
   "outputs": [
    {
     "data": {
      "text/plain": [
       "(23562, 6)"
      ]
     },
     "execution_count": 54,
     "metadata": {},
     "output_type": "execute_result"
    }
   ],
   "source": [
    "train_df.shape"
   ]
  },
  {
   "cell_type": "code",
   "execution_count": 56,
   "id": "30b57cf0",
   "metadata": {},
   "outputs": [
    {
     "data": {
      "text/plain": [
       "13552"
      ]
     },
     "execution_count": 56,
     "metadata": {},
     "output_type": "execute_result"
    }
   ],
   "source": [
    "train_df.Province_State.isnull().sum() \n",
    "#To see number of rows that has null values"
   ]
  },
  {
   "cell_type": "markdown",
   "id": "a8afd9d1",
   "metadata": {},
   "source": [
    "Out of 180 countries data, we have only 8 countries who has given Province wise data for Corona confirmed and fatalities. Hence, alot of this missing data would not be good for our dataset, and hence we will drop this column."
   ]
  },
  {
   "cell_type": "code",
   "execution_count": 84,
   "id": "7576b0ab",
   "metadata": {},
   "outputs": [
    {
     "data": {
      "text/plain": [
       "8"
      ]
     },
     "execution_count": 84,
     "metadata": {},
     "output_type": "execute_result"
    }
   ],
   "source": [
    "ind = np.where(train_df.Province_State.notnull())\n",
    "prov_df=df.iloc[ind]\n",
    "grp=prov_df.groupby('Country_Region')\n",
    "grp.groups\n",
    "grp.Country_Region.nunique().sum()\n",
    "\n",
    "\n",
    "# 8 Countries has province data"
   ]
  },
  {
   "cell_type": "code",
   "execution_count": 85,
   "id": "4886d5fe",
   "metadata": {},
   "outputs": [],
   "source": [
    "train_df.drop('Province_State' , axis = 1 , inplace = True)"
   ]
  },
  {
   "cell_type": "code",
   "execution_count": 86,
   "id": "6f72e1d6",
   "metadata": {},
   "outputs": [
    {
     "data": {
      "text/html": [
       "<div>\n",
       "<style scoped>\n",
       "    .dataframe tbody tr th:only-of-type {\n",
       "        vertical-align: middle;\n",
       "    }\n",
       "\n",
       "    .dataframe tbody tr th {\n",
       "        vertical-align: top;\n",
       "    }\n",
       "\n",
       "    .dataframe thead th {\n",
       "        text-align: right;\n",
       "    }\n",
       "</style>\n",
       "<table border=\"1\" class=\"dataframe\">\n",
       "  <thead>\n",
       "    <tr style=\"text-align: right;\">\n",
       "      <th></th>\n",
       "      <th>Id</th>\n",
       "      <th>Country_Region</th>\n",
       "      <th>Date</th>\n",
       "      <th>ConfirmedCases</th>\n",
       "      <th>Fatalities</th>\n",
       "    </tr>\n",
       "  </thead>\n",
       "  <tbody>\n",
       "    <tr>\n",
       "      <th>0</th>\n",
       "      <td>1</td>\n",
       "      <td>Afghanistan</td>\n",
       "      <td>2020-01-22</td>\n",
       "      <td>0.0</td>\n",
       "      <td>0.0</td>\n",
       "    </tr>\n",
       "    <tr>\n",
       "      <th>1</th>\n",
       "      <td>2</td>\n",
       "      <td>Afghanistan</td>\n",
       "      <td>2020-01-23</td>\n",
       "      <td>0.0</td>\n",
       "      <td>0.0</td>\n",
       "    </tr>\n",
       "    <tr>\n",
       "      <th>2</th>\n",
       "      <td>3</td>\n",
       "      <td>Afghanistan</td>\n",
       "      <td>2020-01-24</td>\n",
       "      <td>0.0</td>\n",
       "      <td>0.0</td>\n",
       "    </tr>\n",
       "    <tr>\n",
       "      <th>3</th>\n",
       "      <td>4</td>\n",
       "      <td>Afghanistan</td>\n",
       "      <td>2020-01-25</td>\n",
       "      <td>0.0</td>\n",
       "      <td>0.0</td>\n",
       "    </tr>\n",
       "    <tr>\n",
       "      <th>4</th>\n",
       "      <td>5</td>\n",
       "      <td>Afghanistan</td>\n",
       "      <td>2020-01-26</td>\n",
       "      <td>0.0</td>\n",
       "      <td>0.0</td>\n",
       "    </tr>\n",
       "  </tbody>\n",
       "</table>\n",
       "</div>"
      ],
      "text/plain": [
       "   Id Country_Region        Date  ConfirmedCases  Fatalities\n",
       "0   1    Afghanistan  2020-01-22             0.0         0.0\n",
       "1   2    Afghanistan  2020-01-23             0.0         0.0\n",
       "2   3    Afghanistan  2020-01-24             0.0         0.0\n",
       "3   4    Afghanistan  2020-01-25             0.0         0.0\n",
       "4   5    Afghanistan  2020-01-26             0.0         0.0"
      ]
     },
     "execution_count": 86,
     "metadata": {},
     "output_type": "execute_result"
    }
   ],
   "source": [
    "train_df.head()"
   ]
  },
  {
   "cell_type": "code",
   "execution_count": 87,
   "id": "8d9d4493",
   "metadata": {},
   "outputs": [],
   "source": [
    "#Converting string data to actual date format\n",
    "\n",
    "train_df.Date = pd.to_datetime(train_df.Date)"
   ]
  },
  {
   "cell_type": "code",
   "execution_count": 89,
   "id": "3ae2a41a",
   "metadata": {},
   "outputs": [],
   "source": [
    "train_df.set_index('Date' , inplace = True)"
   ]
  },
  {
   "cell_type": "code",
   "execution_count": 90,
   "id": "b93b1cd7",
   "metadata": {
    "scrolled": true
   },
   "outputs": [
    {
     "data": {
      "text/html": [
       "<div>\n",
       "<style scoped>\n",
       "    .dataframe tbody tr th:only-of-type {\n",
       "        vertical-align: middle;\n",
       "    }\n",
       "\n",
       "    .dataframe tbody tr th {\n",
       "        vertical-align: top;\n",
       "    }\n",
       "\n",
       "    .dataframe thead th {\n",
       "        text-align: right;\n",
       "    }\n",
       "</style>\n",
       "<table border=\"1\" class=\"dataframe\">\n",
       "  <thead>\n",
       "    <tr style=\"text-align: right;\">\n",
       "      <th></th>\n",
       "      <th>Id</th>\n",
       "      <th>Country_Region</th>\n",
       "      <th>ConfirmedCases</th>\n",
       "      <th>Fatalities</th>\n",
       "    </tr>\n",
       "    <tr>\n",
       "      <th>Date</th>\n",
       "      <th></th>\n",
       "      <th></th>\n",
       "      <th></th>\n",
       "      <th></th>\n",
       "    </tr>\n",
       "  </thead>\n",
       "  <tbody>\n",
       "    <tr>\n",
       "      <th>2020-01-22</th>\n",
       "      <td>1</td>\n",
       "      <td>Afghanistan</td>\n",
       "      <td>0.0</td>\n",
       "      <td>0.0</td>\n",
       "    </tr>\n",
       "    <tr>\n",
       "      <th>2020-01-23</th>\n",
       "      <td>2</td>\n",
       "      <td>Afghanistan</td>\n",
       "      <td>0.0</td>\n",
       "      <td>0.0</td>\n",
       "    </tr>\n",
       "    <tr>\n",
       "      <th>2020-01-24</th>\n",
       "      <td>3</td>\n",
       "      <td>Afghanistan</td>\n",
       "      <td>0.0</td>\n",
       "      <td>0.0</td>\n",
       "    </tr>\n",
       "    <tr>\n",
       "      <th>2020-01-25</th>\n",
       "      <td>4</td>\n",
       "      <td>Afghanistan</td>\n",
       "      <td>0.0</td>\n",
       "      <td>0.0</td>\n",
       "    </tr>\n",
       "    <tr>\n",
       "      <th>2020-01-26</th>\n",
       "      <td>5</td>\n",
       "      <td>Afghanistan</td>\n",
       "      <td>0.0</td>\n",
       "      <td>0.0</td>\n",
       "    </tr>\n",
       "  </tbody>\n",
       "</table>\n",
       "</div>"
      ],
      "text/plain": [
       "            Id Country_Region  ConfirmedCases  Fatalities\n",
       "Date                                                     \n",
       "2020-01-22   1    Afghanistan             0.0         0.0\n",
       "2020-01-23   2    Afghanistan             0.0         0.0\n",
       "2020-01-24   3    Afghanistan             0.0         0.0\n",
       "2020-01-25   4    Afghanistan             0.0         0.0\n",
       "2020-01-26   5    Afghanistan             0.0         0.0"
      ]
     },
     "execution_count": 90,
     "metadata": {},
     "output_type": "execute_result"
    }
   ],
   "source": [
    "train_df.head()"
   ]
  },
  {
   "cell_type": "markdown",
   "id": "5ec854ef",
   "metadata": {},
   "source": [
    "Exploratory Data Analysis\n",
    "We will try to answer following questions:\n",
    "\n",
    "Q1. Which countries has high number of cases?\n",
    "\n",
    "Q2. How is confirmed cases increases by day?\n",
    "\n",
    "Q3. What is fatality rate of confirmed cases?\n",
    "\n",
    "Q4. How is cases increasing by day of 1st reported case?\n",
    "\n",
    "Q5. Understanding data of India and UK and comparing it with the world?\n",
    "\n",
    "Q6. What is new rate of increase per case per day?"
   ]
  },
  {
   "cell_type": "markdown",
   "id": "1e0e915c",
   "metadata": {},
   "source": [
    "# Q1. Which countries has high number of cases?"
   ]
  },
  {
   "cell_type": "code",
   "execution_count": 92,
   "id": "31ff34ec",
   "metadata": {},
   "outputs": [
    {
     "data": {
      "text/html": [
       "<div>\n",
       "<style scoped>\n",
       "    .dataframe tbody tr th:only-of-type {\n",
       "        vertical-align: middle;\n",
       "    }\n",
       "\n",
       "    .dataframe tbody tr th {\n",
       "        vertical-align: top;\n",
       "    }\n",
       "\n",
       "    .dataframe thead th {\n",
       "        text-align: right;\n",
       "    }\n",
       "</style>\n",
       "<table border=\"1\" class=\"dataframe\">\n",
       "  <thead>\n",
       "    <tr style=\"text-align: right;\">\n",
       "      <th></th>\n",
       "      <th>Id</th>\n",
       "      <th>Country_Region</th>\n",
       "      <th>ConfirmedCases</th>\n",
       "      <th>Fatalities</th>\n",
       "    </tr>\n",
       "    <tr>\n",
       "      <th>Date</th>\n",
       "      <th></th>\n",
       "      <th></th>\n",
       "      <th></th>\n",
       "      <th></th>\n",
       "    </tr>\n",
       "  </thead>\n",
       "  <tbody>\n",
       "    <tr>\n",
       "      <th>2020-01-22</th>\n",
       "      <td>1</td>\n",
       "      <td>Afghanistan</td>\n",
       "      <td>0.0</td>\n",
       "      <td>0.0</td>\n",
       "    </tr>\n",
       "    <tr>\n",
       "      <th>2020-01-23</th>\n",
       "      <td>2</td>\n",
       "      <td>Afghanistan</td>\n",
       "      <td>0.0</td>\n",
       "      <td>0.0</td>\n",
       "    </tr>\n",
       "    <tr>\n",
       "      <th>2020-01-24</th>\n",
       "      <td>3</td>\n",
       "      <td>Afghanistan</td>\n",
       "      <td>0.0</td>\n",
       "      <td>0.0</td>\n",
       "    </tr>\n",
       "    <tr>\n",
       "      <th>2020-01-25</th>\n",
       "      <td>4</td>\n",
       "      <td>Afghanistan</td>\n",
       "      <td>0.0</td>\n",
       "      <td>0.0</td>\n",
       "    </tr>\n",
       "    <tr>\n",
       "      <th>2020-01-26</th>\n",
       "      <td>5</td>\n",
       "      <td>Afghanistan</td>\n",
       "      <td>0.0</td>\n",
       "      <td>0.0</td>\n",
       "    </tr>\n",
       "  </tbody>\n",
       "</table>\n",
       "</div>"
      ],
      "text/plain": [
       "            Id Country_Region  ConfirmedCases  Fatalities\n",
       "Date                                                     \n",
       "2020-01-22   1    Afghanistan             0.0         0.0\n",
       "2020-01-23   2    Afghanistan             0.0         0.0\n",
       "2020-01-24   3    Afghanistan             0.0         0.0\n",
       "2020-01-25   4    Afghanistan             0.0         0.0\n",
       "2020-01-26   5    Afghanistan             0.0         0.0"
      ]
     },
     "execution_count": 92,
     "metadata": {},
     "output_type": "execute_result"
    }
   ],
   "source": [
    "#Q1 \n",
    "\n",
    "train_df.head()"
   ]
  },
  {
   "cell_type": "code",
   "execution_count": 94,
   "id": "4be5d3ab",
   "metadata": {},
   "outputs": [],
   "source": [
    "grp1 = train_df.groupby(['Country_Region'])"
   ]
  },
  {
   "cell_type": "code",
   "execution_count": 98,
   "id": "95b61c7c",
   "metadata": {},
   "outputs": [],
   "source": [
    "q1_df = grp1.ConfirmedCases.sum()"
   ]
  },
  {
   "cell_type": "code",
   "execution_count": 101,
   "id": "a72edb03",
   "metadata": {},
   "outputs": [
    {
     "data": {
      "text/plain": [
       "Country_Region\n",
       "Afghanistan     3454.0\n",
       "Albania         4526.0\n",
       "Algeria        13294.0\n",
       "Andorra         6081.0\n",
       "Angola           129.0\n",
       "Name: ConfirmedCases, dtype: float64"
      ]
     },
     "execution_count": 101,
     "metadata": {},
     "output_type": "execute_result"
    }
   ],
   "source": [
    "q1_df.head()"
   ]
  },
  {
   "cell_type": "code",
   "execution_count": 103,
   "id": "e3fa6840",
   "metadata": {},
   "outputs": [
    {
     "data": {
      "text/plain": [
       "Country_Region\n",
       "China               4764627.0\n",
       "US                  3222547.0\n",
       "Italy               2078445.0\n",
       "Spain               1614510.0\n",
       "Germany             1249835.0\n",
       "                      ...    \n",
       "Botswana                 41.0\n",
       "Sierra Leone             29.0\n",
       "Burundi                  22.0\n",
       "Papua New Guinea         21.0\n",
       "Timor-Leste              17.0\n",
       "Name: ConfirmedCases, Length: 180, dtype: float64"
      ]
     },
     "execution_count": 103,
     "metadata": {},
     "output_type": "execute_result"
    }
   ],
   "source": [
    "q1_df.sort_values(ascending = False)"
   ]
  },
  {
   "cell_type": "markdown",
   "id": "5b281ad7",
   "metadata": {},
   "source": [
    "From the data we can observe that China holds the top position with number of cases being found"
   ]
  },
  {
   "cell_type": "markdown",
   "id": "0b93e2c5",
   "metadata": {},
   "source": [
    "Below Graph gives us the analysis of how the cases increased with time"
   ]
  },
  {
   "cell_type": "markdown",
   "id": "5536dbab",
   "metadata": {},
   "source": [
    " # Q2. How is confirmed cases increases by day?"
   ]
  },
  {
   "cell_type": "code",
   "execution_count": 164,
   "id": "32c3b5d2",
   "metadata": {},
   "outputs": [
    {
     "data": {
      "text/plain": [
       "<matplotlib.legend.Legend at 0x18aeb95c550>"
      ]
     },
     "execution_count": 164,
     "metadata": {},
     "output_type": "execute_result"
    },
    {
     "data": {
      "image/png": "[encoded data removed]",
      "text/plain": [
       "<Figure size 640x480 with 1 Axes>"
      ]
     },
     "metadata": {},
     "output_type": "display_data"
    }
   ],
   "source": [
    "plt.bar(train_df.index , train_df.ConfirmedCases)\n",
    "plt.bar(train_df.index , train_df.Fatalities)\n",
    "\n",
    "plt.xlabel('Date')\n",
    "plt.ylabel('Number')\n",
    "\n",
    "plt.legend(['Confirmed Cases' , 'Fatalities'] , loc = 'upper left')\n",
    "\n",
    "#World Covid Cases"
   ]
  },
  {
   "cell_type": "markdown",
   "id": "7020af05",
   "metadata": {},
   "source": [
    "As we can observe that in the month of April we saw more number of cases\n",
    "compared to February."
   ]
  },
  {
   "cell_type": "markdown",
   "id": "27bd4b6c",
   "metadata": {},
   "source": [
    "# Q3. What is fatality rate of confirmed cases?"
   ]
  },
  {
   "cell_type": "code",
   "execution_count": 143,
   "id": "ebf04dc8",
   "metadata": {},
   "outputs": [],
   "source": [
    "latest_df = grp1.sum().sort_values(['ConfirmedCases'] , ascending = False)[:10]"
   ]
  },
  {
   "cell_type": "code",
   "execution_count": 148,
   "id": "afd2f0be",
   "metadata": {},
   "outputs": [
    {
     "data": {
      "text/html": [
       "<div>\n",
       "<style scoped>\n",
       "    .dataframe tbody tr th:only-of-type {\n",
       "        vertical-align: middle;\n",
       "    }\n",
       "\n",
       "    .dataframe tbody tr th {\n",
       "        vertical-align: top;\n",
       "    }\n",
       "\n",
       "    .dataframe thead th {\n",
       "        text-align: right;\n",
       "    }\n",
       "</style>\n",
       "<table border=\"1\" class=\"dataframe\">\n",
       "  <thead>\n",
       "    <tr style=\"text-align: right;\">\n",
       "      <th></th>\n",
       "      <th>Id</th>\n",
       "      <th>ConfirmedCases</th>\n",
       "      <th>Fatalities</th>\n",
       "    </tr>\n",
       "    <tr>\n",
       "      <th>Country_Region</th>\n",
       "      <th></th>\n",
       "      <th></th>\n",
       "      <th></th>\n",
       "    </tr>\n",
       "  </thead>\n",
       "  <tbody>\n",
       "    <tr>\n",
       "      <th>China</th>\n",
       "      <td>19131189</td>\n",
       "      <td>4764627.0</td>\n",
       "      <td>169091.0</td>\n",
       "    </tr>\n",
       "    <tr>\n",
       "      <th>US</th>\n",
       "      <td>115170363</td>\n",
       "      <td>3222547.0</td>\n",
       "      <td>77343.0</td>\n",
       "    </tr>\n",
       "    <tr>\n",
       "      <th>Italy</th>\n",
       "      <td>1197658</td>\n",
       "      <td>2078445.0</td>\n",
       "      <td>223179.0</td>\n",
       "    </tr>\n",
       "    <tr>\n",
       "      <th>Spain</th>\n",
       "      <td>1790866</td>\n",
       "      <td>1614510.0</td>\n",
       "      <td>137486.0</td>\n",
       "    </tr>\n",
       "    <tr>\n",
       "      <th>Germany</th>\n",
       "      <td>1041117</td>\n",
       "      <td>1249835.0</td>\n",
       "      <td>14032.0</td>\n",
       "    </tr>\n",
       "    <tr>\n",
       "      <th>France</th>\n",
       "      <td>9710855</td>\n",
       "      <td>987338.0</td>\n",
       "      <td>72246.0</td>\n",
       "    </tr>\n",
       "    <tr>\n",
       "      <th>Iran</th>\n",
       "      <td>1164702</td>\n",
       "      <td>915866.0</td>\n",
       "      <td>58527.0</td>\n",
       "    </tr>\n",
       "    <tr>\n",
       "      <th>United Kingdom</th>\n",
       "      <td>24211495</td>\n",
       "      <td>467602.0</td>\n",
       "      <td>38835.0</td>\n",
       "    </tr>\n",
       "    <tr>\n",
       "      <th>Korea, South</th>\n",
       "      <td>1247092</td>\n",
       "      <td>328015.0</td>\n",
       "      <td>3935.0</td>\n",
       "    </tr>\n",
       "    <tr>\n",
       "      <th>Switzerland</th>\n",
       "      <td>1832061</td>\n",
       "      <td>296853.0</td>\n",
       "      <td>7148.0</td>\n",
       "    </tr>\n",
       "  </tbody>\n",
       "</table>\n",
       "</div>"
      ],
      "text/plain": [
       "                       Id  ConfirmedCases  Fatalities\n",
       "Country_Region                                       \n",
       "China            19131189       4764627.0    169091.0\n",
       "US              115170363       3222547.0     77343.0\n",
       "Italy             1197658       2078445.0    223179.0\n",
       "Spain             1790866       1614510.0    137486.0\n",
       "Germany           1041117       1249835.0     14032.0\n",
       "France            9710855        987338.0     72246.0\n",
       "Iran              1164702        915866.0     58527.0\n",
       "United Kingdom   24211495        467602.0     38835.0\n",
       "Korea, South      1247092        328015.0      3935.0\n",
       "Switzerland       1832061        296853.0      7148.0"
      ]
     },
     "execution_count": 148,
     "metadata": {},
     "output_type": "execute_result"
    }
   ],
   "source": [
    "latest_df"
   ]
  },
  {
   "cell_type": "code",
   "execution_count": 163,
   "id": "903a3ff7",
   "metadata": {},
   "outputs": [
    {
     "data": {
      "text/plain": [
       "<matplotlib.legend.Legend at 0x18aea6f3e20>"
      ]
     },
     "execution_count": 163,
     "metadata": {},
     "output_type": "execute_result"
    },
    {
     "data": {
      "image/png": "[encoded data removed]",
      "text/plain": [
       "<Figure size 640x480 with 1 Axes>"
      ]
     },
     "metadata": {},
     "output_type": "display_data"
    }
   ],
   "source": [
    "plt.xticks(rotation=90)\n",
    "plt.bar(latest_df.index , latest_df.ConfirmedCases , color = 'b')\n",
    "plt.bar(latest_df.index , latest_df.Fatalities , color = 'r')\n",
    "plt.legend(['Confirmed Cases' , 'Fatalities'])"
   ]
  },
  {
   "cell_type": "markdown",
   "id": "195cc587",
   "metadata": {},
   "source": [
    "Above graph shows us the fatality rate and the confirmed Cases."
   ]
  },
  {
   "cell_type": "markdown",
   "id": "403d92e8",
   "metadata": {},
   "source": [
    "# Q4. How is cases increasing by day of 1st reported case?"
   ]
  },
  {
   "cell_type": "code",
   "execution_count": 264,
   "id": "5917f513",
   "metadata": {},
   "outputs": [],
   "source": [
    "grp2_df = train_df.groupby(['Date','Country_Region']).ConfirmedCases.sum().reset_index().set_index('Date')"
   ]
  },
  {
   "cell_type": "code",
   "execution_count": 265,
   "id": "cdba1449",
   "metadata": {},
   "outputs": [
    {
     "data": {
      "text/html": [
       "<div>\n",
       "<style scoped>\n",
       "    .dataframe tbody tr th:only-of-type {\n",
       "        vertical-align: middle;\n",
       "    }\n",
       "\n",
       "    .dataframe tbody tr th {\n",
       "        vertical-align: top;\n",
       "    }\n",
       "\n",
       "    .dataframe thead th {\n",
       "        text-align: right;\n",
       "    }\n",
       "</style>\n",
       "<table border=\"1\" class=\"dataframe\">\n",
       "  <thead>\n",
       "    <tr style=\"text-align: right;\">\n",
       "      <th></th>\n",
       "      <th>Country_Region</th>\n",
       "      <th>ConfirmedCases</th>\n",
       "    </tr>\n",
       "    <tr>\n",
       "      <th>Date</th>\n",
       "      <th></th>\n",
       "      <th></th>\n",
       "    </tr>\n",
       "  </thead>\n",
       "  <tbody>\n",
       "    <tr>\n",
       "      <th>2020-01-22</th>\n",
       "      <td>Afghanistan</td>\n",
       "      <td>0.0</td>\n",
       "    </tr>\n",
       "    <tr>\n",
       "      <th>2020-01-22</th>\n",
       "      <td>Albania</td>\n",
       "      <td>0.0</td>\n",
       "    </tr>\n",
       "    <tr>\n",
       "      <th>2020-01-22</th>\n",
       "      <td>Algeria</td>\n",
       "      <td>0.0</td>\n",
       "    </tr>\n",
       "    <tr>\n",
       "      <th>2020-01-22</th>\n",
       "      <td>Andorra</td>\n",
       "      <td>0.0</td>\n",
       "    </tr>\n",
       "    <tr>\n",
       "      <th>2020-01-22</th>\n",
       "      <td>Angola</td>\n",
       "      <td>0.0</td>\n",
       "    </tr>\n",
       "    <tr>\n",
       "      <th>...</th>\n",
       "      <td>...</td>\n",
       "      <td>...</td>\n",
       "    </tr>\n",
       "    <tr>\n",
       "      <th>2020-04-07</th>\n",
       "      <td>Venezuela</td>\n",
       "      <td>165.0</td>\n",
       "    </tr>\n",
       "    <tr>\n",
       "      <th>2020-04-07</th>\n",
       "      <td>Vietnam</td>\n",
       "      <td>249.0</td>\n",
       "    </tr>\n",
       "    <tr>\n",
       "      <th>2020-04-07</th>\n",
       "      <td>West Bank and Gaza</td>\n",
       "      <td>261.0</td>\n",
       "    </tr>\n",
       "    <tr>\n",
       "      <th>2020-04-07</th>\n",
       "      <td>Zambia</td>\n",
       "      <td>39.0</td>\n",
       "    </tr>\n",
       "    <tr>\n",
       "      <th>2020-04-07</th>\n",
       "      <td>Zimbabwe</td>\n",
       "      <td>11.0</td>\n",
       "    </tr>\n",
       "  </tbody>\n",
       "</table>\n",
       "<p>13860 rows × 2 columns</p>\n",
       "</div>"
      ],
      "text/plain": [
       "                Country_Region  ConfirmedCases\n",
       "Date                                          \n",
       "2020-01-22         Afghanistan             0.0\n",
       "2020-01-22             Albania             0.0\n",
       "2020-01-22             Algeria             0.0\n",
       "2020-01-22             Andorra             0.0\n",
       "2020-01-22              Angola             0.0\n",
       "...                        ...             ...\n",
       "2020-04-07           Venezuela           165.0\n",
       "2020-04-07             Vietnam           249.0\n",
       "2020-04-07  West Bank and Gaza           261.0\n",
       "2020-04-07              Zambia            39.0\n",
       "2020-04-07            Zimbabwe            11.0\n",
       "\n",
       "[13860 rows x 2 columns]"
      ]
     },
     "execution_count": 265,
     "metadata": {},
     "output_type": "execute_result"
    }
   ],
   "source": [
    "grp2_df"
   ]
  },
  {
   "cell_type": "code",
   "execution_count": 268,
   "id": "28fa3600",
   "metadata": {},
   "outputs": [],
   "source": [
    "list_of_countries  = set(list(latest_df.index))\n",
    "    "
   ]
  },
  {
   "cell_type": "code",
   "execution_count": 271,
   "id": "deea0333",
   "metadata": {},
   "outputs": [
    {
     "data": {
      "text/plain": [
       "<matplotlib.legend.Legend at 0x18b233a5220>"
      ]
     },
     "execution_count": 271,
     "metadata": {},
     "output_type": "execute_result"
    },
    {
     "data": {
      "image/png": "[encoded data removed]",
      "text/plain": [
       "<Figure size 640x480 with 1 Axes>"
      ]
     },
     "metadata": {},
     "output_type": "display_data"
    }
   ],
   "source": [
    "for i in list_of_countries:\n",
    "    plt.plot(grp2.iloc[np.where(grp2_df.Country_Region == i)].index , grp2.iloc[np.where(grp2_df.Country_Region == i)].ConfirmedCases)\n",
    "plt.legend(list_of_countries)\n"
   ]
  },
  {
   "cell_type": "markdown",
   "id": "6ee7cf78",
   "metadata": {},
   "source": [
    "# Q5. Understanding data of India and UK and comparing it with the world?"
   ]
  },
  {
   "cell_type": "code",
   "execution_count": 284,
   "id": "bbb1219c",
   "metadata": {},
   "outputs": [],
   "source": [
    "q5_df = train_df.iloc[np.where((train_df.Country_Region == 'India') | (train_df.Country_Region == 'United Kingdom') )]"
   ]
  },
  {
   "cell_type": "code",
   "execution_count": 290,
   "id": "fc42a553",
   "metadata": {},
   "outputs": [
    {
     "data": {
      "text/html": [
       "<div>\n",
       "<style scoped>\n",
       "    .dataframe tbody tr th:only-of-type {\n",
       "        vertical-align: middle;\n",
       "    }\n",
       "\n",
       "    .dataframe tbody tr th {\n",
       "        vertical-align: top;\n",
       "    }\n",
       "\n",
       "    .dataframe thead th {\n",
       "        text-align: right;\n",
       "    }\n",
       "</style>\n",
       "<table border=\"1\" class=\"dataframe\">\n",
       "  <thead>\n",
       "    <tr style=\"text-align: right;\">\n",
       "      <th></th>\n",
       "      <th>Id</th>\n",
       "      <th>ConfirmedCases</th>\n",
       "      <th>Fatalities</th>\n",
       "    </tr>\n",
       "  </thead>\n",
       "  <tbody>\n",
       "    <tr>\n",
       "      <th>count</th>\n",
       "      <td>847.000000</td>\n",
       "      <td>847.000000</td>\n",
       "      <td>847.000000</td>\n",
       "    </tr>\n",
       "    <tr>\n",
       "      <th>mean</th>\n",
       "      <td>29940.636364</td>\n",
       "      <td>592.452184</td>\n",
       "      <td>46.911452</td>\n",
       "    </tr>\n",
       "    <tr>\n",
       "      <th>std</th>\n",
       "      <td>4764.362714</td>\n",
       "      <td>4275.154918</td>\n",
       "      <td>413.088975</td>\n",
       "    </tr>\n",
       "    <tr>\n",
       "      <th>min</th>\n",
       "      <td>14874.000000</td>\n",
       "      <td>0.000000</td>\n",
       "      <td>0.000000</td>\n",
       "    </tr>\n",
       "    <tr>\n",
       "      <th>25%</th>\n",
       "      <td>31088.500000</td>\n",
       "      <td>0.000000</td>\n",
       "      <td>0.000000</td>\n",
       "    </tr>\n",
       "    <tr>\n",
       "      <th>50%</th>\n",
       "      <td>31390.000000</td>\n",
       "      <td>0.000000</td>\n",
       "      <td>0.000000</td>\n",
       "    </tr>\n",
       "    <tr>\n",
       "      <th>75%</th>\n",
       "      <td>31691.500000</td>\n",
       "      <td>4.000000</td>\n",
       "      <td>0.000000</td>\n",
       "    </tr>\n",
       "    <tr>\n",
       "      <th>max</th>\n",
       "      <td>31963.000000</td>\n",
       "      <td>55242.000000</td>\n",
       "      <td>6159.000000</td>\n",
       "    </tr>\n",
       "  </tbody>\n",
       "</table>\n",
       "</div>"
      ],
      "text/plain": [
       "                 Id  ConfirmedCases   Fatalities\n",
       "count    847.000000      847.000000   847.000000\n",
       "mean   29940.636364      592.452184    46.911452\n",
       "std     4764.362714     4275.154918   413.088975\n",
       "min    14874.000000        0.000000     0.000000\n",
       "25%    31088.500000        0.000000     0.000000\n",
       "50%    31390.000000        0.000000     0.000000\n",
       "75%    31691.500000        4.000000     0.000000\n",
       "max    31963.000000    55242.000000  6159.000000"
      ]
     },
     "execution_count": 290,
     "metadata": {},
     "output_type": "execute_result"
    }
   ],
   "source": [
    "q5_df.describe()"
   ]
  },
  {
   "cell_type": "code",
   "execution_count": 292,
   "id": "a250d79e",
   "metadata": {},
   "outputs": [],
   "source": [
    "q5_df_group = q5_df.groupby('Country_Region').sum()"
   ]
  },
  {
   "cell_type": "code",
   "execution_count": 293,
   "id": "2455cacb",
   "metadata": {},
   "outputs": [
    {
     "data": {
      "text/html": [
       "<div>\n",
       "<style scoped>\n",
       "    .dataframe tbody tr th:only-of-type {\n",
       "        vertical-align: middle;\n",
       "    }\n",
       "\n",
       "    .dataframe tbody tr th {\n",
       "        vertical-align: top;\n",
       "    }\n",
       "\n",
       "    .dataframe thead th {\n",
       "        text-align: right;\n",
       "    }\n",
       "</style>\n",
       "<table border=\"1\" class=\"dataframe\">\n",
       "  <thead>\n",
       "    <tr style=\"text-align: right;\">\n",
       "      <th></th>\n",
       "      <th>Id</th>\n",
       "      <th>ConfirmedCases</th>\n",
       "      <th>Fatalities</th>\n",
       "    </tr>\n",
       "    <tr>\n",
       "      <th>Country_Region</th>\n",
       "      <th></th>\n",
       "      <th></th>\n",
       "      <th></th>\n",
       "    </tr>\n",
       "  </thead>\n",
       "  <tbody>\n",
       "    <tr>\n",
       "      <th>India</th>\n",
       "      <td>1148224</td>\n",
       "      <td>34205.0</td>\n",
       "      <td>899.0</td>\n",
       "    </tr>\n",
       "    <tr>\n",
       "      <th>United Kingdom</th>\n",
       "      <td>24211495</td>\n",
       "      <td>467602.0</td>\n",
       "      <td>38835.0</td>\n",
       "    </tr>\n",
       "  </tbody>\n",
       "</table>\n",
       "</div>"
      ],
      "text/plain": [
       "                      Id  ConfirmedCases  Fatalities\n",
       "Country_Region                                      \n",
       "India            1148224         34205.0       899.0\n",
       "United Kingdom  24211495        467602.0     38835.0"
      ]
     },
     "execution_count": 293,
     "metadata": {},
     "output_type": "execute_result"
    }
   ],
   "source": [
    "q5_df_group"
   ]
  },
  {
   "cell_type": "code",
   "execution_count": 301,
   "id": "26088a33",
   "metadata": {},
   "outputs": [
    {
     "data": {
      "text/plain": [
       "<matplotlib.legend.Legend at 0x18b249ac280>"
      ]
     },
     "execution_count": 301,
     "metadata": {},
     "output_type": "execute_result"
    },
    {
     "data": {
      "image/png": "[encoded data removed]",
      "text/plain": [
       "<Figure size 640x480 with 1 Axes>"
      ]
     },
     "metadata": {},
     "output_type": "display_data"
    }
   ],
   "source": [
    "plt.bar(q5_df_group.index , q5_df_group.ConfirmedCases )\n",
    "plt.bar(q5_df_group.index , q5_df_group.Fatalities )\n",
    "\n",
    "plt.legend(['ConfirmedCases' , 'Fatalities'])"
   ]
  },
  {
   "cell_type": "markdown",
   "id": "0e91a179",
   "metadata": {},
   "source": [
    "UK has the highest number of confirmed cases and fatalities as compared to India "
   ]
  },
  {
   "cell_type": "markdown",
   "id": "f27f6ba7",
   "metadata": {},
   "source": [
    "# Q6. What is new rate of increase per case per day?"
   ]
  },
  {
   "cell_type": "code",
   "execution_count": 358,
   "id": "be302764",
   "metadata": {},
   "outputs": [],
   "source": [
    "train_df.head()\n",
    "grp12 = train_df.groupby(train_df.index).sum()"
   ]
  },
  {
   "cell_type": "code",
   "execution_count": 363,
   "id": "8beb176f",
   "metadata": {},
   "outputs": [],
   "source": [
    "grp12['Rate_of_Increase'] = grp12['ConfirmedCases'].diff()"
   ]
  },
  {
   "cell_type": "code",
   "execution_count": 364,
   "id": "9a80551b",
   "metadata": {},
   "outputs": [
    {
     "data": {
      "text/html": [
       "<div>\n",
       "<style scoped>\n",
       "    .dataframe tbody tr th:only-of-type {\n",
       "        vertical-align: middle;\n",
       "    }\n",
       "\n",
       "    .dataframe tbody tr th {\n",
       "        vertical-align: top;\n",
       "    }\n",
       "\n",
       "    .dataframe thead th {\n",
       "        text-align: right;\n",
       "    }\n",
       "</style>\n",
       "<table border=\"1\" class=\"dataframe\">\n",
       "  <thead>\n",
       "    <tr style=\"text-align: right;\">\n",
       "      <th></th>\n",
       "      <th>Id</th>\n",
       "      <th>ConfirmedCases</th>\n",
       "      <th>Fatalities</th>\n",
       "      <th>Rate_of_Increase</th>\n",
       "    </tr>\n",
       "    <tr>\n",
       "      <th>Date</th>\n",
       "      <th></th>\n",
       "      <th></th>\n",
       "      <th></th>\n",
       "      <th></th>\n",
       "    </tr>\n",
       "  </thead>\n",
       "  <tbody>\n",
       "    <tr>\n",
       "      <th>2020-01-22</th>\n",
       "      <td>4993461</td>\n",
       "      <td>554.0</td>\n",
       "      <td>17.0</td>\n",
       "      <td>NaN</td>\n",
       "    </tr>\n",
       "    <tr>\n",
       "      <th>2020-01-23</th>\n",
       "      <td>4993767</td>\n",
       "      <td>653.0</td>\n",
       "      <td>18.0</td>\n",
       "      <td>99.0</td>\n",
       "    </tr>\n",
       "    <tr>\n",
       "      <th>2020-01-24</th>\n",
       "      <td>4994073</td>\n",
       "      <td>939.0</td>\n",
       "      <td>26.0</td>\n",
       "      <td>286.0</td>\n",
       "    </tr>\n",
       "    <tr>\n",
       "      <th>2020-01-25</th>\n",
       "      <td>4994379</td>\n",
       "      <td>1432.0</td>\n",
       "      <td>42.0</td>\n",
       "      <td>493.0</td>\n",
       "    </tr>\n",
       "    <tr>\n",
       "      <th>2020-01-26</th>\n",
       "      <td>4994685</td>\n",
       "      <td>2113.0</td>\n",
       "      <td>56.0</td>\n",
       "      <td>681.0</td>\n",
       "    </tr>\n",
       "    <tr>\n",
       "      <th>...</th>\n",
       "      <td>...</td>\n",
       "      <td>...</td>\n",
       "      <td>...</td>\n",
       "      <td>...</td>\n",
       "    </tr>\n",
       "    <tr>\n",
       "      <th>2020-04-03</th>\n",
       "      <td>5015493</td>\n",
       "      <td>1095739.0</td>\n",
       "      <td>58782.0</td>\n",
       "      <td>82758.0</td>\n",
       "    </tr>\n",
       "    <tr>\n",
       "      <th>2020-04-04</th>\n",
       "      <td>5015799</td>\n",
       "      <td>1197225.0</td>\n",
       "      <td>64601.0</td>\n",
       "      <td>101486.0</td>\n",
       "    </tr>\n",
       "    <tr>\n",
       "      <th>2020-04-05</th>\n",
       "      <td>5016105</td>\n",
       "      <td>1271928.0</td>\n",
       "      <td>69369.0</td>\n",
       "      <td>74703.0</td>\n",
       "    </tr>\n",
       "    <tr>\n",
       "      <th>2020-04-06</th>\n",
       "      <td>5016411</td>\n",
       "      <td>1344909.0</td>\n",
       "      <td>74560.0</td>\n",
       "      <td>72981.0</td>\n",
       "    </tr>\n",
       "    <tr>\n",
       "      <th>2020-04-07</th>\n",
       "      <td>5016717</td>\n",
       "      <td>1425900.0</td>\n",
       "      <td>81858.0</td>\n",
       "      <td>80991.0</td>\n",
       "    </tr>\n",
       "  </tbody>\n",
       "</table>\n",
       "<p>77 rows × 4 columns</p>\n",
       "</div>"
      ],
      "text/plain": [
       "                 Id  ConfirmedCases  Fatalities  Rate_of_Increase\n",
       "Date                                                             \n",
       "2020-01-22  4993461           554.0        17.0               NaN\n",
       "2020-01-23  4993767           653.0        18.0              99.0\n",
       "2020-01-24  4994073           939.0        26.0             286.0\n",
       "2020-01-25  4994379          1432.0        42.0             493.0\n",
       "2020-01-26  4994685          2113.0        56.0             681.0\n",
       "...             ...             ...         ...               ...\n",
       "2020-04-03  5015493       1095739.0     58782.0           82758.0\n",
       "2020-04-04  5015799       1197225.0     64601.0          101486.0\n",
       "2020-04-05  5016105       1271928.0     69369.0           74703.0\n",
       "2020-04-06  5016411       1344909.0     74560.0           72981.0\n",
       "2020-04-07  5016717       1425900.0     81858.0           80991.0\n",
       "\n",
       "[77 rows x 4 columns]"
      ]
     },
     "execution_count": 364,
     "metadata": {},
     "output_type": "execute_result"
    }
   ],
   "source": [
    "grp12"
   ]
  },
  {
   "cell_type": "code",
   "execution_count": 365,
   "id": "691c9c92",
   "metadata": {},
   "outputs": [
    {
     "data": {
      "text/plain": [
       "[<matplotlib.lines.Line2D at 0x18b26f8f6a0>]"
      ]
     },
     "execution_count": 365,
     "metadata": {},
     "output_type": "execute_result"
    },
    {
     "data": {
      "image/png": "[encoded data removed]",
      "text/plain": [
       "<Figure size 640x480 with 1 Axes>"
      ]
     },
     "metadata": {},
     "output_type": "display_data"
    }
   ],
   "source": [
    "plt.plot(grp12.index , grp12.Rate_of_Increase)"
   ]
  },
  {
   "cell_type": "code",
   "execution_count": null,
   "id": "3d69a37a",
   "metadata": {},
   "outputs": [],
   "source": []
  }
 ],
 "metadata": {
  "kernelspec": {
   "display_name": "Python 3 (ipykernel)",
   "language": "python",
   "name": "python3"
  },
  "language_info": {
   "codemirror_mode": {
    "name": "ipython",
    "version": 3
   },
   "file_extension": ".py",
   "mimetype": "text/x-python",
   "name": "python",
   "nbconvert_exporter": "python",
   "pygments_lexer": "ipython3",
   "version": "3.9.13"
  }
 },
 "nbformat": 4,
 "nbformat_minor": 5
}
