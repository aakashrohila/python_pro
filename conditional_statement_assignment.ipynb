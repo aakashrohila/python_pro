{
  "nbformat": 4,
  "nbformat_minor": 0,
  "metadata": {
    "colab": {
      "provenance": [],
      "collapsed_sections": [],
      "authorship_tag": "ABX9TyOeEx9Lr48HILfb1RYGB9wP",
      "include_colab_link": true
    },
    "kernelspec": {
      "name": "python3",
      "display_name": "Python 3"
    },
    "language_info": {
      "name": "python"
    }
  },
  "cells": [
    {
      "cell_type": "markdown",
      "metadata": {
        "id": "view-in-github",
        "colab_type": "text"
      },
      "source": [
        "<a href=\"https://colab.research.google.com/github/aakashrohila/python_pro/blob/master/conditional_statement_assignment.ipynb\" target=\"_parent\"><img src=\"https://colab.research.google.com/assets/colab-badge.svg\" alt=\"Open In Colab\"/></a>"
      ]
    },
    {
      "cell_type": "markdown",
      "source": [
        "1."
      ],
      "metadata": {
        "id": "OEhl7njzy0Kp"
      }
    },
    {
      "cell_type": "code",
      "execution_count": null,
      "metadata": {
        "id": "TThry1y9jPEf",
        "colab": {
          "base_uri": "https://localhost:8080/"
        },
        "outputId": "f88e521a-31c8-4d3f-f791-208b6e02c025"
      },
      "outputs": [
        {
          "output_type": "stream",
          "name": "stdout",
          "text": [
            "Enter a number 1 : 15\n",
            "Enter a number 2 : 15\n",
            "Number1 and Number2 are equal\n"
          ]
        }
      ],
      "source": [
        "num1 = int(input(\"Enter a number 1 : \"))\n",
        "num2 = int(input(\"Enter a number 2 : \"))\n",
        "\n",
        "if num1 == num2 :\n",
        "  print(\"Number1 and Number2 are equal\")\n",
        "\n",
        "else:\n",
        "  print(\"Number1 and Number2 are not equal\")"
      ]
    },
    {
      "cell_type": "markdown",
      "source": [
        "2."
      ],
      "metadata": {
        "id": "zIGiHWxAy1gZ"
      }
    },
    {
      "cell_type": "code",
      "source": [
        "num1 = int(input('Enter a number: '))\n",
        "\n",
        "if num1%2==0:\n",
        "  print(num1,\"is an even integer\")\n",
        "\n",
        "else:\n",
        "  print(num2,\"is an odd integer\")"
      ],
      "metadata": {
        "colab": {
          "base_uri": "https://localhost:8080/"
        },
        "id": "d_FfRmC5r27c",
        "outputId": "0ea918f2-1a37-4e6d-b4ba-88b5e51afcaa"
      },
      "execution_count": null,
      "outputs": [
        {
          "output_type": "stream",
          "name": "stdout",
          "text": [
            "Enter a number: 15\n",
            "15 is an odd integer\n"
          ]
        }
      ]
    },
    {
      "cell_type": "markdown",
      "source": [
        "3."
      ],
      "metadata": {
        "id": "hNuMyZkwzu3u"
      }
    },
    {
      "cell_type": "code",
      "source": [
        "num1 = int(input(\"Enter a number: \"))\n",
        "\n",
        "if num1>0:\n",
        "  print(num1,\"is a positive number\")\n",
        "\n",
        "else:\n",
        "  print(num1,\"is a negative number\")\n",
        "  "
      ],
      "metadata": {
        "colab": {
          "base_uri": "https://localhost:8080/"
        },
        "id": "LRqHCncJzvqX",
        "outputId": "42a3cea7-4be9-4ead-9a01-6338917778dd"
      },
      "execution_count": null,
      "outputs": [
        {
          "output_type": "stream",
          "name": "stdout",
          "text": [
            "Enter a number: 15\n",
            "15 is a positive number\n"
          ]
        }
      ]
    },
    {
      "cell_type": "markdown",
      "source": [
        "4."
      ],
      "metadata": {
        "id": "SKZe8_1i0Rzk"
      }
    },
    {
      "cell_type": "code",
      "source": [
        "num1=int(input(\"Enter a number: \"))\n",
        "\n",
        "if (num1%4==0 and num1%100!=0) or (num1%400==0):\n",
        "  print(num1,\"is a leap year\")\n",
        "\n",
        "else:\n",
        "  print(num1,\"is not leap year\")\n"
      ],
      "metadata": {
        "colab": {
          "base_uri": "https://localhost:8080/"
        },
        "id": "rgI9nG1r0J2P",
        "outputId": "bbf7c966-fca0-45a0-dd2c-dbb4319182b6"
      },
      "execution_count": null,
      "outputs": [
        {
          "output_type": "stream",
          "name": "stdout",
          "text": [
            "Enter a number: 1900\n",
            "1900 is not leap year\n"
          ]
        }
      ]
    },
    {
      "cell_type": "markdown",
      "source": [
        "5."
      ],
      "metadata": {
        "id": "yyTnQ_Et0VRj"
      }
    },
    {
      "cell_type": "code",
      "source": [
        "num1 = int(input(\"Enter your age: \"))\n",
        "if num1>=18:\n",
        "  print(\"Congratulation! You are eligible for casting your vote.\")\n",
        "\n",
        "else:\n",
        "  print(\"Sorry you are not eligible\")"
      ],
      "metadata": {
        "colab": {
          "base_uri": "https://localhost:8080/"
        },
        "id": "x9nPbdTk0WM-",
        "outputId": "a7977c43-0de5-4375-bdc0-1ddc020cad00"
      },
      "execution_count": null,
      "outputs": [
        {
          "output_type": "stream",
          "name": "stdout",
          "text": [
            "Enter your age: 21\n",
            "Congratulation! You are eligible for casting your vote.\n"
          ]
        }
      ]
    },
    {
      "cell_type": "markdown",
      "source": [
        "6."
      ],
      "metadata": {
        "id": "Ob0OHYue5Xy_"
      }
    },
    {
      "cell_type": "code",
      "source": [
        "m=int(input(\"Enter a number: \"))\n",
        "\n",
        "if m>0:\n",
        "  n=1\n",
        "elif m<0:\n",
        "  n=-1\n",
        "else:\n",
        "  n=0\n",
        "\n",
        "print(\"The value of n =\",n)"
      ],
      "metadata": {
        "colab": {
          "base_uri": "https://localhost:8080/"
        },
        "id": "SY2rTWb-5YxC",
        "outputId": "80a5716f-ac32-4866-96ee-ff6be8b8a218"
      },
      "execution_count": null,
      "outputs": [
        {
          "output_type": "stream",
          "name": "stdout",
          "text": [
            "Enter a number: -5\n",
            "The value of n = -1\n"
          ]
        }
      ]
    },
    {
      "cell_type": "markdown",
      "source": [
        "7."
      ],
      "metadata": {
        "id": "9R5VrAoB6ISR"
      }
    },
    {
      "cell_type": "code",
      "source": [
        "height=int(input(\"Enter your height in cm: \"))\n",
        "\n",
        "if height<150:\n",
        "  print(\"The person is Dwarf\")\n",
        "\n",
        "elif height<200:\n",
        "  print(\"The person is Average\")\n",
        "\n",
        "else:\n",
        "  print(\"The person is heighted\")\n",
        "  "
      ],
      "metadata": {
        "colab": {
          "base_uri": "https://localhost:8080/"
        },
        "id": "2yB-oE2w6HWw",
        "outputId": "56b8abf5-b412-4112-f39b-e248fea08d59"
      },
      "execution_count": null,
      "outputs": [
        {
          "output_type": "stream",
          "name": "stdout",
          "text": [
            "Enter your height in cm: 135\n",
            "The person is Dwarf\n"
          ]
        }
      ]
    },
    {
      "cell_type": "markdown",
      "source": [
        "8."
      ],
      "metadata": {
        "id": "zcHvEC056qij"
      }
    },
    {
      "cell_type": "code",
      "source": [
        "x=int(input(\"1st Number =\"))\n",
        "y=int(input(\"2nd Number =\"))\n",
        "z=int(input(\"3rd Number =\"))\n",
        "\n",
        "if x>y and x>z:\n",
        "  print(\"The 1st Number is the greatest among three\")\n",
        "\n",
        "elif y>x and y>z:\n",
        "  print(\"The 2nd Number is the greatest among three\") \n",
        "\n",
        "else:\n",
        "  print(\"The 3rd Number is the largest among three\") "
      ],
      "metadata": {
        "colab": {
          "base_uri": "https://localhost:8080/"
        },
        "id": "FixUVv_g6rsv",
        "outputId": "3f35f3a8-4ef4-4997-fcbd-26621a32953e"
      },
      "execution_count": null,
      "outputs": [
        {
          "output_type": "stream",
          "name": "stdout",
          "text": [
            "1st Number =12\n",
            "2nd Number =25\n",
            "3rd Number =52\n",
            "The 3rd Number is the largest among three\n"
          ]
        }
      ]
    },
    {
      "cell_type": "markdown",
      "source": [
        "9."
      ],
      "metadata": {
        "id": "BYrrY_4V7hU1"
      }
    },
    {
      "cell_type": "code",
      "source": [
        "x=int(input(\"Enter x coordinate: \"))\n",
        "y=int(input(\"Enter y coordinate: \"))\n",
        "\n",
        "if x>0 and y>0 :\n",
        "  print(\"The coordinate point (\",x,\",\",y,\") lies in the First quadrant\")\n",
        "\n",
        "elif x<0 and y>0:\n",
        "  print(\"The coordinate point (\",x,\",\",y,\") lies in the Second quadrant\")\n",
        "\n",
        "elif x<0 and y<0:\n",
        "  print(\"The coordinate point (\",x,\",\",y,\") lies in the Third quadrant\")\n",
        "\n",
        "else:\n",
        "  print(\"The coordinate point (\",x,\",\",y,\") lies in the Forth quadrant\")"
      ],
      "metadata": {
        "colab": {
          "base_uri": "https://localhost:8080/"
        },
        "id": "0P48orGQ7iGf",
        "outputId": "c0e242fd-73e4-412a-e1b9-901e3742c22b"
      },
      "execution_count": null,
      "outputs": [
        {
          "output_type": "stream",
          "name": "stdout",
          "text": [
            "Enter x coordinate: 7\n",
            "Enter y coordinate: 9\n",
            "The coordinate point ( 7 , 9 ) lies in the First quadrant\n"
          ]
        }
      ]
    },
    {
      "cell_type": "markdown",
      "source": [
        "10.\n",
        "10. Write a C program to find the eligibility of admission for a professional course based on the following criteria: Eligibility Criteria : Marks in Maths >=65 and Marks in Phy >=55 and Marks in Chem>=50 and Total in all three subject >=190 or Total in Maths and Physics >=140 ------------------------------------- Input the marks obtained in Physics :65 Input the marks obtained in Chemistry :51 Input the marks obtained in Mathematics :72 Total marks of Maths, Physics and Chemistry : 188 Total marks of Maths and Physics : 137 The candidate is not eligible. Expected Output : The candidate is not eligible for admission."
      ],
      "metadata": {
        "id": "vDFM1iNz8YGE"
      }
    },
    {
      "cell_type": "code",
      "source": [
        "phy=int(input(\" Input the marks obtained in Physics \"))\n",
        "chem=int(input(\" Input the marks obtained in Chemistry \"))\n",
        "math=int(input(\" Input the marks obtained in Maths \"))\n",
        "\n",
        "\n",
        "total1=math+phy+chem\n",
        "total2=math+phy\n",
        "\n",
        "print(\"Total marks of Maths, Physics and Chemistry : \",total1)\n",
        "print(\"Total marks of Maths, Physics : \",total2)\n",
        "if (math>=65 and phy>=55 and chem>=50) and (total1 >=190  or total2 >=140) :\n",
        "  print(\"The candidate is eligible for admission\") \n",
        "\n",
        "else:\n",
        "  print(\"The candidate is not eligible for admission\")"
      ],
      "metadata": {
        "colab": {
          "base_uri": "https://localhost:8080/"
        },
        "id": "7rAXNdDe8ZfL",
        "outputId": "d7627fdc-16e6-4cc3-c38f-181d429bc94b"
      },
      "execution_count": null,
      "outputs": [
        {
          "output_type": "stream",
          "name": "stdout",
          "text": [
            " Input the marks obtained in Physics 65\n",
            " Input the marks obtained in Chemistry 51\n",
            " Input the marks obtained in Maths 72\n",
            "Total marks of Maths, Physics and Chemistry :  188\n",
            "Total marks of Maths, Physics :  137\n",
            "The candidate is not eligible for admission\n"
          ]
        }
      ]
    },
    {
      "cell_type": "markdown",
      "source": [
        "11."
      ],
      "metadata": {
        "id": "-E66_V9aBN4L"
      }
    },
    {
      "cell_type": "code",
      "source": [
        "print(\"Program to display roots existence:\")\n",
        "print(\"ax^2 + bx + c\")\n",
        "a = int(input(\"Enter the value of a :\"))\n",
        "b = int(input(\"Enter the value of b :\"))\n",
        "c = int(input(\"Enter the value of c :\"))\n",
        "\n",
        "root =  b**2 - 4*a*c \n",
        "\n",
        "if root==0:\n",
        "  print(\"Roots are equal\")\n",
        "\n",
        "elif root>0:\n",
        "  print(\"Roots are unequal\")\n",
        "\n",
        "else:\n",
        "  print(\"Roots are imaginary\")"
      ],
      "metadata": {
        "id": "nVUoo45cBPFY",
        "colab": {
          "base_uri": "https://localhost:8080/"
        },
        "outputId": "97252293-18aa-497d-8a4d-0da84508ea0f"
      },
      "execution_count": null,
      "outputs": [
        {
          "output_type": "stream",
          "name": "stdout",
          "text": [
            "Program to display roots existence:\n",
            "ax^2 + bx + c\n",
            "Enter the value of a :1\n",
            "Enter the value of b :5\n",
            "Enter the value of c :7\n",
            "Roots are imaginary\n"
          ]
        }
      ]
    },
    {
      "cell_type": "markdown",
      "source": [
        "12."
      ],
      "metadata": {
        "id": "tZe7Mbs7BaTa"
      }
    },
    {
      "cell_type": "code",
      "source": [
        "roll=int(input(\"Input the Roll Number of the student :\"))\n",
        "name=input(\"Input the Name of the Student :\")\n",
        "phy=int(input(\"Input the marks of Physics\"))\n",
        "chem=int(input(\"Input the marks of Chemistry\"))\n",
        "comp=int(input(\"Input the marks of Computer Application\"))\n",
        "\n",
        "print(\"Roll No :\",roll )\n",
        "print(\"Name of Student :\",name)\n",
        "print(\"Marks in Physics :\",phy)\n",
        "print(\"Marks in Chemistry :\",chem)\n",
        "print(\"Marks in Computer Application :\",comp)\n",
        "print(\"Total marks =\",phy+chem+comp)\n",
        "print(\"Percentage = \",(phy+chem+comp)/300 * 100 )"
      ],
      "metadata": {
        "colab": {
          "base_uri": "https://localhost:8080/"
        },
        "id": "xx75DJqjBZue",
        "outputId": "4ab495a5-9cbc-45fc-8543-0e3ae128b1e2"
      },
      "execution_count": null,
      "outputs": [
        {
          "output_type": "stream",
          "name": "stdout",
          "text": [
            "Input the Roll Number of the student :784\n",
            "Input the Name of the Student :James\n",
            "Input the marks of Physics70\n",
            "Input the marks of Chemistry80\n",
            "Input the marks of Computer Application90\n",
            "Roll No : 784\n",
            "Name of Student : James\n",
            "Marks in Physics : 70\n",
            "Marks in Chemistry : 80\n",
            "Marks in Computer Application : 90\n",
            "Total marks = 240\n",
            "Percentage =  80.0\n"
          ]
        }
      ]
    },
    {
      "cell_type": "markdown",
      "source": [
        "13."
      ],
      "metadata": {
        "id": "4Aql0Wf0DbPL"
      }
    },
    {
      "cell_type": "code",
      "source": [
        "temp=int(input(\"Enter your temperature:\"))\n",
        "\n",
        "if temp>=40:\n",
        "  print(\"Its very hot\")\n",
        "\n",
        "elif temp>=30:\n",
        "  print(\"Its Hot\")\n",
        "\n",
        "elif temp>=20:\n",
        "  print(\"Normal in Temp\")\n",
        "\n",
        "elif temp>=10:\n",
        "  print(\"Cold Weather\")\n",
        "\n",
        "elif temp>=0:\n",
        "  print(\"Very Cold Weather\")\n",
        "\n",
        "else:\n",
        "  print(\"Freezing weather\")"
      ],
      "metadata": {
        "colab": {
          "base_uri": "https://localhost:8080/"
        },
        "id": "OiRHglcJDcxf",
        "outputId": "28d77841-cbdf-4983-87fa-c3f141fd07ef"
      },
      "execution_count": null,
      "outputs": [
        {
          "output_type": "stream",
          "name": "stdout",
          "text": [
            "Enter your temperature:42\n",
            "Its very hot\n"
          ]
        }
      ]
    },
    {
      "cell_type": "markdown",
      "source": [
        "14."
      ],
      "metadata": {
        "id": "lPZ4tIX0EXqr"
      }
    },
    {
      "cell_type": "code",
      "source": [
        "angle1 = int(input(\"Enter your angle1 :\"))\n",
        "angle2 = int(input(\"Enter your angle2 :\"))\n",
        "angle3 = int(input(\"Enter your angle3 :\"))\n",
        "\n",
        "if angle1+angle2+angle3 == 180 :\n",
        "  if angle1 == 60 and angle2 == 60:\n",
        "    print(\"This is an equilateral traingle\")\n",
        "  \n",
        "  elif angle1 == angle2 or angle1 == angle3 or angle1==angle3:\n",
        "    print(\"This is an Isosceles triangle\")\n",
        "  \n",
        "  else:\n",
        "    print(\"This is an Scalene triangle\")\n",
        "\n",
        "else:\n",
        "  print(\"Bro its definitely not a triangle\")"
      ],
      "metadata": {
        "colab": {
          "base_uri": "https://localhost:8080/"
        },
        "id": "09Cff7rgEYjd",
        "outputId": "8f645d10-23a5-4dd6-f499-0b54422eda6b"
      },
      "execution_count": null,
      "outputs": [
        {
          "output_type": "stream",
          "name": "stdout",
          "text": [
            "Enter your angle1 :50\n",
            "Enter your angle2 :50\n",
            "Enter your angle3 :60\n",
            "Bro its definitely not a triangle\n"
          ]
        }
      ]
    },
    {
      "cell_type": "markdown",
      "source": [
        "15."
      ],
      "metadata": {
        "id": "3VGcWSQNGTEf"
      }
    },
    {
      "cell_type": "code",
      "source": [
        "angle1 = int(input(\"Enter your angle1 :\"))\n",
        "angle2 = int(input(\"Enter your angle2 :\"))\n",
        "angle3 = int(input(\"Enter your angle3 :\"))\n",
        "\n",
        "if angle1+angle2+angle3 == 180 :\n",
        "  print(\"The Triangle is valid\")\n",
        "\n",
        "else:\n",
        "  print(\"This Triangle is not valid\")"
      ],
      "metadata": {
        "colab": {
          "base_uri": "https://localhost:8080/"
        },
        "id": "hLxfYCw_GYIW",
        "outputId": "d722881c-9993-49c5-da76-c2bd65876b6c"
      },
      "execution_count": null,
      "outputs": [
        {
          "output_type": "stream",
          "name": "stdout",
          "text": [
            "Enter your angle1 :40\n",
            "Enter your angle2 :55\n",
            "Enter your angle3 :65\n",
            "This Triangle is not valid\n"
          ]
        }
      ]
    },
    {
      "cell_type": "markdown",
      "source": [
        "16."
      ],
      "metadata": {
        "id": "a3ccmaYMGjwv"
      }
    },
    {
      "cell_type": "code",
      "source": [
        "char = input(\"Press a key on keyboard :\")\n",
        "\n",
        "if char.isdigit() :\n",
        "  print(\"This is a digit\")\n",
        "\n",
        "elif char.isalpha() :\n",
        "  print(\"This is an alphabet\")\n",
        "\n",
        "else:\n",
        "  print(\"This is a special character\")"
      ],
      "metadata": {
        "colab": {
          "base_uri": "https://localhost:8080/"
        },
        "id": "nf6Ayw9UGrWw",
        "outputId": "3c2a7af0-34ef-4aca-efe9-4fbd59158bf5"
      },
      "execution_count": null,
      "outputs": [
        {
          "output_type": "stream",
          "name": "stdout",
          "text": [
            "Press a key on keyboard :@\n",
            "This is a special character\n"
          ]
        }
      ]
    },
    {
      "cell_type": "markdown",
      "source": [
        "17."
      ],
      "metadata": {
        "id": "9L0TR7R2Hnz-"
      }
    },
    {
      "cell_type": "code",
      "source": [
        "char = input(\"Enter your alphabet :\")\n",
        "\n",
        "if char in ['a' 'e' 'i' 'o' 'u']:\n",
        "  print(\"The alphabet is a vowel\")\n",
        "else:\n",
        "  print(\"The alphabet is a consonant\")\n"
      ],
      "metadata": {
        "colab": {
          "base_uri": "https://localhost:8080/"
        },
        "id": "cDYIKiGMHnfY",
        "outputId": "564a4673-d63d-4711-ea5b-de45a09565d1"
      },
      "execution_count": null,
      "outputs": [
        {
          "output_type": "stream",
          "name": "stdout",
          "text": [
            "Enter your alphabet :k\n",
            "The alphabet is a consonant\n"
          ]
        }
      ]
    },
    {
      "cell_type": "markdown",
      "source": [
        "18."
      ],
      "metadata": {
        "id": "R8Fsdu1zJxzw"
      }
    },
    {
      "cell_type": "code",
      "source": [
        "cp = int(input(\"Enter your cost price :\"))\n",
        "sp = int(input(\"Enter your selling price :\"))\n",
        "\n",
        "if sp>cp:\n",
        "  print(\"You can booked your profit amount :\",sp-cp)\n",
        "else:\n",
        "  print(\"You can booked your loss amount :\",cp-sp)"
      ],
      "metadata": {
        "colab": {
          "base_uri": "https://localhost:8080/"
        },
        "id": "OLFyjGr2JzVe",
        "outputId": "f0e1ee9a-2da3-4c6b-f229-9c8ca0bfc7f3"
      },
      "execution_count": null,
      "outputs": [
        {
          "output_type": "stream",
          "name": "stdout",
          "text": [
            "Enter your cost price :500\n",
            "Enter your selling price :700\n",
            "You can booked your profit amount : 200\n"
          ]
        }
      ]
    },
    {
      "cell_type": "markdown",
      "source": [
        "19."
      ],
      "metadata": {
        "id": "LqEzz146Kt2w"
      }
    },
    {
      "cell_type": "code",
      "source": [
        "id=int(input(\"Enter your customer id : \"))\n",
        "name=input(\"Enter your name : \")\n",
        "unit=int(input(\"Enter your unit consumed : \"))\n",
        "\n",
        "print(\"Customer IDNO :\",id)\n",
        "print(\"Customer Name :\",name)\n",
        "print(\"Unit Consumed :\",unit)\n",
        "\n",
        "if unit<199:\n",
        "  if unit*1.20 > 100:\n",
        "    print(\"Amount Charges@Rs.1.20 per unit : \",unit*1.20)\n",
        "  else:\n",
        "    print(\"Amount Charges@Rs.1.20 per unit : \",100.00)\n",
        "\n",
        "elif unit<400:\n",
        "  if unit*1.50 < 400:\n",
        "    print(\"Amount Charges@Rs.1.50 per unit : \",unit*1.50)\n",
        "  else:\n",
        "    sur=unit*1.50*0.15\n",
        "    print(\"Amount Charges@Rs.1.50 per unit : \",unit*1.50)\n",
        "    print(\"Surcharge Amount :\",sur)\n",
        "    print(\"Net Amount Paid by the Customer : \",unit*1.50 + sur)\n",
        "\n",
        "elif unit<600:\n",
        "  sur=unit*1.80*0.15\n",
        "  print(\"Amount Charges@Rs1.80 per unit : \",unit*1.80)\n",
        "  print(\"Surcharge Amount :\",sur)\n",
        "  print(\"Net Amount Paid by the Customer : \",unit*1.80 + sur)\n",
        "\n",
        "else:\n",
        "  sur=unit*2.00*0.15\n",
        "  print(\"Amount Charges@Rs2.00 per unit : \",unit*2.00)\n",
        "  print(\"Surcharge Amount :\",sur)\n",
        "  print(\"Net Amount Paid by the Customer : \",unit*2.00 + sur)\n"
      ],
      "metadata": {
        "colab": {
          "base_uri": "https://localhost:8080/"
        },
        "id": "336Xq9RcKu1K",
        "outputId": "6660589a-efea-43fe-ec67-d8304ce1837c"
      },
      "execution_count": null,
      "outputs": [
        {
          "output_type": "stream",
          "name": "stdout",
          "text": [
            "Enter your customer id : 1001\n",
            "Enter your name : James\n",
            "Enter your unit consumed : 800\n",
            "Customer IDNO : 1001\n",
            "Customer Name : James\n",
            "Unit Consumed : 800\n",
            "Amount Charges@Rs2.00 per unit :  1600.0\n",
            "Surcharge Amount : 240.0\n",
            "Net Amount Paid by the Customer :  1840.0\n"
          ]
        }
      ]
    },
    {
      "cell_type": "markdown",
      "source": [
        "20."
      ],
      "metadata": {
        "id": "7-aAf62WRTwL"
      }
    },
    {
      "cell_type": "code",
      "source": [
        "grade = input(\"Input the grade : \")\n",
        "\n",
        "if grade == 'E':\n",
        "  print(\"You have chosen : Excellent\")\n",
        "\n",
        "elif grade == 'V':\n",
        "  print(\"You have chosen : Very Good\")  \n",
        "\n",
        "elif grade == 'G':\n",
        "  print(\"You have chosen : Good\")\n",
        "\n",
        "elif grade == 'A':\n",
        "  print(\"You have chosen : Average\")\n",
        "\n",
        "elif grade == 'F' :\n",
        "  print(\"You have chosen : Fail\")"
      ],
      "metadata": {
        "colab": {
          "base_uri": "https://localhost:8080/"
        },
        "id": "Qx4WGINVRUmz",
        "outputId": "62e0803f-c3c1-49a5-ba6c-d282ce66feac"
      },
      "execution_count": null,
      "outputs": [
        {
          "output_type": "stream",
          "name": "stdout",
          "text": [
            "Input the grade : A\n",
            "You have chosen : Average\n"
          ]
        }
      ]
    },
    {
      "cell_type": "markdown",
      "source": [
        "21."
      ],
      "metadata": {
        "id": "puxHeD0lTmMS"
      }
    },
    {
      "cell_type": "code",
      "source": [
        "day=int(input(\"Enter a number: \"))\n",
        "\n",
        "if day==1:\n",
        "  print(\"Monday\")\n",
        "\n",
        "elif day==2:\n",
        "  print(\"Tuesday\")\n",
        "\n",
        "elif day==3:\n",
        "  print(\"Wednesday\")\n",
        "\n",
        "elif day==4:\n",
        "  print(\"Thursday\")\n",
        "\n",
        "elif day==5:\n",
        "  print(\"Friday\")\n",
        "\n",
        "elif day==6:\n",
        "  print(\"Saturday\")\n",
        "\n",
        "elif day==7:\n",
        "  print(\"Sunday\")"
      ],
      "metadata": {
        "colab": {
          "base_uri": "https://localhost:8080/"
        },
        "id": "THVllrQwTnMt",
        "outputId": "f9c82ba8-599c-477c-e3be-4e2667f43dbc"
      },
      "execution_count": null,
      "outputs": [
        {
          "output_type": "stream",
          "name": "stdout",
          "text": [
            "Enter a number: 4\n",
            "Thursday\n"
          ]
        }
      ]
    },
    {
      "cell_type": "markdown",
      "source": [
        "22."
      ],
      "metadata": {
        "id": "U6w_35n6U3aK"
      }
    },
    {
      "cell_type": "code",
      "source": [
        "digit=int(input(\"Enter a number: \"))\n",
        "\n",
        "if digit==1:\n",
        "  print(\"One\")\n",
        "\n",
        "elif digit==2:\n",
        "  print(\"Two\")\n",
        "\n",
        "elif digit==3:\n",
        "  print(\"Three\")\n",
        "\n",
        "elif digit==4:\n",
        "  print(\"Four\")\n",
        "\n",
        "elif digit==5:\n",
        "  print(\"Five\")\n",
        "\n",
        "elif digit==6:\n",
        "  print(\"Six\")\n",
        "\n",
        "elif digit==7:\n",
        "  print(\"Seven\")\n",
        "\n",
        "elif digit==8:\n",
        "  print(\"Eight\")\n",
        "\n",
        "elif digit==9:\n",
        "  print(\"Nine\")\n",
        "\n",
        "elif digit==0:\n",
        "  print(\"Zero\")"
      ],
      "metadata": {
        "colab": {
          "base_uri": "https://localhost:8080/"
        },
        "id": "eLWxGY1TU4nx",
        "outputId": "e59633a1-7646-4b55-e4ff-5cbcb899b99b"
      },
      "execution_count": null,
      "outputs": [
        {
          "output_type": "stream",
          "name": "stdout",
          "text": [
            "Enter a number: 4\n",
            "Four\n"
          ]
        }
      ]
    },
    {
      "cell_type": "markdown",
      "source": [
        "23."
      ],
      "metadata": {
        "id": "3vnxgK5NVaHW"
      }
    },
    {
      "cell_type": "code",
      "source": [
        "month=int(input(\"Enter a number: \"))\n",
        "\n",
        "if month==1:\n",
        "  print(\"January\")\n",
        "\n",
        "elif month==2:\n",
        "  print(\"February\")\n",
        "\n",
        "elif month==3:\n",
        "  print(\"March\")\n",
        "\n",
        "elif month==4:\n",
        "  print(\"April\")\n",
        "\n",
        "elif month==5:\n",
        "  print(\"May\")\n",
        "\n",
        "elif month==6:\n",
        "  print(\"June\")\n",
        "\n",
        "elif month==7:\n",
        "  print(\"July\")\n",
        "\n",
        "elif month==8:\n",
        "  print(\"August\")\n",
        "\n",
        "elif month==9:\n",
        "  print(\"September\")\n",
        "\n",
        "elif month==10:\n",
        "  print(\"October\")\n",
        "\n",
        "elif month==11:\n",
        "  print(\"November\")\n",
        "\n",
        "elif month==12:\n",
        "  print(\"December\")"
      ],
      "metadata": {
        "colab": {
          "base_uri": "https://localhost:8080/"
        },
        "id": "kiJRhVxTVbDV",
        "outputId": "477ce701-f42c-4de1-d329-69a5744d6f7d"
      },
      "execution_count": null,
      "outputs": [
        {
          "output_type": "stream",
          "name": "stdout",
          "text": [
            "Enter a number: 4\n",
            "April\n"
          ]
        }
      ]
    },
    {
      "cell_type": "markdown",
      "source": [
        "24."
      ],
      "metadata": {
        "id": "OYQdeMYmWHCw"
      }
    },
    {
      "cell_type": "code",
      "source": [
        "month=int(input(\"Enter a number: \"))\n",
        "\n",
        "if month == 1 or month==3 or month==5 or month==7 or month==9 or month==11:\n",
        "  print(\"Month have 31 days\")\n",
        "\n",
        "elif month==4 or month==6 or month==8 or month==10 or month==12:\n",
        "  print(\"Month have 30 days\")\n",
        "\n",
        "else:\n",
        "  print(\"Month have 28 days if not leap year else it has 29 days\")"
      ],
      "metadata": {
        "colab": {
          "base_uri": "https://localhost:8080/"
        },
        "id": "Um49cPpbWIhN",
        "outputId": "fa40705f-7cf3-4173-ec5c-c8830de5c4ef"
      },
      "execution_count": null,
      "outputs": [
        {
          "output_type": "stream",
          "name": "stdout",
          "text": [
            "Enter a number: 7\n",
            "Month have 31 days\n"
          ]
        }
      ]
    },
    {
      "cell_type": "markdown",
      "source": [
        "25."
      ],
      "metadata": {
        "id": "usqRk1MYnyVm"
      }
    },
    {
      "cell_type": "code",
      "source": [
        "while True:\n",
        "  print(\"Enter your Geometrical Shape Choice: \")\n",
        "  print(\"1.Circle\")\n",
        "  print(\"2.Square\")\n",
        "  print(\"3.Rectangle\")\n",
        "  print(\"4.Triangle\")\n",
        "  print(\"0.Exit\")\n",
        "\n",
        "  choice = int(input(\"Enter your choice: \"))\n",
        "  if choice==0:\n",
        "    break\n",
        "\n",
        "  elif choice==1:\n",
        "    rad = int(input(\"Enter Radius of a cirle: \"))\n",
        "    circle = 3.1415 * (rad**2)\n",
        "    print(\"Area of Circle : \",circle)\n",
        "\n",
        "  elif choice==2:\n",
        "    side = int(input(\"Enter side of sqaure: \"))\n",
        "    square = side*side\n",
        "    print(\"Area of Square : \",square)\n",
        "\n",
        "  elif choice==3:\n",
        "    length = int(input(\"Enter length of rectangle: \"))\n",
        "    breadth = int(input(\"Enter breadth of rectangle: \"))\n",
        "    rectangle = length*breadth\n",
        "    print(\"Area of Rectangle :\",rectangle)\n",
        "\n",
        "  elif choice==4:\n",
        "    base = int(input(\"Enter Base of Triangle: \"))\n",
        "    height = int(input(\"Enter Height of Triangle: \"))\n",
        "    triangle = 0.5 * base * height\n",
        "    print(\"Are of Triangle: \",triangle)\n"
      ],
      "metadata": {
        "colab": {
          "base_uri": "https://localhost:8080/"
        },
        "id": "aBmKcn8Pnzhp",
        "outputId": "27ca2ae1-8366-462e-aef5-54f179485684"
      },
      "execution_count": null,
      "outputs": [
        {
          "name": "stdout",
          "output_type": "stream",
          "text": [
            "Enter your Geometrical Shape Choice: \n",
            "1.Circle\n",
            "2.Square\n",
            "3.Rectangle\n",
            "4.Triangle\n",
            "0.Exit\n",
            "Enter your choice: 1\n",
            "Enter Radius of a cirle: 12\n",
            "Area of Circle :  452.37600000000003\n",
            "Enter your Geometrical Shape Choice: \n",
            "1.Circle\n",
            "2.Square\n",
            "3.Rectangle\n",
            "4.Triangle\n",
            "0.Exit\n",
            "Enter your choice: 2\n",
            "Enter side of sqaure: 4\n",
            "Area of Square :  16\n",
            "Enter your Geometrical Shape Choice: \n",
            "1.Circle\n",
            "2.Square\n",
            "3.Rectangle\n",
            "4.Triangle\n",
            "0.Exit\n",
            "Enter your choice: 0\n"
          ]
        }
      ]
    },
    {
      "cell_type": "markdown",
      "source": [
        "26."
      ],
      "metadata": {
        "id": "vt-JadxLqYoX"
      }
    },
    {
      "cell_type": "code",
      "source": [
        "while True:\n",
        "  print(\"Enter your Choice: \")\n",
        "  print(\"1.Addition\")\n",
        "  print(\"2.Subtraction\")\n",
        "  print(\"3.Multiplication\")\n",
        "  print(\"4.Division\")\n",
        "  print(\"5.Exponent\")\n",
        "  print(\"0.Exit\")\n",
        "\n",
        "  choice = int(input(\"Enter your choice: \"))\n",
        "  \n",
        "  if choice==1:\n",
        "    num1 = int(input(\"Enter number1 :\"))\n",
        "    num2 = int(input(\"Enter number2 :\"))\n",
        "    print(num1,\" + \",num2,\" = \",num1+num2)\n",
        "\n",
        "  elif choice==2:\n",
        "    num1 = int(input(\"Enter number1 :\"))\n",
        "    num2 = int(input(\"Enter number2 :\"))\n",
        "    print(num1,\" - \",num2,\" = \",num1-num2)\n",
        "\n",
        "  elif choice==3:\n",
        "    num1 = int(input(\"Enter number1 :\"))\n",
        "    num2 = int(input(\"Enter number2 :\"))\n",
        "    print(num1,\" * \",num2,\" = \",num1*num2)\n",
        "\n",
        "  elif choice==4:\n",
        "    num1 = int(input(\"Enter number1 :\"))\n",
        "    num2 = int(input(\"Enter number2 :\"))\n",
        "    print(num1,\" / \",num2,\" = \",num1/num2)\n",
        "\n",
        "  elif choice==5:\n",
        "    num1 = int(input(\"Enter number1 :\"))\n",
        "    num2 = int(input(\"Enter number2 :\"))\n",
        "    print(num1,\" ** \",num2,\" = \",num1**num2)\n",
        "\n",
        "  elif choice==0:\n",
        "    break"
      ],
      "metadata": {
        "colab": {
          "base_uri": "https://localhost:8080/"
        },
        "id": "Ven2QHfYqaiI",
        "outputId": "39abdbdb-d752-40dd-d136-10ecc129fd07"
      },
      "execution_count": null,
      "outputs": [
        {
          "name": "stdout",
          "output_type": "stream",
          "text": [
            "Enter your Choice: \n",
            "1.Addition\n",
            "2.Subtraction\n",
            "3.Multiplication\n",
            "4.Division\n",
            "5.Exponent\n",
            "0.Exit\n",
            "Enter your choice: 1\n",
            "Enter number1 :2\n",
            "Enter number2 :2\n",
            "2  +  2  =  4\n",
            "Enter your Choice: \n",
            "1.Addition\n",
            "2.Subtraction\n",
            "3.Multiplication\n",
            "4.Division\n",
            "5.Exponent\n",
            "0.Exit\n",
            "Enter your choice: 3\n",
            "Enter number1 :5\n",
            "Enter number2 :2\n",
            "5  *  2  =  10\n",
            "Enter your Choice: \n",
            "1.Addition\n",
            "2.Subtraction\n",
            "3.Multiplication\n",
            "4.Division\n",
            "5.Exponent\n",
            "0.Exit\n",
            "Enter your choice: 0\n"
          ]
        }
      ]
    }
  ]
}