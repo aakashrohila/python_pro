{
  "nbformat": 4,
  "nbformat_minor": 0,
  "metadata": {
    "colab": {
      "provenance": [],
      "collapsed_sections": [],
      "authorship_tag": "ABX9TyOS9Ue7nbsImMvs8vTbPnMl",
      "include_colab_link": true
    },
    "kernelspec": {
      "name": "python3",
      "display_name": "Python 3"
    },
    "language_info": {
      "name": "python"
    }
  },
  "cells": [
    {
      "cell_type": "markdown",
      "metadata": {
        "id": "view-in-github",
        "colab_type": "text"
      },
      "source": [
        "<a href=\"https://colab.research.google.com/github/aakashrohila/python_pro/blob/master/Bank_OOPs.ipynb\" target=\"_parent\"><img src=\"https://colab.research.google.com/assets/colab-badge.svg\" alt=\"Open In Colab\"/></a>"
      ]
    },
    {
      "cell_type": "markdown",
      "source": [
        "# **Design 1 : Student Level**\n",
        "Input in Method"
      ],
      "metadata": {
        "id": "-Vps8-FaXN-K"
      }
    },
    {
      "cell_type": "code",
      "source": [
        "class Bank:\n",
        "  account_no = 10000\n",
        "  user_info = {}\n",
        "\n",
        "  def create_Account(self):\n",
        "    self.name = input(\"Enter your Full Name: \")\n",
        "    print(\"Hello \",self.name)\n",
        "    print(\"Minimum Value to deposit in Bank in Rs1000 \")\n",
        "\n",
        "    self.amount = int(input(\"Enter Amount you want to Deposit: \"))\n",
        "\n",
        "    if self.amount < 1000:\n",
        "      print(\"Sorry, you need to deposit at least Rs 1000 to create an account\")\n",
        "    \n",
        "    else:\n",
        "      print(\"Thankyou,\",self.name,\"Your Account has been Created\")\n",
        "      Bank.account_no += 1\n",
        "      print(\"Your Account Number is\",Bank.account_no)\n",
        "      print(\"Your Current Balance is\",self.amount)\n",
        "      Bank.user_info[Bank.account_no] = [self.name, self.amount]\n",
        "      print()\n",
        "\n",
        "\n",
        "  def withdraw(self):\n",
        "    #Check Start\n",
        "    acn_no = int(input(\"Please Enter Your Account Number: \"))\n",
        "\n",
        "    if acn_no not in Bank.user_info.keys():\n",
        "      print(\"Entered Account Number is not valid\")\n",
        "\n",
        "    else:\n",
        "      print(\"Entered Account Number is Valid\")\n",
        "    #Check Complete\n",
        "      print('Welcome',Bank.user_info[acn_no][0],'your balance is',Bank.user_info[acn_no][1])\n",
        "      w_amount = int(input(\"Please enter amount value you want to withdraw \"))\n",
        "\n",
        "      if Bank.user_info[acn_no][1] - w_amount < 1000:\n",
        "        print(\"Withdrawal amount exceeds current Balance\")\n",
        "        print(\"Sorry you need to maintain minimum balance of Rs1000 in your account\")\n",
        "\n",
        "      elif w_amount>0:\n",
        "        Bank.user_info[acn_no][1] = Bank.user_info[acn_no][1] - w_amount\n",
        "        print(\"Thankyou for using Karorpati Bank\")\n",
        "        print(w_amount,\"was withdrawn from your account\")\n",
        "        print(\"Remaining Balance :\",Bank.user_info[acn_no][1])\n",
        "        print()\n",
        "\n",
        "      else:\n",
        "        print(\"Please Enter Valid Input\")\n",
        "        print()\n",
        "\n",
        "  def deposit(self):\n",
        "    #Check Start\n",
        "    acn_no = int(input(\"Please Enter Your Account Number: \"))\n",
        "\n",
        "    if acn_no not in Bank.user_info.keys():\n",
        "      print(\"Entered Account Number is not valid\")\n",
        "\n",
        "    else:\n",
        "      print(\"Entered Account Number is Valid\")\n",
        "    #Check Complete\n",
        "      print(\"Welcome\",Bank.user_info[acn_no][0])\n",
        "      d_amount = int(input(\"Please Enter amount you want to Deposit\"))\n",
        "\n",
        "      if d_amount>0:\n",
        "        print(d_amount,\"has been deposited in your account\")\n",
        "        Bank.user_info[acn_no][1] = d_amount + Bank.user_info[acn_no][1]\n",
        "        print(\"Current Updated Balance\",Bank.user_info[acn_no][1])\n",
        "        print()\n",
        "\n",
        "      else:\n",
        "        print(\"Please Enter Valid Input\")\n",
        "        print()\n",
        "\n",
        "  def balance_check(self):\n",
        "    \n",
        "    #Check Start\n",
        "    acn_no = int(input(\"Please Enter Your Account Number: \"))\n",
        "\n",
        "    if acn_no not in Bank.user_info.keys():\n",
        "      print(\"Entered Account Number is not valid\")\n",
        "      print()\n",
        "\n",
        "    else:\n",
        "      print(\"Entered Account Number is Valid\")\n",
        "    #Check Complete\n",
        "      print(\"Welcome\",Bank.user_info[acn_no][0])\n",
        "      print(\"Your Current Balance is: \",Bank.user_info[acn_no][1])\n",
        "      print()\n"
      ],
      "metadata": {
        "id": "f82eYI8AFq-h"
      },
      "execution_count": 1,
      "outputs": []
    },
    {
      "cell_type": "code",
      "source": [
        "while True:\n",
        "  print(\"$$$$$$$$$$$$$$$$$$$$$ Welcome to Karorpati Bank $$$$$$$$$$$$$$$$$$$$$\")\n",
        "  print()\n",
        "  print(\"Please Enter your choice :\")\n",
        "  print(\"1. Create Account\")\n",
        "  print(\"2. Withdraw\")\n",
        "  print(\"3. Deposit\")\n",
        "  print(\"4. Balance Check\")\n",
        "  print(\"5.Cancel\")\n",
        "  value = int(input())\n",
        "  \n",
        "  bank_instance = Bank()\n",
        "  if value== 5 :\n",
        "    print(\"Thankyou for using Karorpati Bank\")\n",
        "    break\n",
        "\n",
        "  elif value==1:\n",
        "    bank_instance.create_Account()\n",
        "\n",
        "  elif value == 2:\n",
        "    bank_instance.withdraw()\n",
        "\n",
        "  elif value == 3:\n",
        "    bank_instance.deposit()\n",
        "  \n",
        "  elif value == 4:\n",
        "    bank_instance.balance_check()"
      ],
      "metadata": {
        "colab": {
          "base_uri": "https://localhost:8080/"
        },
        "id": "4TPW_wxsVFOO",
        "outputId": "ff23d54d-68e6-48f2-ec9f-77a01eaa7591"
      },
      "execution_count": 3,
      "outputs": [
        {
          "output_type": "stream",
          "name": "stdout",
          "text": [
            "$$$$$$$$$$$$$$$$$$$$$ Welcome to Karorpati Bank $$$$$$$$$$$$$$$$$$$$$\n",
            "\n",
            "Please Enter your choice :\n",
            "1. Create Account\n",
            "2. Withdraw\n",
            "3. Deposit\n",
            "4. Balance Check\n",
            "5.Cancel\n",
            "5\n",
            "Thankyou for using Karorpati Bank\n"
          ]
        }
      ]
    },
    {
      "cell_type": "markdown",
      "source": [
        "# **Design 2: Professional Level**\n",
        "Read from script and Pass in Method"
      ],
      "metadata": {
        "id": "qig1GZsxXXyw"
      }
    },
    {
      "cell_type": "code",
      "source": [],
      "metadata": {
        "id": "cRzeX6d7XfKD"
      },
      "execution_count": null,
      "outputs": []
    }
  ]
}