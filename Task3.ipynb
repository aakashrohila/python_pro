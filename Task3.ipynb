{
  "nbformat": 4,
  "nbformat_minor": 0,
  "metadata": {
    "colab": {
      "provenance": []
    },
    "kernelspec": {
      "name": "python3",
      "display_name": "Python 3"
    },
    "language_info": {
      "name": "python"
    }
  },
  "cells": [
    {
      "cell_type": "markdown",
      "source": [
        "https://www.hackerrank.com/challenges/weather-observation-station-9/problem?isFullScreen=true"
      ],
      "metadata": {
        "id": "1O8u_KXFOiw3"
      }
    },
    {
      "cell_type": "code",
      "execution_count": null,
      "metadata": {
        "id": "etE-97yBN6aV"
      },
      "outputs": [],
      "source": [
        "select distinct city\n",
        "from station\n",
        "where left(city,1) not in ('a','e','i','o','u');"
      ]
    },
    {
      "cell_type": "markdown",
      "source": [
        "https://www.hackerrank.com/challenges/weather-observation-station-10/problem?isFullScreen=true"
      ],
      "metadata": {
        "id": "wUG-0QrTOmoR"
      }
    },
    {
      "cell_type": "code",
      "source": [
        "select distinct city\n",
        "from station\n",
        "where right(city,1) not in ('a','e','i','o','u') "
      ],
      "metadata": {
        "id": "snlsOxaCOoKe"
      },
      "execution_count": null,
      "outputs": []
    },
    {
      "cell_type": "markdown",
      "source": [
        "1. Write a Python function that prints out the first n rows of Pascal's triangle."
      ],
      "metadata": {
        "id": "FmEGzSGvOp6p"
      }
    },
    {
      "cell_type": "code",
      "source": [
        "def pascal_printer(n):\n",
        "    list1 = [1]\n",
        "\n",
        "    for i in range(n):\n",
        "        list2 = []\n",
        "        print(list1)\n",
        "        list2 = [0] + list1 + [0]\n",
        "        list1 = []\n",
        "        for j in range(len(list2)-1):\n",
        "            list1.append(list2[j] + list2[j+1])\n",
        "\n",
        "pascal_printer(5)\n",
        "\n",
        "\n"
      ],
      "metadata": {
        "colab": {
          "base_uri": "https://localhost:8080/"
        },
        "id": "SOlJ5G_mOtoD",
        "outputId": "2e5e8dfd-7609-469a-b609-b792267b4354"
      },
      "execution_count": 3,
      "outputs": [
        {
          "output_type": "stream",
          "name": "stdout",
          "text": [
            "[1]\n",
            "[1, 1]\n",
            "[1, 2, 1]\n",
            "[1, 3, 3, 1]\n",
            "[1, 4, 6, 4, 1]\n"
          ]
        }
      ]
    },
    {
      "cell_type": "code",
      "source": [
        "def pascal_printer(n):\n",
        "    for i in range(n):\n",
        "        for j in range(i+1):\n",
        "            temp  = fact(i)/(fact(i-j)*fact(j))\n",
        "            print(int(temp),end=' ')\n",
        "        print()\n",
        "\n",
        "def fact(n):\n",
        "    temp = n\n",
        "    if(n==0 or n==1):\n",
        "        return 1\n",
        "\n",
        "    for i in range(1,n):\n",
        "        n = n*(temp-i)\n",
        "    return n\n",
        "\n",
        "pascal_printer(5)"
      ],
      "metadata": {
        "colab": {
          "base_uri": "https://localhost:8080/"
        },
        "id": "DTl15wVkPMVO",
        "outputId": "f30d4962-beae-4cbc-c24e-ea98adc3f141"
      },
      "execution_count": 23,
      "outputs": [
        {
          "output_type": "stream",
          "name": "stdout",
          "text": [
            "1 \n",
            "1 1 \n",
            "1 2 1 \n",
            "1 3 3 1 \n",
            "1 4 6 4 1 \n"
          ]
        }
      ]
    },
    {
      "cell_type": "markdown",
      "source": [
        "2. Write a Python program to remove the intersection of a 2nd set from the 1st set."
      ],
      "metadata": {
        "id": "Kv9FH6QcZeQT"
      }
    },
    {
      "cell_type": "code",
      "source": [
        "set1 = {1,2,3,4,5,6}\n",
        "\n",
        "set2 = {1,2,2,2,3,4}\n",
        "\n",
        "print(set1 ^ set2)\n"
      ],
      "metadata": {
        "colab": {
          "base_uri": "https://localhost:8080/"
        },
        "id": "ClAitM4SPNXh",
        "outputId": "7e70a6ad-20ee-4144-e466-71b1965a5213"
      },
      "execution_count": 30,
      "outputs": [
        {
          "output_type": "stream",
          "name": "stdout",
          "text": [
            "{5, 6}\n"
          ]
        }
      ]
    },
    {
      "cell_type": "markdown",
      "source": [
        "3. Write a Python program to check a given set has no elements in common with other given set."
      ],
      "metadata": {
        "id": "L1yxZiRxaIjr"
      }
    },
    {
      "cell_type": "code",
      "source": [
        "set1 = {1,2,3,4,5,6}\n",
        "\n",
        "set2 = {12,14,15,16,18}\n",
        "\n",
        "\n",
        "print(set1.isdisjoint(set2))\n",
        "\n",
        "print(len(set1 & set2))"
      ],
      "metadata": {
        "colab": {
          "base_uri": "https://localhost:8080/"
        },
        "id": "ZaMGSYEYSMRS",
        "outputId": "8487b056-a598-482f-bc5f-aed855a1b116"
      },
      "execution_count": 35,
      "outputs": [
        {
          "output_type": "stream",
          "name": "stdout",
          "text": [
            "True\n",
            "0\n"
          ]
        }
      ]
    },
    {
      "cell_type": "code",
      "source": [],
      "metadata": {
        "id": "k7lB5m6Halyg"
      },
      "execution_count": null,
      "outputs": []
    }
  ]
}