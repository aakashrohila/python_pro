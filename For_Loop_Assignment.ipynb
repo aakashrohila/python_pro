{
  "nbformat": 4,
  "nbformat_minor": 0,
  "metadata": {
    "colab": {
      "provenance": [],
      "authorship_tag": "ABX9TyMZXVu8aiFXfteOiejNMibw",
      "include_colab_link": true
    },
    "kernelspec": {
      "name": "python3",
      "display_name": "Python 3"
    },
    "language_info": {
      "name": "python"
    }
  },
  "cells": [
    {
      "cell_type": "markdown",
      "metadata": {
        "id": "view-in-github",
        "colab_type": "text"
      },
      "source": [
        "<a href=\"https://colab.research.google.com/github/aakashrohila/python_pro/blob/master/For_Loop_Assignment.ipynb\" target=\"_parent\"><img src=\"https://colab.research.google.com/assets/colab-badge.svg\" alt=\"Open In Colab\"/></a>"
      ]
    },
    {
      "cell_type": "markdown",
      "source": [
        "1."
      ],
      "metadata": {
        "id": "QNRQE14EwBis"
      }
    },
    {
      "cell_type": "code",
      "execution_count": 2,
      "metadata": {
        "colab": {
          "base_uri": "https://localhost:8080/"
        },
        "id": "iFAySdS0vFZX",
        "outputId": "be20bcfa-3ab1-470c-9139-c9d0d9f43aa5"
      },
      "outputs": [
        {
          "output_type": "stream",
          "name": "stdout",
          "text": [
            "1 2 3 4 5 6 7 8 9 10 "
          ]
        }
      ],
      "source": [
        "for i in range(1,11):\n",
        "  print(i,end=' ')"
      ]
    },
    {
      "cell_type": "markdown",
      "source": [
        "2."
      ],
      "metadata": {
        "id": "z-RzLcD1wD5q"
      }
    },
    {
      "cell_type": "code",
      "source": [
        "sum=0\n",
        "for i in range(1,11):\n",
        "  sum += i\n",
        "print(\"The Sum is :\",sum)"
      ],
      "metadata": {
        "colab": {
          "base_uri": "https://localhost:8080/"
        },
        "id": "weNE6IXav-gQ",
        "outputId": "c4e87dc9-5bf1-4e4f-cc79-8cb32b50b980"
      },
      "execution_count": 3,
      "outputs": [
        {
          "output_type": "stream",
          "name": "stdout",
          "text": [
            "The Sum is : 55\n"
          ]
        }
      ]
    },
    {
      "cell_type": "markdown",
      "source": [
        "3."
      ],
      "metadata": {
        "id": "fR74eNKFy1WP"
      }
    },
    {
      "cell_type": "code",
      "source": [
        "natural = int(input(\"Enter a number n: \"))\n",
        "sum = 0\n",
        "print(\"The first 7 natural numbers is :\")\n",
        "for i in range(1,natural+1):\n",
        "  print(i,end=' ')\n",
        "  sum+= i\n",
        "print()\n",
        "print(\"The Sum of Natural Number upto\",natural,\"terms :\",sum)"
      ],
      "metadata": {
        "colab": {
          "base_uri": "https://localhost:8080/"
        },
        "id": "AXAboL7AwO3v",
        "outputId": "1ef6584a-3d63-4138-94c0-a8f1185b37aa"
      },
      "execution_count": 7,
      "outputs": [
        {
          "output_type": "stream",
          "name": "stdout",
          "text": [
            "Enter a number n: 7\n",
            "The first 7 natural numbers is :\n",
            "1 2 3 4 5 6 7 \n",
            "The Sum of Natural Number upto 7 terms : 28\n"
          ]
        }
      ]
    }
  ]
}