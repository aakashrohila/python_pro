{
  "nbformat": 4,
  "nbformat_minor": 0,
  "metadata": {
    "colab": {
      "provenance": [],
      "authorship_tag": "ABX9TyNatFXFhnoilsTiL5DLrZae",
      "include_colab_link": true
    },
    "kernelspec": {
      "name": "python3",
      "display_name": "Python 3"
    },
    "language_info": {
      "name": "python"
    }
  },
  "cells": [
    {
      "cell_type": "markdown",
      "metadata": {
        "id": "view-in-github",
        "colab_type": "text"
      },
      "source": [
        "<a href=\"https://colab.research.google.com/github/aakashrohila/python_pro/blob/master/For_Loop_Assignment.ipynb\" target=\"_parent\"><img src=\"https://colab.research.google.com/assets/colab-badge.svg\" alt=\"Open In Colab\"/></a>"
      ]
    },
    {
      "cell_type": "markdown",
      "source": [
        "1."
      ],
      "metadata": {
        "id": "QNRQE14EwBis"
      }
    },
    {
      "cell_type": "code",
      "execution_count": null,
      "metadata": {
        "colab": {
          "base_uri": "https://localhost:8080/"
        },
        "id": "iFAySdS0vFZX",
        "outputId": "be20bcfa-3ab1-470c-9139-c9d0d9f43aa5"
      },
      "outputs": [
        {
          "output_type": "stream",
          "name": "stdout",
          "text": [
            "1 2 3 4 5 6 7 8 9 10 "
          ]
        }
      ],
      "source": [
        "for i in range(1,11):\n",
        "  print(i,end=' ')"
      ]
    },
    {
      "cell_type": "markdown",
      "source": [
        "2."
      ],
      "metadata": {
        "id": "z-RzLcD1wD5q"
      }
    },
    {
      "cell_type": "code",
      "source": [
        "sum=0\n",
        "for i in range(1,11):\n",
        "  sum += i\n",
        "print(\"The Sum is :\",sum)"
      ],
      "metadata": {
        "colab": {
          "base_uri": "https://localhost:8080/"
        },
        "id": "weNE6IXav-gQ",
        "outputId": "c4e87dc9-5bf1-4e4f-cc79-8cb32b50b980"
      },
      "execution_count": null,
      "outputs": [
        {
          "output_type": "stream",
          "name": "stdout",
          "text": [
            "The Sum is : 55\n"
          ]
        }
      ]
    },
    {
      "cell_type": "markdown",
      "source": [
        "3."
      ],
      "metadata": {
        "id": "fR74eNKFy1WP"
      }
    },
    {
      "cell_type": "code",
      "source": [
        "natural = int(input(\"Enter a number n: \"))\n",
        "sum = 0\n",
        "print(\"The first 7 natural numbers is :\")\n",
        "for i in range(1,natural+1):\n",
        "  print(i,end=' ')\n",
        "  sum+= i\n",
        "print()\n",
        "print(\"The Sum of Natural Number upto\",natural,\"terms :\",sum)"
      ],
      "metadata": {
        "colab": {
          "base_uri": "https://localhost:8080/"
        },
        "id": "AXAboL7AwO3v",
        "outputId": "1ef6584a-3d63-4138-94c0-a8f1185b37aa"
      },
      "execution_count": null,
      "outputs": [
        {
          "output_type": "stream",
          "name": "stdout",
          "text": [
            "Enter a number n: 7\n",
            "The first 7 natural numbers is :\n",
            "1 2 3 4 5 6 7 \n",
            "The Sum of Natural Number upto 7 terms : 28\n"
          ]
        }
      ]
    },
    {
      "cell_type": "markdown",
      "source": [
        "4."
      ],
      "metadata": {
        "id": "IBGjeHWfzdzu"
      }
    },
    {
      "cell_type": "code",
      "source": [
        "test_run = 1\n",
        "sum = 0\n",
        "print(\"Input the 10 Numbers :\")\n",
        "while test_run != 11 :\n",
        "  #print(\"Number-\",test_run,\":\",end=\"\")\n",
        "  num = int(input(\"Number-\"+str(test_run)+\" :\"))\n",
        "  sum += num\n",
        "  test_run +=1\n",
        "\n",
        "print(\"The sum if 10 no is : \",sum)\n",
        "print(\"The Average is :\",sum/10)\n"
      ],
      "metadata": {
        "colab": {
          "base_uri": "https://localhost:8080/"
        },
        "id": "IloiHfXNzedb",
        "outputId": "29568633-b2bc-4cd2-d1b0-0fc53872ce15"
      },
      "execution_count": null,
      "outputs": [
        {
          "output_type": "stream",
          "name": "stdout",
          "text": [
            "Input the 10 Numbers :\n",
            "Number-1 :1\n",
            "Number-2 :2\n",
            "Number-3 :3\n",
            "Number-4 :4\n",
            "Number-5 :5\n",
            "Number-6 :6\n",
            "Number-7 :7\n",
            "Number-8 :8\n",
            "Number-9 :9\n",
            "Number-10 :10\n",
            "The sum if 10 no is :  55\n",
            "The Average is : 5.5\n"
          ]
        }
      ]
    },
    {
      "cell_type": "markdown",
      "source": [
        "5."
      ],
      "metadata": {
        "id": "lgkEQPmk1EbF"
      }
    },
    {
      "cell_type": "code",
      "source": [
        "terms = int(input(\"Input number of terms : \"))\n",
        "\n",
        "for i in range(1,terms+1):\n",
        "  print(\"Number is : \",i,\"and cube of the\",i,\"is :\",i**3)"
      ],
      "metadata": {
        "colab": {
          "base_uri": "https://localhost:8080/"
        },
        "id": "eIazKDJA0jpC",
        "outputId": "a26aff40-0814-465e-8a71-404757fae5bb"
      },
      "execution_count": null,
      "outputs": [
        {
          "output_type": "stream",
          "name": "stdout",
          "text": [
            "Input number of terms : 5\n",
            "Number is :  1 and cube of the 1 is : 1\n",
            "Number is :  2 and cube of the 2 is : 8\n",
            "Number is :  3 and cube of the 3 is : 27\n",
            "Number is :  4 and cube of the 4 is : 64\n",
            "Number is :  5 and cube of the 5 is : 125\n"
          ]
        }
      ]
    },
    {
      "cell_type": "markdown",
      "source": [
        "6."
      ],
      "metadata": {
        "id": "6orFBDgh10tD"
      }
    },
    {
      "cell_type": "code",
      "source": [
        "num = int(input(\"Input the number (Table to be calculated) : \"))\n",
        "\n",
        "for i in range(1,11):\n",
        "  print(num,\"x\",i,\"=\",num*i)"
      ],
      "metadata": {
        "colab": {
          "base_uri": "https://localhost:8080/"
        },
        "id": "iTd5QSb91pGl",
        "outputId": "0a4329f1-d6b1-4673-ef8e-8d03dc918ca5"
      },
      "execution_count": null,
      "outputs": [
        {
          "output_type": "stream",
          "name": "stdout",
          "text": [
            "Input the number (Table to be calculated) : 15\n",
            "15 x 1 = 15\n",
            "15 x 2 = 30\n",
            "15 x 3 = 45\n",
            "15 x 4 = 60\n",
            "15 x 5 = 75\n",
            "15 x 6 = 90\n",
            "15 x 7 = 105\n",
            "15 x 8 = 120\n",
            "15 x 9 = 135\n",
            "15 x 10 = 150\n"
          ]
        }
      ]
    },
    {
      "cell_type": "markdown",
      "source": [
        "7."
      ],
      "metadata": {
        "id": "d-r68wrM2LJg"
      }
    },
    {
      "cell_type": "code",
      "source": [
        "num = int(input(\"Input upto the table number starting from 1 : \"))\n",
        "\n",
        "for i in range(1,num+1):\n",
        "  print(i,\"x 1\",\"=\",1*i,\",\",end=\" \")"
      ],
      "metadata": {
        "colab": {
          "base_uri": "https://localhost:8080/"
        },
        "id": "JOCJDWgM2Gt_",
        "outputId": "5597f1fa-02f4-4af5-872f-62fb00e8af02"
      },
      "execution_count": null,
      "outputs": [
        {
          "output_type": "stream",
          "name": "stdout",
          "text": [
            "Input upto the table number starting from 1 : 8\n",
            "1 x 1 = 1 , 2 x 1 = 2 , 3 x 1 = 3 , 4 x 1 = 4 , 5 x 1 = 5 , 6 x 1 = 6 , 7 x 1 = 7 , 8 x 1 = 8 , "
          ]
        }
      ]
    },
    {
      "cell_type": "markdown",
      "source": [
        "8."
      ],
      "metadata": {
        "id": "Y63Q5PcV2n2T"
      }
    },
    {
      "cell_type": "code",
      "source": [
        "sum = 0\n",
        "terms = int(input(\"Input number of terms : \"))\n",
        "print(\"The odd numbers are :\",end=' ')\n",
        "for i in range(1,terms*2 +1,2):\n",
        "  sum += i\n",
        "  print(i,end=' ')\n",
        "print()\n",
        "print(\"The Sum of odd Natural Number upto 10 terms : \",sum)"
      ],
      "metadata": {
        "colab": {
          "base_uri": "https://localhost:8080/"
        },
        "id": "uz_Xw8Bm2d7a",
        "outputId": "51d13274-abc7-4549-d9b1-cf83f52a3729"
      },
      "execution_count": null,
      "outputs": [
        {
          "output_type": "stream",
          "name": "stdout",
          "text": [
            "Input number of terms : 10\n",
            "The odd numbers are : 1 3 5 7 9 11 13 15 17 19 \n",
            "The Sum of odd Natural Number upto 10 terms :  100\n"
          ]
        }
      ]
    },
    {
      "cell_type": "markdown",
      "source": [
        "9."
      ],
      "metadata": {
        "id": "yXcUZWhi3fYz"
      }
    },
    {
      "cell_type": "code",
      "source": [
        "for i in range(5):\n",
        "  for j in range(i):\n",
        "    print(\"*\",end=' ')\n",
        "  print()"
      ],
      "metadata": {
        "colab": {
          "base_uri": "https://localhost:8080/"
        },
        "id": "qLSd4U8d3DM7",
        "outputId": "37ee1961-1635-4358-b364-b65c388a1fb6"
      },
      "execution_count": null,
      "outputs": [
        {
          "output_type": "stream",
          "name": "stdout",
          "text": [
            "\n",
            "* \n",
            "* * \n",
            "* * * \n",
            "* * * * \n"
          ]
        }
      ]
    },
    {
      "cell_type": "markdown",
      "source": [
        "10."
      ],
      "metadata": {
        "id": "qx3KqI-e31o2"
      }
    },
    {
      "cell_type": "code",
      "source": [
        "for i in range(5):\n",
        "  for j in range(1,i+1):\n",
        "    print(j,end=' ')\n",
        "  print()"
      ],
      "metadata": {
        "colab": {
          "base_uri": "https://localhost:8080/"
        },
        "id": "byF1F4iE3m3S",
        "outputId": "fa733945-5ffb-47a2-837d-92bbea5da233"
      },
      "execution_count": null,
      "outputs": [
        {
          "output_type": "stream",
          "name": "stdout",
          "text": [
            "\n",
            "1 \n",
            "1 2 \n",
            "1 2 3 \n",
            "1 2 3 4 \n"
          ]
        }
      ]
    },
    {
      "cell_type": "markdown",
      "source": [
        "11."
      ],
      "metadata": {
        "id": "4CCoeG6G4DCv"
      }
    },
    {
      "cell_type": "code",
      "source": [
        "for i in range(1,5):\n",
        "  for j in range(i):\n",
        "    print(i,end=' ')\n",
        "  print()"
      ],
      "metadata": {
        "colab": {
          "base_uri": "https://localhost:8080/"
        },
        "id": "N2TsQHw835Yf",
        "outputId": "8698061a-04be-48cb-ddba-047ce5217072"
      },
      "execution_count": null,
      "outputs": [
        {
          "output_type": "stream",
          "name": "stdout",
          "text": [
            "1 \n",
            "2 2 \n",
            "3 3 3 \n",
            "4 4 4 4 \n"
          ]
        }
      ]
    },
    {
      "cell_type": "markdown",
      "source": [
        "12."
      ],
      "metadata": {
        "id": "ln_1zkY-4CHN"
      }
    },
    {
      "cell_type": "code",
      "source": [
        "count = 1\n",
        "for i in range(1,5):\n",
        "  for j in range(i):\n",
        "    print(count,end=' ')\n",
        "    count+=1\n",
        "  print()"
      ],
      "metadata": {
        "colab": {
          "base_uri": "https://localhost:8080/"
        },
        "id": "9Izfu1ZW4AW8",
        "outputId": "9c087bbb-2c8a-42fe-a0ee-8a73e073a16b"
      },
      "execution_count": null,
      "outputs": [
        {
          "output_type": "stream",
          "name": "stdout",
          "text": [
            "1 \n",
            "2 3 \n",
            "4 5 6 \n",
            "7 8 9 10 \n"
          ]
        }
      ]
    },
    {
      "cell_type": "markdown",
      "source": [
        "13."
      ],
      "metadata": {
        "id": "BeTO_z214Stl"
      }
    },
    {
      "cell_type": "code",
      "source": [
        "space = 3\n",
        "count = 1\n",
        "for i in range(1,5):\n",
        "  temp = space\n",
        "  while temp>0:\n",
        "    print(\" \",end='')\n",
        "    temp-=1\n",
        "  for j in range(i):\n",
        "    print(count,end=' ')\n",
        "    count+=1\n",
        "  print()\n",
        "  space -=1"
      ],
      "metadata": {
        "colab": {
          "base_uri": "https://localhost:8080/"
        },
        "id": "NXknz-4X4Q3-",
        "outputId": "a59ba327-9e03-453c-e8a5-c593102339e9"
      },
      "execution_count": null,
      "outputs": [
        {
          "output_type": "stream",
          "name": "stdout",
          "text": [
            "   1 \n",
            "  2 3 \n",
            " 4 5 6 \n",
            "7 8 9 10 \n"
          ]
        }
      ]
    },
    {
      "cell_type": "markdown",
      "source": [
        "14."
      ],
      "metadata": {
        "id": "y00aeL005t0a"
      }
    },
    {
      "cell_type": "code",
      "source": [
        "space = 3\n",
        "for i in range(1,5):\n",
        "  temp = space\n",
        "  while temp>0:\n",
        "    print(\" \",end='')\n",
        "    temp = temp -1\n",
        "  for j in range(i):\n",
        "    print(\"*\",end=' ')\n",
        "  print()\n",
        "  space = space - 1"
      ],
      "metadata": {
        "colab": {
          "base_uri": "https://localhost:8080/"
        },
        "id": "8AEPEURX4dxL",
        "outputId": "28a3f0a3-cbee-4fcc-d17c-4f54e56c679b"
      },
      "execution_count": null,
      "outputs": [
        {
          "output_type": "stream",
          "name": "stdout",
          "text": [
            "   * \n",
            "  * * \n",
            " * * * \n",
            "* * * * \n"
          ]
        }
      ]
    },
    {
      "cell_type": "markdown",
      "source": [
        "15."
      ],
      "metadata": {
        "id": "mwQ4A6sq6GrI"
      }
    },
    {
      "cell_type": "code",
      "source": [
        "num = int(input(\"Input the number : \"))\n",
        "fact = 1\n",
        "for i in range(num,1,-1):\n",
        "  fact = fact * i\n",
        "print(\"The Factorial of\",num,\"is:\",fact)"
      ],
      "metadata": {
        "colab": {
          "base_uri": "https://localhost:8080/"
        },
        "id": "HtIlaG9S54m2",
        "outputId": "6ad0e4d3-a1ba-4d5a-cf64-fd009aaf1d52"
      },
      "execution_count": null,
      "outputs": [
        {
          "output_type": "stream",
          "name": "stdout",
          "text": [
            "Input the number : 5\n",
            "The Factorial of 5 is: 120\n"
          ]
        }
      ]
    },
    {
      "cell_type": "markdown",
      "source": [
        "16."
      ],
      "metadata": {
        "id": "uardfPPx69WM"
      }
    },
    {
      "cell_type": "code",
      "source": [
        "num = int(input(\"Input number of terms : \"))\n",
        "sum = 0\n",
        "print(\"The even numbers are :\",end='')\n",
        "for i in range(2,num*2 +1 , 2):\n",
        "  print(i,end=' ')\n",
        "  sum += i\n",
        "print()\n",
        "print(\"The Sum of even Natural Number upto 5 terms : \",sum)\n",
        "\n"
      ],
      "metadata": {
        "colab": {
          "base_uri": "https://localhost:8080/"
        },
        "id": "jSf1ehlX67Y3",
        "outputId": "b61d01dc-27dc-40c1-f83d-4cb5b5c9485e"
      },
      "execution_count": null,
      "outputs": [
        {
          "output_type": "stream",
          "name": "stdout",
          "text": [
            "Input number of terms : 5\n",
            "The even numbers are :2 4 6 8 10 \n",
            "The Sum of even Natural Number upto 5 terms :  30\n"
          ]
        }
      ]
    },
    {
      "cell_type": "markdown",
      "source": [
        "17."
      ],
      "metadata": {
        "id": "CbXBoqtg7xNy"
      }
    },
    {
      "cell_type": "code",
      "source": [
        "space = 3\n",
        "for i in range(1,5):\n",
        "  temp = space\n",
        "  while temp > 0:\n",
        "    print(\" \",end='')\n",
        "    temp = temp -1\n",
        "  for j in range(i):\n",
        "    print(i,end=' ')\n",
        "  space = space - 1\n",
        "  print()"
      ],
      "metadata": {
        "colab": {
          "base_uri": "https://localhost:8080/"
        },
        "id": "gfGucZ7K7qGV",
        "outputId": "4d986250-c27b-4b1f-eacb-cb5ee4dcbc0d"
      },
      "execution_count": null,
      "outputs": [
        {
          "output_type": "stream",
          "name": "stdout",
          "text": [
            "   1 \n",
            "  2 2 \n",
            " 3 3 3 \n",
            "4 4 4 4 \n"
          ]
        }
      ]
    },
    {
      "cell_type": "markdown",
      "source": [
        "\n",
        "18."
      ],
      "metadata": {
        "id": "6na_VCQe8Cel"
      }
    },
    {
      "cell_type": "code",
      "source": [
        "x = int(input(\"Input the Value of x :\"))\n",
        "terms = int(input(\"Input the number of terms :\"))\n",
        "sum = 0\n",
        "def fact(n):\n",
        "  if n==0:\n",
        "    return 1\n",
        "  else:\n",
        "    return n*fact(n-1)\n",
        "\n",
        "flag = 1\n",
        "for i in range(0,terms*2,2):\n",
        "  sum+= (x**i/fact(i))*(flag)\n",
        "  flag = flag*(-1)\n",
        "\n",
        "print(\"the sum = \",sum)\n",
        "print(\"Number of terms= \",terms)\n",
        "print(\"Value of x= \",x)"
      ],
      "metadata": {
        "id": "OKkxXQ2P73dI",
        "colab": {
          "base_uri": "https://localhost:8080/"
        },
        "outputId": "5a0c9bbe-049c-4d9b-ac1c-a2a0c4c2ff2d"
      },
      "execution_count": null,
      "outputs": [
        {
          "output_type": "stream",
          "name": "stdout",
          "text": [
            "Input the Value of x :2\n",
            "Input the number of terms :5\n",
            "the sum =  -0.41587301587301595\n",
            "Number of terms=  5\n",
            "Value of x=  2\n"
          ]
        }
      ]
    },
    {
      "cell_type": "markdown",
      "source": [
        "19."
      ],
      "metadata": {
        "id": "PkPpv8-n7__o"
      }
    },
    {
      "cell_type": "code",
      "source": [
        "terms = int(input(\"Enter number of terms: \"))\n",
        "sum = 0\n",
        "for i in range(1,terms+1):\n",
        "  print(\"1/\"+str(i),\"+ \",end='')\n",
        "  sum += 1/i\n",
        "print()\n",
        "print(\"Sum of Series upto 5 terms :\",sum)"
      ],
      "metadata": {
        "colab": {
          "base_uri": "https://localhost:8080/"
        },
        "id": "xONYXpp357Xp",
        "outputId": "fb6a1b29-c389-480d-b861-b4f2041eff43"
      },
      "execution_count": null,
      "outputs": [
        {
          "output_type": "stream",
          "name": "stdout",
          "text": [
            "Enter number of terms: 5\n",
            "1/1 + 1/2 + 1/3 + 1/4 + 1/5 + \n",
            "Sum of Series upto 5 terms : 2.283333333333333\n"
          ]
        }
      ]
    },
    {
      "cell_type": "markdown",
      "source": [
        "20."
      ],
      "metadata": {
        "id": "Bb3N10LL9PFx"
      }
    },
    {
      "cell_type": "code",
      "source": [
        "term = int(input(\"Enter no of rows : \"))\n",
        "space = term - 1\n",
        "for i in range(1,term*2,2):\n",
        "  print(\" \"*space,end='')\n",
        "  print(\"*\"*i)\n",
        "  space = space - 1\n"
      ],
      "metadata": {
        "colab": {
          "base_uri": "https://localhost:8080/"
        },
        "id": "IPkTco_S8uNj",
        "outputId": "fece61af-d1a3-449e-968a-e744c926416a"
      },
      "execution_count": null,
      "outputs": [
        {
          "output_type": "stream",
          "name": "stdout",
          "text": [
            "Enter no of rows : 3\n",
            "  *\n",
            " ***\n",
            "*****\n"
          ]
        }
      ]
    },
    {
      "cell_type": "markdown",
      "source": [
        "21."
      ],
      "metadata": {
        "id": "1YoSZTl9-W_N"
      }
    },
    {
      "cell_type": "code",
      "source": [
        "terms = int(input(\"Enter number of terms : \"))\n",
        "sum = 0\n",
        "num = 9\n",
        "for i in range(1,terms+1):\n",
        "  sum= sum + (10**i - 1)\n",
        "  print(10**i - 1,end=' ')\n",
        "print()\n",
        "print(\"The sum of the series =\",sum)"
      ],
      "metadata": {
        "colab": {
          "base_uri": "https://localhost:8080/"
        },
        "id": "A6UMS6hz-Rz1",
        "outputId": "9a9ebbaa-290a-4bb8-c9ca-7389b626aeb7"
      },
      "execution_count": null,
      "outputs": [
        {
          "output_type": "stream",
          "name": "stdout",
          "text": [
            "Enter number of terms : 5\n",
            "9 99 999 9999 99999 \n",
            "The sum of the series = 111105\n"
          ]
        }
      ]
    },
    {
      "cell_type": "markdown",
      "source": [
        "\n",
        "```\n",
        "1 \n",
        "01\n",
        "101\n",
        "0101\n",
        "```"
      ],
      "metadata": {
        "id": "UgO5sxgd_zW6"
      }
    },
    {
      "cell_type": "code",
      "source": [
        "terms = int(input(\"Enter number of terms: \"))\n",
        "\n",
        "for i in range(terms):\n",
        "  for j in range(i):\n",
        "    print((i+j)%2,end='')\n",
        "  print()"
      ],
      "metadata": {
        "colab": {
          "base_uri": "https://localhost:8080/"
        },
        "id": "6BtBs_wc_frQ",
        "outputId": "369863dc-30a4-49b4-d1fb-d1209e1dac5b"
      },
      "execution_count": null,
      "outputs": [
        {
          "output_type": "stream",
          "name": "stdout",
          "text": [
            "Enter number of terms: 5\n",
            "\n",
            "1\n",
            "01\n",
            "101\n",
            "0101\n"
          ]
        }
      ]
    },
    {
      "cell_type": "markdown",
      "source": [
        "23."
      ],
      "metadata": {
        "id": "4pW6oEL4BAX4"
      }
    },
    {
      "cell_type": "code",
      "source": [
        "def fact(n):\n",
        "  if n==0:\n",
        "    return 1\n",
        "  else:\n",
        "    return n*fact(n-1)\n",
        "\n",
        "\n",
        "x = int(input(\"Enter the value of x :\"))\n",
        "terms = int(input(\"Enter number of terms:\"))\n",
        "sum = 0\n",
        "for i in range(terms):\n",
        "  sum += x**i/fact(i)\n",
        "\n",
        "print(\"The sum is :\",sum)"
      ],
      "metadata": {
        "colab": {
          "base_uri": "https://localhost:8080/"
        },
        "id": "Q6tfsMlbAaSc",
        "outputId": "ce6fd122-8fea-4eac-ea4a-79f22dabd6d7"
      },
      "execution_count": null,
      "outputs": [
        {
          "output_type": "stream",
          "name": "stdout",
          "text": [
            "Enter the value of x :3\n",
            "Enter number of terms:5\n",
            "The sum is : 16.375\n"
          ]
        }
      ]
    },
    {
      "cell_type": "markdown",
      "source": [
        "24."
      ],
      "metadata": {
        "id": "xEhltrZEBylQ"
      }
    },
    {
      "cell_type": "code",
      "source": [
        "x = int(input(\"Enter the number of terms:\"))\n",
        "terms = int(input(\"Enter the number of terms:\"))\n",
        "sum = 0\n",
        "flag = 1\n",
        "for i in range(1,(terms)*2,2):\n",
        "  sum += x**i * flag\n",
        "  print(x**i * flag,'+ ',end='')\n",
        "  flag = flag*(-1)\n",
        "  \n",
        "print()\n",
        "print(\"The Sum is : \",sum)"
      ],
      "metadata": {
        "colab": {
          "base_uri": "https://localhost:8080/"
        },
        "id": "mLQhygEoBu5K",
        "outputId": "4842b950-461b-4155-bd63-cbbe12981f53"
      },
      "execution_count": null,
      "outputs": [
        {
          "output_type": "stream",
          "name": "stdout",
          "text": [
            "Enter the number of terms:2\n",
            "Enter the number of terms:5\n",
            "2 + -8 + 32 + -128 + 512 + \n",
            "The Sum is :  410\n"
          ]
        }
      ]
    },
    {
      "cell_type": "markdown",
      "source": [
        "25."
      ],
      "metadata": {
        "id": "cNwy2CYtC7pc"
      }
    },
    {
      "cell_type": "code",
      "source": [
        "term = int(input(\"Input the number of terms: \"))\n",
        "sum = term*(term+1)*(2*term+1)/6\n",
        "print(\"The square natural upto 5 terms are :\",end='')\n",
        "for i in range(1,term+1):\n",
        "  print(i,end=' ')\n",
        "print()\n",
        "print(\"The Sum of Square Natural Number upto\",term,\"terms =\",sum)"
      ],
      "metadata": {
        "colab": {
          "base_uri": "https://localhost:8080/"
        },
        "id": "d7j78naECeAX",
        "outputId": "e1255aba-19a8-4f1f-932d-d3538fd563cc"
      },
      "execution_count": null,
      "outputs": [
        {
          "output_type": "stream",
          "name": "stdout",
          "text": [
            "Input the number of terms: 5\n",
            "The square natural upto 5 terms are :1 2 3 4 5 \n",
            "The Sum of Square Natural Number upto 5 terms = 55.0\n"
          ]
        }
      ]
    },
    {
      "cell_type": "markdown",
      "source": [
        "26."
      ],
      "metadata": {
        "id": "ZxCaB-_2EBg9"
      }
    },
    {
      "cell_type": "code",
      "source": [
        "terms = int(input(\"Input the number of terms: \"))\n",
        "sum = 0\n",
        "for i in range(1,terms+1):\n",
        "  print(str(1)*i,'+ ',end='')\n",
        "  sum += int(str(1)*i)\n",
        "print()\n",
        "\n",
        "print(\"The Sum is:\",sum)"
      ],
      "metadata": {
        "colab": {
          "base_uri": "https://localhost:8080/"
        },
        "id": "xS744TcgDcz7",
        "outputId": "dc4bda6e-6b85-41e3-ac14-80d0591719a1"
      },
      "execution_count": null,
      "outputs": [
        {
          "output_type": "stream",
          "name": "stdout",
          "text": [
            "Input the number of terms: 5\n",
            "1 + 11 + 111 + 1111 + 11111 + \n",
            "The Sum is: 12345\n"
          ]
        }
      ]
    },
    {
      "cell_type": "markdown",
      "source": [
        "27."
      ],
      "metadata": {
        "id": "wpwhHErLFiq2"
      }
    },
    {
      "cell_type": "code",
      "source": [
        "num = int(input(\"Input the number: \"))\n",
        "flow =[]\n",
        "sum = 0\n",
        "for i in range(1,num):\n",
        "  if num%i == 0:\n",
        "    sum += i\n",
        "    flow = flow + [i]\n",
        "\n",
        "print(\"The positive divisor : \",end='')\n",
        "for i in flow:\n",
        "  print(i,end=' ')\n",
        "\n",
        "print('\\nThe sum of the divisor is :',sum)\n",
        "if sum==num:\n",
        "  print(\"So,the number is perfect.\")\n",
        "\n",
        "else:\n",
        "  print(\"So,the number is not perfect\")"
      ],
      "metadata": {
        "colab": {
          "base_uri": "https://localhost:8080/"
        },
        "id": "BqlyS1sLEefb",
        "outputId": "820d4d35-6d3d-47f6-c8ad-2593871ac091"
      },
      "execution_count": null,
      "outputs": [
        {
          "output_type": "stream",
          "name": "stdout",
          "text": [
            "Input the number: 56\n",
            "The positive divisor : 1 2 4 7 8 14 28 \n",
            "The sum of the divisor is : 64\n",
            "So,the number is not perfect\n"
          ]
        }
      ]
    },
    {
      "cell_type": "markdown",
      "source": [
        "28."
      ],
      "metadata": {
        "id": "UHZ1iwazHNoc"
      }
    },
    {
      "cell_type": "code",
      "source": [
        "def perfect_num(n):\n",
        "  flow = []\n",
        "  sum = 0\n",
        "  for i in range(1,n):\n",
        "    if n%i == 0:\n",
        "      flow += []\n",
        "      sum += i\n",
        "  if sum==n:\n",
        "    print(n,end=' ')\n",
        "\n",
        "start = int(input(\"Input the starting range or number : \"))\n",
        "end = int(input(\"Input the ending range of number : \"))\n",
        "print(\"The Perfect numbers within the given range : \", end = '')\n",
        "for i in range(start,end+1):\n",
        "  perfect_num(i)"
      ],
      "metadata": {
        "colab": {
          "base_uri": "https://localhost:8080/"
        },
        "id": "pKCo8qEPGSwd",
        "outputId": "e6441019-282d-47a7-ca9c-7dcbefff3f74"
      },
      "execution_count": null,
      "outputs": [
        {
          "output_type": "stream",
          "name": "stdout",
          "text": [
            "Input the starting range or number : 1\n",
            "Input the ending range of number : 50\n",
            "The Perfect numbers within the given range : 6 28 "
          ]
        }
      ]
    },
    {
      "cell_type": "markdown",
      "source": [
        "29."
      ],
      "metadata": {
        "id": "FM16dE4zImQG"
      }
    },
    {
      "cell_type": "code",
      "source": [
        "num = int(input(\"Enter a number: \"))\n",
        "sum = 0\n",
        "temp = num\n",
        "while num!=0:\n",
        "  sum = sum + (num%10)**3\n",
        "  num = num//10\n",
        "\n",
        "if sum==temp:\n",
        "  print(temp,\"is an Armstrong number\")\n",
        "\n",
        "else:\n",
        "  print(temp,\"is an Armstrong number\")\n"
      ],
      "metadata": {
        "colab": {
          "base_uri": "https://localhost:8080/"
        },
        "id": "hvrHdm1SIPbj",
        "outputId": "49f4e01b-bc31-42d2-e2fa-8acd2b321234"
      },
      "execution_count": null,
      "outputs": [
        {
          "output_type": "stream",
          "name": "stdout",
          "text": [
            "Enter a number: 153\n",
            "153 is an Armstrong number\n"
          ]
        }
      ]
    },
    {
      "cell_type": "markdown",
      "source": [
        "30."
      ],
      "metadata": {
        "id": "xZXb0WK7MMeg"
      }
    },
    {
      "cell_type": "code",
      "source": [
        "def arm_verifier(n):\n",
        "  temp = n\n",
        "  sum = 0\n",
        "  while n!=0 :\n",
        "    sum = sum + (n%10)**3\n",
        "    n = n//10\n",
        "  if temp==sum:\n",
        "    print(temp,end=' ')\n",
        "\n",
        "start = int(input(\"Input the starting number of range: \"))\n",
        "stop = int(input(\"Input ending number of range: \"))\n",
        "\n",
        "print(\"Armstrong numbers in given range are: \",end='')\n",
        "for i in range(start,stop+1):\n",
        "  \n",
        "  arm_verifier(i)"
      ],
      "metadata": {
        "colab": {
          "base_uri": "https://localhost:8080/"
        },
        "id": "UDyIYvhrKkqx",
        "outputId": "724ec7d2-877e-4bf1-8ff6-63036c4ed1ab"
      },
      "execution_count": null,
      "outputs": [
        {
          "output_type": "stream",
          "name": "stdout",
          "text": [
            "Input the starting number of range: 1\n",
            "Input ending number of range: 1000\n",
            "Armstrong numbers in given range are: 1 153 370 371 407 "
          ]
        }
      ]
    },
    {
      "cell_type": "markdown",
      "source": [
        "31."
      ],
      "metadata": {
        "id": "xIYCq9Y9NFfl"
      }
    },
    {
      "cell_type": "code",
      "source": [
        "count = 1\n",
        "flag = 1\n",
        "space = 4\n",
        "for i in range(10):\n",
        "  if count<=9 and flag==1:\n",
        "    print(\" \"*space,end='')\n",
        "    for j in range(count):\n",
        "      print(\"*\",end='')\n",
        "    print()\n",
        "    count = count + 2\n",
        "    space = space - 1\n",
        "  \n",
        "  if count>9 or flag==0:\n",
        "    if flag==1:\n",
        "      count = count - 4\n",
        "      space = space + 2\n",
        "    print(\" \"*space,end='')\n",
        "    flag = 0\n",
        "    for k in range(count):\n",
        "      print('*',end='')\n",
        "    print()\n",
        "    space = space + 1\n",
        "    count = count - 2"
      ],
      "metadata": {
        "colab": {
          "base_uri": "https://localhost:8080/"
        },
        "id": "Agf11pmdKzs-",
        "outputId": "b73d81a2-a4ca-4807-b5c8-8b0d253235bb"
      },
      "execution_count": null,
      "outputs": [
        {
          "output_type": "stream",
          "name": "stdout",
          "text": [
            "    *\n",
            "   ***\n",
            "  *****\n",
            " *******\n",
            "*********\n",
            " *******\n",
            "  *****\n",
            "   ***\n",
            "    *\n",
            "     \n",
            "      \n"
          ]
        }
      ]
    },
    {
      "cell_type": "markdown",
      "source": [
        "32."
      ],
      "metadata": {
        "id": "yNgrU6I6Fl7X"
      }
    },
    {
      "cell_type": "code",
      "source": [
        "num = int(input(\"Enter a number: \"))\n",
        "flag = 0\n",
        "for i in range(2,num):\n",
        "  if num%i==0:\n",
        "    flag = 1\n",
        "  \n",
        "if flag == 0:\n",
        "  print(num,\"is a prime number.\")\n",
        "\n",
        "else:\n",
        "  print(num,\"is not a prime number.\")"
      ],
      "metadata": {
        "colab": {
          "base_uri": "https://localhost:8080/"
        },
        "id": "r0TUPSLiE1Q9",
        "outputId": "c676673f-7aec-4bb8-af2b-fa3ae0e4b7d6"
      },
      "execution_count": null,
      "outputs": [
        {
          "output_type": "stream",
          "name": "stdout",
          "text": [
            "Enter a number: 29\n",
            "29 is a prime number.\n"
          ]
        }
      ]
    },
    {
      "cell_type": "markdown",
      "source": [
        "33."
      ],
      "metadata": {
        "id": "BDkCmITKGQXt"
      }
    },
    {
      "cell_type": "code",
      "source": [
        "rows = int(input(\"Input number of Rows: \"))\n",
        "\n",
        "def fact(num):\n",
        "  value = 1\n",
        "  while num!=0:\n",
        "    value = value*num\n",
        "    num = num-1\n",
        "  return value\n",
        "\n",
        "def nCr(n,r):\n",
        "   return fact(n)//(fact(r)*fact(n-r))\n",
        "\n",
        "\n",
        "for i in range(rows):\n",
        "  print(\" \"*(rows-i),end='')\n",
        "  for j in range(i+1):\n",
        "    print(nCr(i,j),end=\" \")\n",
        "  print()"
      ],
      "metadata": {
        "colab": {
          "base_uri": "https://localhost:8080/"
        },
        "id": "-XNA7azXGJRf",
        "outputId": "649085ce-dac5-4ad1-a351-844c2ccc0957"
      },
      "execution_count": null,
      "outputs": [
        {
          "output_type": "stream",
          "name": "stdout",
          "text": [
            "Input number of Rows: 4\n",
            "    1 \n",
            "   1 1 \n",
            "  1 2 1 \n",
            " 1 3 3 1 \n"
          ]
        }
      ]
    },
    {
      "cell_type": "markdown",
      "source": [
        "34."
      ],
      "metadata": {
        "id": "sWD1Qfszopn8"
      }
    },
    {
      "cell_type": "code",
      "source": [
        "start = int(input(\"Input Starting number of range: \"))\n",
        "end = int(input(\"Input Ending number of range: \"))\n",
        "\n",
        "print(\"The Prime number between the range\",start,\"and\",end,\"are :\")\n",
        "for i in range(start,end+1):\n",
        "  flag = 0\n",
        "  for j in range(2,i):\n",
        "    if i%j==0:\n",
        "      flag = 1\n",
        "\n",
        "  if flag==0:\n",
        "    print(i,end=' ')\n"
      ],
      "metadata": {
        "colab": {
          "base_uri": "https://localhost:8080/"
        },
        "id": "_S_8PkyKM3o1",
        "outputId": "709a90c6-2c97-466d-dbf1-80c3f3152a9d"
      },
      "execution_count": null,
      "outputs": [
        {
          "output_type": "stream",
          "name": "stdout",
          "text": [
            "Input Starting number of range: 1\n",
            "Input Ending number of range: 50\n",
            "The Prime number between the range 1 and 50 are :\n",
            "1 2 3 5 7 11 13 17 19 23 29 31 37 41 43 47 "
          ]
        }
      ]
    },
    {
      "cell_type": "markdown",
      "source": [
        "35."
      ],
      "metadata": {
        "id": "bgc_IQG1pdTZ"
      }
    },
    {
      "cell_type": "code",
      "source": [
        "num = int(input(\"Input number terms to display : \"))\n",
        "print(\"Here are the Fibonacci series upto\",num,\"terms\")\n",
        "\n",
        "if num==2:\n",
        "  print(0,1,end=\" \")\n",
        "\n",
        "term1 = 0\n",
        "term2 = 1\n",
        "print(term1,term2,end=\" \")\n",
        "for i in range(num-2):\n",
        "  print(term1+term2,end=\" \")\n",
        "  temp = term2\n",
        "  term2 = term1 + term2\n",
        "  term1 = temp\n",
        "\n"
      ],
      "metadata": {
        "id": "XBz7AcVKpahk",
        "colab": {
          "base_uri": "https://localhost:8080/"
        },
        "outputId": "9f19258c-6207-48f8-e389-4255c72634b9"
      },
      "execution_count": 78,
      "outputs": [
        {
          "output_type": "stream",
          "name": "stdout",
          "text": [
            "Input number terms to display : 10\n",
            "Here are the Fibonacci series upto 10 terms\n",
            "0 1 1 2 3 5 8 13 21 34 "
          ]
        }
      ]
    },
    {
      "cell_type": "markdown",
      "source": [
        "36."
      ],
      "metadata": {
        "id": "kB3QRMzyrrbL"
      }
    },
    {
      "cell_type": "code",
      "source": [
        "row = int(input(\"Enter number of rows: \"))\n",
        "count = 1\n",
        "\n",
        "for i in range(1,row*2+1):\n",
        "  if i%2!=0:\n",
        "    print(\" \"*(row-1),end=\"\")\n",
        "    row = row - 1\n",
        "    for j in range(1,i+1):\n",
        "      if j<=count:\n",
        "        print(j,end='')\n",
        "        temp = j\n",
        "      else:\n",
        "        temp = temp - 1\n",
        "        print(temp,end='')\n",
        "    count = count + 1\n",
        "    print()"
      ],
      "metadata": {
        "colab": {
          "base_uri": "https://localhost:8080/"
        },
        "id": "ErsTpyGdrqxd",
        "outputId": "27008e32-2b7e-4f57-bb44-599da9515af6"
      },
      "execution_count": 111,
      "outputs": [
        {
          "output_type": "stream",
          "name": "stdout",
          "text": [
            "Enter number of rows: 6\n",
            "     1\n",
            "    121\n",
            "   12321\n",
            "  1234321\n",
            " 123454321\n",
            "12345654321\n"
          ]
        }
      ]
    },
    {
      "cell_type": "markdown",
      "source": [
        "37."
      ],
      "metadata": {
        "id": "DkvXGNNXypbE"
      }
    },
    {
      "cell_type": "code",
      "source": [
        "num = int(input(\"Input a number :\"))\n",
        "rev = 0\n",
        "print(\"The number in reverse order is:\")\n",
        "for i in range(len(str(num))):\n",
        "  digit = num%10\n",
        "  rev = rev*10 + digit\n",
        "  num = num//10\n",
        "\n",
        "print(rev)"
      ],
      "metadata": {
        "colab": {
          "base_uri": "https://localhost:8080/"
        },
        "id": "cp5F6Z8Sqmr5",
        "outputId": "05ada454-cc5e-4cb1-c8d5-c1bc96d5b350"
      },
      "execution_count": 101,
      "outputs": [
        {
          "output_type": "stream",
          "name": "stdout",
          "text": [
            "Input a number :12345\n",
            "The number in reverse order is:\n",
            "54321\n"
          ]
        }
      ]
    },
    {
      "cell_type": "markdown",
      "source": [
        "38."
      ],
      "metadata": {
        "id": "M71NB9G3zlXy"
      }
    },
    {
      "cell_type": "code",
      "source": [
        "num = int(input(\"Input a number :\"))\n",
        "rev = 0\n",
        "ori_num = num\n",
        "for i in range(len(str(num))):\n",
        "  digit = num%10\n",
        "  rev = rev*10 + digit\n",
        "  num = num//10\n",
        "\n",
        "if rev==ori_num:\n",
        "  print(rev,\"is a palindrome\")\n",
        "else:\n",
        "  print(rev,\"is not a palindrome\")"
      ],
      "metadata": {
        "colab": {
          "base_uri": "https://localhost:8080/"
        },
        "id": "wFn50MXCy3Im",
        "outputId": "e3aa893e-ed00-4665-845e-116026f20a03"
      },
      "execution_count": 103,
      "outputs": [
        {
          "output_type": "stream",
          "name": "stdout",
          "text": [
            "Input a number :121\n",
            "121 is a palindrome\n"
          ]
        }
      ]
    },
    {
      "cell_type": "markdown",
      "source": [
        "39."
      ],
      "metadata": {
        "id": "EjZNG25C0Hik"
      }
    },
    {
      "cell_type": "code",
      "source": [
        "print(\"Numbers between 100 and 200, divisible by 9 :\")\n",
        "sum = 0\n",
        "for i in range(100,201):\n",
        "  if i%9==0:\n",
        "    print(i,end=' ')\n",
        "    sum += i\n",
        "print()\n",
        "print(\"The Sum :\",sum)\n"
      ],
      "metadata": {
        "colab": {
          "base_uri": "https://localhost:8080/"
        },
        "id": "kzDvjGum0A1p",
        "outputId": "e7be140d-f253-4ec9-d465-48713e61ffea"
      },
      "execution_count": 106,
      "outputs": [
        {
          "output_type": "stream",
          "name": "stdout",
          "text": [
            "Numbers between 100 and 200, divisible by 9 :\n",
            "108 117 126 135 144 153 162 171 180 189 198 \n",
            "The Sum : 1683\n"
          ]
        }
      ]
    },
    {
      "cell_type": "markdown",
      "source": [
        "40."
      ],
      "metadata": {
        "id": "-L84wrMR4XOn"
      }
    },
    {
      "cell_type": "code",
      "source": [
        "alpha = 64\n",
        "count = 1\n",
        "space = 3\n",
        "for i in range(8):\n",
        "  if i%2!=0:\n",
        "    print(\" \"*space,end='')\n",
        "    space -= 1\n",
        "    for j in range(1,i+1):\n",
        "      if j<=count:\n",
        "        print(chr(64 + j),end='')\n",
        "        temp = j + 64\n",
        "      else:\n",
        "        temp = temp - 1\n",
        "        print(chr(temp),end='')\n",
        "\n",
        "    count += 1\n",
        "    print()"
      ],
      "metadata": {
        "colab": {
          "base_uri": "https://localhost:8080/"
        },
        "id": "rGiJYBRv08Ec",
        "outputId": "5009081d-35af-4ee2-e786-ebb90126aa13"
      },
      "execution_count": 113,
      "outputs": [
        {
          "output_type": "stream",
          "name": "stdout",
          "text": [
            "   A\n",
            "  ABA\n",
            " ABCBA\n",
            "ABCDCBA\n"
          ]
        }
      ]
    },
    {
      "cell_type": "markdown",
      "source": [
        "41."
      ],
      "metadata": {
        "id": "oNIg1EGw4Zdx"
      }
    },
    {
      "cell_type": "code",
      "source": [
        "num = int(input(\"Input a Decimal Number: \"))\n",
        "rev = 0\n",
        "print(\"Binary number equivalent to said decimal number is: \")\n",
        "while num!=0:\n",
        "\n",
        "  digit = num%2\n",
        "  rev = rev*10 + digit\n",
        "  num = num//2\n",
        "\n",
        "num = 0\n",
        "while rev!=0:\n",
        "  digit = rev%10\n",
        "  num = num*10 + digit\n",
        "  rev = rev//10\n",
        "\n",
        "\n",
        "print(num)"
      ],
      "metadata": {
        "colab": {
          "base_uri": "https://localhost:8080/"
        },
        "id": "7whJ6In61Kwv",
        "outputId": "6366671c-c79a-463b-d7fe-f889922ccfcd"
      },
      "execution_count": 123,
      "outputs": [
        {
          "output_type": "stream",
          "name": "stdout",
          "text": [
            "Input a Decimal Number: 25\n",
            "Binary number equivalent to said decimal number is: \n",
            "11001\n"
          ]
        }
      ]
    },
    {
      "cell_type": "markdown",
      "source": [
        "42."
      ],
      "metadata": {
        "id": "fmneLZQ9G-qO"
      }
    },
    {
      "cell_type": "code",
      "source": [
        "num = int(input(\"Input a Binary Number: \"))\n",
        "decimal_no = 0\n",
        "count = len(str(num)) - 1\n",
        "for i in range(1,len(str(num))+1):\n",
        "  decimal_no += int(str(num)[i-1]) * (2**count)\n",
        "  count = count - 1\n",
        "print(\"The Binary Number :\",num)\n",
        "print(\"The equivalent Decimal Number :\",decimal_no)"
      ],
      "metadata": {
        "colab": {
          "base_uri": "https://localhost:8080/"
        },
        "id": "ZGl2yQu811az",
        "outputId": "e1edde51-ff44-44ef-ace9-ed7d2db3f2a2"
      },
      "execution_count": 132,
      "outputs": [
        {
          "output_type": "stream",
          "name": "stdout",
          "text": [
            "Input a Binary Number: 11001\n",
            "The Binary Number : 11001\n",
            "The equivalent Decimal Number : 25\n"
          ]
        }
      ]
    },
    {
      "cell_type": "markdown",
      "source": [
        "43."
      ],
      "metadata": {
        "id": "r5c4fe5qH5Jv"
      }
    },
    {
      "cell_type": "code",
      "source": [],
      "metadata": {
        "id": "NkCFzjGpDkCI"
      },
      "execution_count": null,
      "outputs": []
    }
  ]
}