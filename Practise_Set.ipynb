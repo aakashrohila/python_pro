{
  "nbformat": 4,
  "nbformat_minor": 0,
  "metadata": {
    "colab": {
      "provenance": [],
      "authorship_tag": "ABX9TyNYP9LgEP46lCNQ10eOTZMe",
      "include_colab_link": true
    },
    "kernelspec": {
      "name": "python3",
      "display_name": "Python 3"
    },
    "language_info": {
      "name": "python"
    }
  },
  "cells": [
    {
      "cell_type": "markdown",
      "metadata": {
        "id": "view-in-github",
        "colab_type": "text"
      },
      "source": [
        "<a href=\"https://colab.research.google.com/github/aakashrohila/python_pro/blob/master/Practise_Set.ipynb\" target=\"_parent\"><img src=\"https://colab.research.google.com/assets/colab-badge.svg\" alt=\"Open In Colab\"/></a>"
      ]
    },
    {
      "cell_type": "markdown",
      "source": [
        "Write a Python program that accepts a string and calculate the number of digits and letters.\n",
        "Sample Data : Python 3.2\n",
        "Expected Output :\n",
        "Letters 6\n",
        "Digits 2\n"
      ],
      "metadata": {
        "id": "mLPFpUPnhggY"
      }
    },
    {
      "cell_type": "code",
      "execution_count": null,
      "metadata": {
        "colab": {
          "base_uri": "https://localhost:8080/"
        },
        "id": "TYjF448LhPr_",
        "outputId": "45d20897-b238-4252-9a54-b2b0a921e12a"
      },
      "outputs": [
        {
          "output_type": "stream",
          "name": "stdout",
          "text": [
            "Enter a string: Python 3.2\n",
            "Letters 6\n",
            "Digits 2\n"
          ]
        }
      ],
      "source": [
        "word = input(\"Enter a string: \")\n",
        "\n",
        "digit_count = 0\n",
        "alpha_count = 0\n",
        "\n",
        "word = [i for i in word]\n",
        "\n",
        "for i in word:\n",
        "\n",
        "  if i.isdigit():\n",
        "    digit_count +=1\n",
        "\n",
        "  if i.isalpha():\n",
        "    alpha_count +=1\n",
        "\n",
        "print(\"Letters\",alpha_count)\n",
        "print(\"Digits\",digit_count)"
      ]
    },
    {
      "cell_type": "markdown",
      "source": [
        "Write a Python program to check a triangle is equilateral, isosceles or scalene \n",
        "Note :\n",
        "An equilateral triangle is a triangle in which all three sides are equal.\n",
        "A scalene triangle is a triangle that has three unequal sides.\n",
        "An isosceles triangle is a triangle with (at least) two equal sides.\n",
        "Expected Output:\n",
        "Input lengths of the triangle sides:                                    \n",
        "x: 6                                                                    \n",
        "y: 8                                                                    \n",
        "z: 12                                                                   \n",
        "Scalene triangle \n"
      ],
      "metadata": {
        "id": "sgpAI2IijI-1"
      }
    },
    {
      "cell_type": "code",
      "source": [
        "x = int(input(\"x: \"))\n",
        "y = int(input(\"y: \"))\n",
        "z = int(input(\"z: \"))\n",
        "\n",
        "if x==y and y==z:\n",
        "  print(\"Equilateral Triangle\")\n",
        "\n",
        "elif x==y or y==z or z==x:\n",
        "  print(\"Isosceles Traingle\")\n",
        "\n",
        "else:\n",
        "  print(\"Scalene Triangle\")"
      ],
      "metadata": {
        "colab": {
          "base_uri": "https://localhost:8080/"
        },
        "id": "t2JPa_1fiATP",
        "outputId": "1a2ea50e-a9c8-457e-d166-f467fc6840b1"
      },
      "execution_count": null,
      "outputs": [
        {
          "output_type": "stream",
          "name": "stdout",
          "text": [
            "x: 6\n",
            "y: 8\n",
            "z: 12\n",
            "Scalene Triangle\n"
          ]
        }
      ]
    },
    {
      "cell_type": "markdown",
      "source": [
        " Write a Python program to construct the following pattern, using a nested loop number. \n",
        "Expected Output:\n",
        "1\n",
        "22\n",
        "333\n",
        "4444\n",
        "55555\n",
        "666666\n",
        "7777777\n",
        "88888888\n",
        "999999999\n"
      ],
      "metadata": {
        "id": "Dvmg-el-jt38"
      }
    },
    {
      "cell_type": "code",
      "source": [
        "for i in range(1,10):\n",
        "  for j in range(i):\n",
        "    print(i,end='')\n",
        "  print()"
      ],
      "metadata": {
        "colab": {
          "base_uri": "https://localhost:8080/"
        },
        "id": "M1_yBIeMjw2H",
        "outputId": "712fa689-3c69-4244-a563-852afeb9d953"
      },
      "execution_count": null,
      "outputs": [
        {
          "output_type": "stream",
          "name": "stdout",
          "text": [
            "1\n",
            "22\n",
            "333\n",
            "4444\n",
            "55555\n",
            "666666\n",
            "7777777\n",
            "88888888\n",
            "999999999\n"
          ]
        }
      ]
    },
    {
      "cell_type": "markdown",
      "source": [
        "Write a Python program to find the most common elements and their counts of a specified text. Original string: lkseropewdssafsdfafkpwe\n",
        "Most common three characters of the said string:\n",
        "[('s', 4), ('e', 3), ('f', 3)]\n"
      ],
      "metadata": {
        "id": "h93FSSx5j_L5"
      }
    },
    {
      "cell_type": "code",
      "source": [
        "word = input(\"Enter String: \")\n",
        "\n",
        "word_set = list(set(word))\n",
        "\n",
        "dicti = {}\n",
        "\n",
        "for i in word_set:\n",
        "  dicti[i] = word.count(i)\n",
        "\n",
        "\n",
        "\n",
        "x = dicti.items()\n",
        "x = sorted(x,key = lambda y:y[1])[::-1]\n",
        "\n",
        "x = [x[0],x[1],x[2]]\n",
        "\n",
        "print(\"Most common three characters of the said string: \")\n",
        "print(x)"
      ],
      "metadata": {
        "colab": {
          "base_uri": "https://localhost:8080/"
        },
        "id": "qoBmhT_9j5ev",
        "outputId": "2bfb7c68-c9b5-4b54-9305-88e9cd8618b8"
      },
      "execution_count": null,
      "outputs": [
        {
          "output_type": "stream",
          "name": "stdout",
          "text": [
            "Enter String: lkseropewdssafsdfafkpwe\n",
            "Most common three characters of the said string: \n",
            "[('s', 4), ('e', 3), ('f', 3)]\n"
          ]
        }
      ]
    },
    {
      "cell_type": "markdown",
      "source": [
        "Write a Python program to compute the sum of first n given prime numbers. \n",
        "Input:\n",
        "n ( n <= 10000). Input 0 to exit the program.\n",
        "Input a number (n<=10000) to compute the sum:(0 to exit)\n",
        "25\n",
        "Sum of first 25 prime numbers:\n",
        "1060\n"
      ],
      "metadata": {
        "id": "ZX6W7X8FnhFj"
      }
    },
    {
      "cell_type": "code",
      "source": [
        "n = int(input(\"Enter a number: \"))\n",
        "\n",
        "while n!=0:\n",
        "\n",
        "  for i in range(\n"
      ],
      "metadata": {
        "id": "calz4pOvkpVo"
      },
      "execution_count": null,
      "outputs": []
    },
    {
      "cell_type": "markdown",
      "source": [
        "Write a Python program to filter a dictionary based on values. \n",
        "Original Dictionary:\n",
        "{'Cierra Vega': 175, 'Alden Cantrell': 180, 'Kierra Gentry': 165, 'Pierre Cox': 190}\n",
        "\n",
        "Marks greater than 170:\n",
        "{'Cierra Vega': 175, 'Alden Cantrell': 180, 'Pierre Cox': 190}\n"
      ],
      "metadata": {
        "id": "X9kxuBpHo98K"
      }
    },
    {
      "cell_type": "code",
      "source": [
        "dicti =  {'Cierra Vega': 175, 'Alden Cantrell': 180, 'Kierra Gentry': 165, 'Pierre Cox': 190}\n",
        "\n",
        "new_dicti={}\n",
        "\n",
        "for key,value in dicti.items():\n",
        "\n",
        "  if value>170:\n",
        "    new_dicti[key] = value\n",
        "\n",
        "print(new_dicti)\n",
        "\n",
        "\n"
      ],
      "metadata": {
        "colab": {
          "base_uri": "https://localhost:8080/"
        },
        "id": "KDezaLlQpAqH",
        "outputId": "0ef652e4-53a5-4aa4-cdd3-8694d4b37aec"
      },
      "execution_count": null,
      "outputs": [
        {
          "output_type": "stream",
          "name": "stdout",
          "text": [
            "{'Cierra Vega': 175, 'Alden Cantrell': 180, 'Pierre Cox': 190}\n"
          ]
        }
      ]
    },
    {
      "cell_type": "markdown",
      "source": [
        "\n",
        "Write a Python program to compute the sum of first n given prime numbers. \n",
        "Input:\n",
        "n ( n <= 10000). Input 0 to exit the program.\n",
        "Input a number (n<=10000) to compute the sum:(0 to exit)\n",
        "25\n",
        "Sum of first 25 prime numbers:\n",
        "1060\n"
      ],
      "metadata": {
        "id": "VJjMf4BPKSI4"
      }
    },
    {
      "cell_type": "code",
      "source": [
        "print(\"Enter a number or enter 0 to exit\")\n",
        "n= int(input(\"enter count of prime number\"))\n",
        "\n",
        "sum = 0\n",
        "i=1\n",
        "sum = 0\n",
        "while n>0:\n",
        "  j = 1\n",
        "  count = 0\n",
        "  while i>=j and n>0:\n",
        "    if i % j == 0:\n",
        "      count += 1\n",
        "    j += 1\n",
        "  \n",
        "  if count ==2 and n>0:\n",
        "    sum = sum + i\n",
        "    n -= 1\n",
        "  i += 1\n",
        "\n",
        "\n",
        "if sum==0:\n",
        "  print(\"Exit\")\n",
        "\n",
        "else:\n",
        "  print(\"Sum of first\",n,\"prime numbers: \",sum)"
      ],
      "metadata": {
        "colab": {
          "base_uri": "https://localhost:8080/"
        },
        "id": "aHMivG05BFGe",
        "outputId": "bbbaf74b-625a-4f63-cc7c-bf6e6f2e9592"
      },
      "execution_count": 7,
      "outputs": [
        {
          "output_type": "stream",
          "name": "stdout",
          "text": [
            "Enter a number or enter 0 to exit\n",
            "enter count of prime number25\n",
            "Sum of first 0 prime numbers:  1060\n"
          ]
        }
      ]
    },
    {
      "cell_type": "code",
      "source": [],
      "metadata": {
        "id": "A5192Pd3KnUW"
      },
      "execution_count": null,
      "outputs": []
    }
  ]
}