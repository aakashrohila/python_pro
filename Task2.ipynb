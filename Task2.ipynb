{
  "nbformat": 4,
  "nbformat_minor": 0,
  "metadata": {
    "colab": {
      "provenance": []
    },
    "kernelspec": {
      "name": "python3",
      "display_name": "Python 3"
    },
    "language_info": {
      "name": "python"
    }
  },
  "cells": [
    {
      "cell_type": "markdown",
      "source": [
        "```\n",
        "1. Write a Python program to get an array buffer information. You can google the answer and along with the code I need 1-2 lines of explanation what is this buffer information.\n",
        "```"
      ],
      "metadata": {
        "id": "0fuNOr5BBXkg"
      }
    },
    {
      "cell_type": "code",
      "execution_count": 5,
      "metadata": {
        "colab": {
          "base_uri": "https://localhost:8080/"
        },
        "id": "TI9_3kd_BKhw",
        "outputId": "27f004b4-5cdc-40ae-e51b-60df4eac1dc5"
      },
      "outputs": [
        {
          "output_type": "stream",
          "name": "stdout",
          "text": [
            "Array buffer start address in memory and number of elements.\n",
            "(140232228867008, 2)\n"
          ]
        }
      ],
      "source": [
        "from array import array\n",
        "a = array(\"I\", (12,25))\n",
        "print(\"Array buffer start address in memory and number of elements.\")\n",
        "print(a.buffer_info())"
      ]
    },
    {
      "cell_type": "markdown",
      "source": [
        "2. Write a Python class named Student with two attributes student_name, marks. Modify the attribute values of the said class and print the original and modified values of the said attributes using setattr and getattr function in Python."
      ],
      "metadata": {
        "id": "NEaEm61WKuws"
      }
    },
    {
      "cell_type": "code",
      "source": [
        "class Student:\n",
        "  student_name = None\n",
        "  marks = None\n",
        "\n",
        "\n",
        "s = Student()\n",
        "\n",
        "print(\"Student Name\", getattr(s,'student_name'))\n",
        "print(\"Student Marks\", getattr(s,'marks'))\n",
        "\n",
        "setattr(s,'student_name','Aakash')\n",
        "setattr(s,'marks',100)\n",
        "\n",
        "\n",
        "print(\"Student Name\", getattr(s,'student_name'))\n",
        "print(\"Student Marks\", getattr(s,'marks'))"
      ],
      "metadata": {
        "colab": {
          "base_uri": "https://localhost:8080/"
        },
        "id": "feiRcO75E3UM",
        "outputId": "a30e5e40-e06c-41c5-9640-4a29dee728e8"
      },
      "execution_count": 17,
      "outputs": [
        {
          "output_type": "stream",
          "name": "stdout",
          "text": [
            "Student Name None\n",
            "Student Marks None\n",
            "Student Name Aakash\n",
            "Student Marks 100\n"
          ]
        }
      ]
    },
    {
      "cell_type": "markdown",
      "source": [
        "```\n",
        "3. Write a Python program to create a dictionary from two lists without losing duplicate values.\n",
        "Sample lists: ['Class-V', 'Class-VI', 'Class-VII', 'Class-VIII'], [1, 2, 2, 3] Expected Output: defaultdict(<class 'set'>, {'Class-V': {1}, 'Class-VI': {2}, 'Class-VII': {2}, 'Class-VIII': {3}})\n",
        "\n",
        "```"
      ],
      "metadata": {
        "id": "RUIzKEXwMu_W"
      }
    },
    {
      "cell_type": "code",
      "source": [
        "list1 =  ['Class-V', 'Class-VI', 'Class-VII', 'Class-VIII']\n",
        "list2 = [1, 2, 5, 3]\n",
        "\n",
        "mt_dict = {}\n",
        "\n",
        "for i,j in zip(list1,list2):\n",
        "  mt_dict[i] = j\n",
        "\n",
        "print(mt_dict)\n",
        "  \n"
      ],
      "metadata": {
        "colab": {
          "base_uri": "https://localhost:8080/"
        },
        "id": "jdaGERXmLEZX",
        "outputId": "59d6e4f4-eaa0-4eb0-a11f-730416dfa9c8"
      },
      "execution_count": 28,
      "outputs": [
        {
          "output_type": "stream",
          "name": "stdout",
          "text": [
            "{'Class-V': 1, 'Class-VI': 2, 'Class-VII': 5, 'Class-VIII': 3}\n"
          ]
        }
      ]
    },
    {
      "cell_type": "markdown",
      "source": [
        "[Weather Obeservation 7](https://www.hackerrank.com/challenges/weather-observation-station-7/problem?isFullScreen=true)"
      ],
      "metadata": {
        "id": "29TWz_bXP9F5"
      }
    },
    {
      "cell_type": "markdown",
      "source": [
        "```\n",
        "select distinct(city)\n",
        "from station\n",
        "where substr(city,length(city),1) in ('a','e','i','o','u')\n",
        "```"
      ],
      "metadata": {
        "id": "I2yT9ksUP47P"
      }
    },
    {
      "cell_type": "markdown",
      "source": [
        "[Weather Observation Station 8](https://www.hackerrank.com/challenges/weather-observation-station-8/problem?isFullScreen=true)"
      ],
      "metadata": {
        "id": "OWn4wiTMQHsA"
      }
    },
    {
      "cell_type": "markdown",
      "source": [
        "```\n",
        "select distinct(city)\n",
        "from station\n",
        "where  ( (substr(city,1,1) in ('a','e','i','o','u') ) and \n",
        "        ( substr(city,length(city),1)) in ('a','e','i','o','u') );\n",
        "```"
      ],
      "metadata": {
        "id": "Rb3Xcv1KQIS0"
      }
    }
  ]
}