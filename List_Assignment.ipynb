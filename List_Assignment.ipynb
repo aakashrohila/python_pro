{
  "nbformat": 4,
  "nbformat_minor": 0,
  "metadata": {
    "colab": {
      "provenance": [],
      "authorship_tag": "ABX9TyPONWIRgKFybfv8yQTfr9Ml",
      "include_colab_link": true
    },
    "kernelspec": {
      "name": "python3",
      "display_name": "Python 3"
    },
    "language_info": {
      "name": "python"
    }
  },
  "cells": [
    {
      "cell_type": "markdown",
      "metadata": {
        "id": "view-in-github",
        "colab_type": "text"
      },
      "source": [
        "<a href=\"https://colab.research.google.com/github/aakashrohila/python_pro/blob/master/List_Assignment.ipynb\" target=\"_parent\"><img src=\"https://colab.research.google.com/assets/colab-badge.svg\" alt=\"Open In Colab\"/></a>"
      ]
    },
    {
      "cell_type": "markdown",
      "source": [
        "1."
      ],
      "metadata": {
        "id": "489yKmdLJLrd"
      }
    },
    {
      "cell_type": "code",
      "execution_count": 4,
      "metadata": {
        "colab": {
          "base_uri": "https://localhost:8080/"
        },
        "id": "P882gj5GHVq5",
        "outputId": "feb42829-683f-479d-cc0e-577f9a466abf"
      },
      "outputs": [
        {
          "output_type": "stream",
          "name": "stdout",
          "text": [
            "Ways to find length of a list\n",
            "1. Traditional Method using counter : 9\n",
            "2.Using len() method : 9\n",
            "3.Using Length Hint method : 9\n"
          ]
        }
      ],
      "source": [
        "flow = [1,2,3,4,5,6,7,8,9]\n",
        "\n",
        "print(\"Ways to find length of a list\")\n",
        "count = 0\n",
        "for i in flow:\n",
        "  count+=1\n",
        "print(\"1. Traditional Method using counter :\",count)\n",
        "print(\"2.Using len() method :\",len(flow))\n",
        "\n",
        "from operator import length_hint\n",
        "\n",
        "print(\"3.Using Length Hint method :\",length_hint(flow))"
      ]
    },
    {
      "cell_type": "markdown",
      "source": [
        "2."
      ],
      "metadata": {
        "id": "5EJJUDSTJN6_"
      }
    },
    {
      "cell_type": "code",
      "source": [
        "a = int(input(\"Enter Number a \"))\n",
        "b = int(input(\"Enter Number b \"))\n",
        "\n",
        "if a > b :\n",
        "  print(a)\n",
        "else:\n",
        "  print(b)"
      ],
      "metadata": {
        "colab": {
          "base_uri": "https://localhost:8080/"
        },
        "id": "o6jtenouJBM_",
        "outputId": "557ffea9-1af8-4329-c393-c502b552eae3"
      },
      "execution_count": 8,
      "outputs": [
        {
          "output_type": "stream",
          "name": "stdout",
          "text": [
            "Enter Number a 2\n",
            "Enter Number b 4\n",
            "4\n"
          ]
        }
      ]
    },
    {
      "cell_type": "markdown",
      "source": [
        "3."
      ],
      "metadata": {
        "id": "ZyiLSmV-KEx3"
      }
    },
    {
      "cell_type": "code",
      "source": [
        "flow = [11,22,33,44,55,66,77,88]\n",
        "print(flow)\n",
        "num = int(input(\"Enter number to check in list :\"))\n",
        "print(num in flow)"
      ],
      "metadata": {
        "colab": {
          "base_uri": "https://localhost:8080/"
        },
        "id": "sGsLgfFOJz4Y",
        "outputId": "5944862e-50c6-4346-dbf8-60e73b61fed7"
      },
      "execution_count": 10,
      "outputs": [
        {
          "output_type": "stream",
          "name": "stdout",
          "text": [
            "[11, 22, 33, 44, 55, 66, 77, 88]\n",
            "Enter number to check in list :33\n",
            "True\n"
          ]
        }
      ]
    },
    {
      "cell_type": "markdown",
      "source": [
        "4."
      ],
      "metadata": {
        "id": "fRnLtLOdKjzr"
      }
    },
    {
      "cell_type": "code",
      "source": [
        "flow = [12,44,2,5,7,33,12,4,12,13,12]\n",
        "num = int(input(\"Enter element to check for count: \"))\n",
        "\n",
        "print(flow.count(num))\n",
        "\n"
      ],
      "metadata": {
        "colab": {
          "base_uri": "https://localhost:8080/"
        },
        "id": "zuNPylvIKfb0",
        "outputId": "710464f1-166b-43fc-f35e-4a6a9b95aadf"
      },
      "execution_count": 11,
      "outputs": [
        {
          "output_type": "stream",
          "name": "stdout",
          "text": [
            "Enter element to check for count: 12\n",
            "4\n"
          ]
        }
      ]
    },
    {
      "cell_type": "markdown",
      "source": [
        "5."
      ],
      "metadata": {
        "id": "537U9pGLLUyW"
      }
    },
    {
      "cell_type": "code",
      "source": [
        "flow = [12,44,23,6,75,2,10]\n",
        "\n",
        "print(\"sum = \",sum(flow))\n",
        "print(\"average = \",sum(flow)/len(flow))"
      ],
      "metadata": {
        "colab": {
          "base_uri": "https://localhost:8080/"
        },
        "id": "P437pIgCLSQO",
        "outputId": "1cb5e7d8-a712-4dec-dbc2-ff371078c973"
      },
      "execution_count": 13,
      "outputs": [
        {
          "output_type": "stream",
          "name": "stdout",
          "text": [
            "sum =  172\n",
            "average =  24.571428571428573\n"
          ]
        }
      ]
    },
    {
      "cell_type": "markdown",
      "source": [
        "7."
      ],
      "metadata": {
        "id": "TlJpvRTaLrys"
      }
    },
    {
      "cell_type": "code",
      "source": [
        "flow = [12,44,23,6,75,2,10]\n",
        "\n",
        "print(sorted(flow)[0])"
      ],
      "metadata": {
        "colab": {
          "base_uri": "https://localhost:8080/"
        },
        "id": "JvbuqID8LnKD",
        "outputId": "8fec3806-e99b-42da-eb34-a7de6767dc48"
      },
      "execution_count": 14,
      "outputs": [
        {
          "output_type": "stream",
          "name": "stdout",
          "text": [
            "2\n"
          ]
        }
      ]
    },
    {
      "cell_type": "markdown",
      "source": [
        "8."
      ],
      "metadata": {
        "id": "BIFPUfsZL3Te"
      }
    },
    {
      "cell_type": "code",
      "source": [
        "flow = [12,44,23,6,75,2,10]\n",
        "flow.sort(reverse = True)\n",
        "print(flow[0])"
      ],
      "metadata": {
        "colab": {
          "base_uri": "https://localhost:8080/"
        },
        "id": "el7gw8QJL2MN",
        "outputId": "3d839bb0-cf22-4075-ea78-3706677e8244"
      },
      "execution_count": 17,
      "outputs": [
        {
          "output_type": "stream",
          "name": "stdout",
          "text": [
            "75\n"
          ]
        }
      ]
    },
    {
      "cell_type": "markdown",
      "source": [
        "9."
      ],
      "metadata": {
        "id": "xss908QqL-A4"
      }
    },
    {
      "cell_type": "code",
      "source": [
        "flow = [12,44,23,6,75,2,10]\n",
        "flow.sort(reverse = True)\n",
        "print(flow[1])"
      ],
      "metadata": {
        "colab": {
          "base_uri": "https://localhost:8080/"
        },
        "id": "jS1OUnCQL85t",
        "outputId": "93de7521-be9d-4444-922e-a3a0f24bb8f8"
      },
      "execution_count": 18,
      "outputs": [
        {
          "output_type": "stream",
          "name": "stdout",
          "text": [
            "44\n"
          ]
        }
      ]
    },
    {
      "cell_type": "markdown",
      "source": [
        "10."
      ],
      "metadata": {
        "id": "MxKM1AmrMNtn"
      }
    },
    {
      "cell_type": "code",
      "source": [
        "flow = [12,44,23,6,75,2,10]\n",
        "flow.sort()\n",
        "print(flow[1])"
      ],
      "metadata": {
        "colab": {
          "base_uri": "https://localhost:8080/"
        },
        "id": "h05zLLLeMMnU",
        "outputId": "367b8a6b-fa3f-41f7-a252-22ccdc5654f8"
      },
      "execution_count": 19,
      "outputs": [
        {
          "output_type": "stream",
          "name": "stdout",
          "text": [
            "6\n"
          ]
        }
      ]
    },
    {
      "cell_type": "markdown",
      "source": [
        "11."
      ],
      "metadata": {
        "id": "HuF4SUCfMSxI"
      }
    },
    {
      "cell_type": "code",
      "source": [
        "flow = [12,33,44,50,62,22,64]\n",
        "print(\"Before Interchange :\",flow)\n",
        "flow[0],flow[-1] = flow[-1],flow[0] \n",
        "print(\"After Interchange :\",flow)"
      ],
      "metadata": {
        "colab": {
          "base_uri": "https://localhost:8080/"
        },
        "id": "09jcANN4MRYu",
        "outputId": "0da30538-8253-4e1e-caea-ca1d2506fab1"
      },
      "execution_count": 21,
      "outputs": [
        {
          "output_type": "stream",
          "name": "stdout",
          "text": [
            "Before Interchange : [12, 33, 44, 50, 62, 22, 64]\n",
            "After Interchange : [64, 33, 44, 50, 62, 22, 12]\n"
          ]
        }
      ]
    },
    {
      "cell_type": "markdown",
      "source": [
        "12."
      ],
      "metadata": {
        "id": "42ftFyLqMm_5"
      }
    },
    {
      "cell_type": "code",
      "source": [
        "flow = [12,33,63,7,74,952,232,5,9]\n",
        "\n",
        "for i in flow:\n",
        "  if i%2==0:\n",
        "    print(i,end=' ')"
      ],
      "metadata": {
        "colab": {
          "base_uri": "https://localhost:8080/"
        },
        "id": "w2LMpqwBMdMy",
        "outputId": "5383a009-60b9-4891-d0ae-90c1a64436a7"
      },
      "execution_count": 22,
      "outputs": [
        {
          "output_type": "stream",
          "name": "stdout",
          "text": [
            "12 74 952 232 "
          ]
        }
      ]
    },
    {
      "cell_type": "markdown",
      "source": [
        "13."
      ],
      "metadata": {
        "id": "zI50dMsiM9al"
      }
    },
    {
      "cell_type": "code",
      "source": [
        "flow = [10,13,12,5,8,16,15]\n",
        "\n",
        "for i in flow:\n",
        "  if i%2 != 0:\n",
        "    print(i,end=' ')"
      ],
      "metadata": {
        "colab": {
          "base_uri": "https://localhost:8080/"
        },
        "id": "mti9_626M7RZ",
        "outputId": "002718ef-e8e1-452f-f603-fc4995265c21"
      },
      "execution_count": 23,
      "outputs": [
        {
          "output_type": "stream",
          "name": "stdout",
          "text": [
            "13 5 15 "
          ]
        }
      ]
    },
    {
      "cell_type": "markdown",
      "source": [
        "14."
      ],
      "metadata": {
        "id": "TxAXC9ARNNdH"
      }
    },
    {
      "cell_type": "code",
      "source": [
        "flow = [12,13,-12,15,-21,65,-75,-9,-53]\n",
        "count_pos = 0\n",
        "count_neg = 0\n",
        "for i in flow:\n",
        "  if i > 0:\n",
        "    count_pos += 1\n",
        "  else:\n",
        "    count_neg += 1\n",
        "\n",
        "print(\"No. of positive:\",count_pos)\n",
        "print(\"No. of negative:\",count_neg)"
      ],
      "metadata": {
        "colab": {
          "base_uri": "https://localhost:8080/"
        },
        "id": "SD0uHzebNLuO",
        "outputId": "7bca5ca8-5ca4-4b1d-d5ac-f6a402b476f7"
      },
      "execution_count": 28,
      "outputs": [
        {
          "output_type": "stream",
          "name": "stdout",
          "text": [
            "No. of positive: 4\n",
            "No. of negative: 5\n"
          ]
        }
      ]
    },
    {
      "cell_type": "markdown",
      "source": [
        "15."
      ],
      "metadata": {
        "id": "XG-wwC4sNw8u"
      }
    },
    {
      "cell_type": "code",
      "source": [
        "flow = [1,4,66,12,523,12,5,12,55,17,12,5]\n",
        "\n",
        "flow = list(set(flow))\n",
        "    \n",
        "print(flow)\n",
        "\n",
        "\n",
        "#print(repeat_list)"
      ],
      "metadata": {
        "colab": {
          "base_uri": "https://localhost:8080/"
        },
        "id": "gE8wXT1BNi5h",
        "outputId": "a93fcdb1-8efd-4ea0-c156-c8b2599bb9fa"
      },
      "execution_count": 7,
      "outputs": [
        {
          "output_type": "stream",
          "name": "stdout",
          "text": [
            "[1, 66, 4, 5, 523, 12, 17, 55]\n"
          ]
        }
      ]
    }
  ]
}